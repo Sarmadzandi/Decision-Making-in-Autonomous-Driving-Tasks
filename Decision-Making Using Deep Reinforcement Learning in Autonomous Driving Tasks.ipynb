{
  "nbformat": 4,
  "nbformat_minor": 0,
  "metadata": {
    "colab": {
      "provenance": [],
      "toc_visible": true
    },
    "kernelspec": {
      "name": "python3",
      "display_name": "Python 3"
    },
    "language_info": {
      "name": "python"
    },
    "gpuClass": "standard",
    "widgets": {
      "application/vnd.jupyter.widget-state+json": {
        "58065855234a44c08c87b86ef06c2bbb": {
          "model_module": "@jupyter-widgets/controls",
          "model_name": "HBoxModel",
          "model_module_version": "1.5.0",
          "state": {
            "_dom_classes": [],
            "_model_module": "@jupyter-widgets/controls",
            "_model_module_version": "1.5.0",
            "_model_name": "HBoxModel",
            "_view_count": null,
            "_view_module": "@jupyter-widgets/controls",
            "_view_module_version": "1.5.0",
            "_view_name": "HBoxView",
            "box_style": "",
            "children": [
              "IPY_MODEL_5e1ec0198b04476783b545b559e9061a",
              "IPY_MODEL_057ee18413d144f8aa33c9d938f2067c",
              "IPY_MODEL_1f9718f3d733430c817f3a03fa268da6"
            ],
            "layout": "IPY_MODEL_a4a7210ae79a414fb55a11f908549524"
          }
        },
        "5e1ec0198b04476783b545b559e9061a": {
          "model_module": "@jupyter-widgets/controls",
          "model_name": "HTMLModel",
          "model_module_version": "1.5.0",
          "state": {
            "_dom_classes": [],
            "_model_module": "@jupyter-widgets/controls",
            "_model_module_version": "1.5.0",
            "_model_name": "HTMLModel",
            "_view_count": null,
            "_view_module": "@jupyter-widgets/controls",
            "_view_module_version": "1.5.0",
            "_view_name": "HTMLView",
            "description": "",
            "description_tooltip": null,
            "layout": "IPY_MODEL_91cc7e406cd7404eac0a189f0ce78ddd",
            "placeholder": "​",
            "style": "IPY_MODEL_8b054bc5e32a42519c9387af7f765186",
            "value": "100%"
          }
        },
        "057ee18413d144f8aa33c9d938f2067c": {
          "model_module": "@jupyter-widgets/controls",
          "model_name": "FloatProgressModel",
          "model_module_version": "1.5.0",
          "state": {
            "_dom_classes": [],
            "_model_module": "@jupyter-widgets/controls",
            "_model_module_version": "1.5.0",
            "_model_name": "FloatProgressModel",
            "_view_count": null,
            "_view_module": "@jupyter-widgets/controls",
            "_view_module_version": "1.5.0",
            "_view_name": "ProgressView",
            "bar_style": "success",
            "description": "",
            "description_tooltip": null,
            "layout": "IPY_MODEL_0e9590a484c14c77a49d56d8cfe9147d",
            "max": 5,
            "min": 0,
            "orientation": "horizontal",
            "style": "IPY_MODEL_4fff8e07796642cb8484511691efb7c5",
            "value": 5
          }
        },
        "1f9718f3d733430c817f3a03fa268da6": {
          "model_module": "@jupyter-widgets/controls",
          "model_name": "HTMLModel",
          "model_module_version": "1.5.0",
          "state": {
            "_dom_classes": [],
            "_model_module": "@jupyter-widgets/controls",
            "_model_module_version": "1.5.0",
            "_model_name": "HTMLModel",
            "_view_count": null,
            "_view_module": "@jupyter-widgets/controls",
            "_view_module_version": "1.5.0",
            "_view_name": "HTMLView",
            "description": "",
            "description_tooltip": null,
            "layout": "IPY_MODEL_6a9e843a309e4f7c8241f906becec472",
            "placeholder": "​",
            "style": "IPY_MODEL_abc4658ec8e44ce5aad06bae4c805d7d",
            "value": " 5/5 [6:29:38&lt;00:00, 4677.19s/it]"
          }
        },
        "a4a7210ae79a414fb55a11f908549524": {
          "model_module": "@jupyter-widgets/base",
          "model_name": "LayoutModel",
          "model_module_version": "1.2.0",
          "state": {
            "_model_module": "@jupyter-widgets/base",
            "_model_module_version": "1.2.0",
            "_model_name": "LayoutModel",
            "_view_count": null,
            "_view_module": "@jupyter-widgets/base",
            "_view_module_version": "1.2.0",
            "_view_name": "LayoutView",
            "align_content": null,
            "align_items": null,
            "align_self": null,
            "border": null,
            "bottom": null,
            "display": null,
            "flex": null,
            "flex_flow": null,
            "grid_area": null,
            "grid_auto_columns": null,
            "grid_auto_flow": null,
            "grid_auto_rows": null,
            "grid_column": null,
            "grid_gap": null,
            "grid_row": null,
            "grid_template_areas": null,
            "grid_template_columns": null,
            "grid_template_rows": null,
            "height": null,
            "justify_content": null,
            "justify_items": null,
            "left": null,
            "margin": null,
            "max_height": null,
            "max_width": null,
            "min_height": null,
            "min_width": null,
            "object_fit": null,
            "object_position": null,
            "order": null,
            "overflow": null,
            "overflow_x": null,
            "overflow_y": null,
            "padding": null,
            "right": null,
            "top": null,
            "visibility": null,
            "width": null
          }
        },
        "91cc7e406cd7404eac0a189f0ce78ddd": {
          "model_module": "@jupyter-widgets/base",
          "model_name": "LayoutModel",
          "model_module_version": "1.2.0",
          "state": {
            "_model_module": "@jupyter-widgets/base",
            "_model_module_version": "1.2.0",
            "_model_name": "LayoutModel",
            "_view_count": null,
            "_view_module": "@jupyter-widgets/base",
            "_view_module_version": "1.2.0",
            "_view_name": "LayoutView",
            "align_content": null,
            "align_items": null,
            "align_self": null,
            "border": null,
            "bottom": null,
            "display": null,
            "flex": null,
            "flex_flow": null,
            "grid_area": null,
            "grid_auto_columns": null,
            "grid_auto_flow": null,
            "grid_auto_rows": null,
            "grid_column": null,
            "grid_gap": null,
            "grid_row": null,
            "grid_template_areas": null,
            "grid_template_columns": null,
            "grid_template_rows": null,
            "height": null,
            "justify_content": null,
            "justify_items": null,
            "left": null,
            "margin": null,
            "max_height": null,
            "max_width": null,
            "min_height": null,
            "min_width": null,
            "object_fit": null,
            "object_position": null,
            "order": null,
            "overflow": null,
            "overflow_x": null,
            "overflow_y": null,
            "padding": null,
            "right": null,
            "top": null,
            "visibility": null,
            "width": null
          }
        },
        "8b054bc5e32a42519c9387af7f765186": {
          "model_module": "@jupyter-widgets/controls",
          "model_name": "DescriptionStyleModel",
          "model_module_version": "1.5.0",
          "state": {
            "_model_module": "@jupyter-widgets/controls",
            "_model_module_version": "1.5.0",
            "_model_name": "DescriptionStyleModel",
            "_view_count": null,
            "_view_module": "@jupyter-widgets/base",
            "_view_module_version": "1.2.0",
            "_view_name": "StyleView",
            "description_width": ""
          }
        },
        "0e9590a484c14c77a49d56d8cfe9147d": {
          "model_module": "@jupyter-widgets/base",
          "model_name": "LayoutModel",
          "model_module_version": "1.2.0",
          "state": {
            "_model_module": "@jupyter-widgets/base",
            "_model_module_version": "1.2.0",
            "_model_name": "LayoutModel",
            "_view_count": null,
            "_view_module": "@jupyter-widgets/base",
            "_view_module_version": "1.2.0",
            "_view_name": "LayoutView",
            "align_content": null,
            "align_items": null,
            "align_self": null,
            "border": null,
            "bottom": null,
            "display": null,
            "flex": null,
            "flex_flow": null,
            "grid_area": null,
            "grid_auto_columns": null,
            "grid_auto_flow": null,
            "grid_auto_rows": null,
            "grid_column": null,
            "grid_gap": null,
            "grid_row": null,
            "grid_template_areas": null,
            "grid_template_columns": null,
            "grid_template_rows": null,
            "height": null,
            "justify_content": null,
            "justify_items": null,
            "left": null,
            "margin": null,
            "max_height": null,
            "max_width": null,
            "min_height": null,
            "min_width": null,
            "object_fit": null,
            "object_position": null,
            "order": null,
            "overflow": null,
            "overflow_x": null,
            "overflow_y": null,
            "padding": null,
            "right": null,
            "top": null,
            "visibility": null,
            "width": null
          }
        },
        "4fff8e07796642cb8484511691efb7c5": {
          "model_module": "@jupyter-widgets/controls",
          "model_name": "ProgressStyleModel",
          "model_module_version": "1.5.0",
          "state": {
            "_model_module": "@jupyter-widgets/controls",
            "_model_module_version": "1.5.0",
            "_model_name": "ProgressStyleModel",
            "_view_count": null,
            "_view_module": "@jupyter-widgets/base",
            "_view_module_version": "1.2.0",
            "_view_name": "StyleView",
            "bar_color": null,
            "description_width": ""
          }
        },
        "6a9e843a309e4f7c8241f906becec472": {
          "model_module": "@jupyter-widgets/base",
          "model_name": "LayoutModel",
          "model_module_version": "1.2.0",
          "state": {
            "_model_module": "@jupyter-widgets/base",
            "_model_module_version": "1.2.0",
            "_model_name": "LayoutModel",
            "_view_count": null,
            "_view_module": "@jupyter-widgets/base",
            "_view_module_version": "1.2.0",
            "_view_name": "LayoutView",
            "align_content": null,
            "align_items": null,
            "align_self": null,
            "border": null,
            "bottom": null,
            "display": null,
            "flex": null,
            "flex_flow": null,
            "grid_area": null,
            "grid_auto_columns": null,
            "grid_auto_flow": null,
            "grid_auto_rows": null,
            "grid_column": null,
            "grid_gap": null,
            "grid_row": null,
            "grid_template_areas": null,
            "grid_template_columns": null,
            "grid_template_rows": null,
            "height": null,
            "justify_content": null,
            "justify_items": null,
            "left": null,
            "margin": null,
            "max_height": null,
            "max_width": null,
            "min_height": null,
            "min_width": null,
            "object_fit": null,
            "object_position": null,
            "order": null,
            "overflow": null,
            "overflow_x": null,
            "overflow_y": null,
            "padding": null,
            "right": null,
            "top": null,
            "visibility": null,
            "width": null
          }
        },
        "abc4658ec8e44ce5aad06bae4c805d7d": {
          "model_module": "@jupyter-widgets/controls",
          "model_name": "DescriptionStyleModel",
          "model_module_version": "1.5.0",
          "state": {
            "_model_module": "@jupyter-widgets/controls",
            "_model_module_version": "1.5.0",
            "_model_name": "DescriptionStyleModel",
            "_view_count": null,
            "_view_module": "@jupyter-widgets/base",
            "_view_module_version": "1.2.0",
            "_view_name": "StyleView",
            "description_width": ""
          }
        },
        "c6cd0aad03b246da9f0c05cd4d8fe4a4": {
          "model_module": "@jupyter-widgets/controls",
          "model_name": "HBoxModel",
          "model_module_version": "1.5.0",
          "state": {
            "_dom_classes": [],
            "_model_module": "@jupyter-widgets/controls",
            "_model_module_version": "1.5.0",
            "_model_name": "HBoxModel",
            "_view_count": null,
            "_view_module": "@jupyter-widgets/controls",
            "_view_module_version": "1.5.0",
            "_view_name": "HBoxView",
            "box_style": "",
            "children": [
              "IPY_MODEL_7fb3b423511f4ee184d4225794afebc2",
              "IPY_MODEL_c54ea85028fb4249a08c8d7d78ab4132",
              "IPY_MODEL_df2c59031400460386fcce1f34daec8d"
            ],
            "layout": "IPY_MODEL_52a210f9401c45dc813c84e1bd6c12e9"
          }
        },
        "7fb3b423511f4ee184d4225794afebc2": {
          "model_module": "@jupyter-widgets/controls",
          "model_name": "HTMLModel",
          "model_module_version": "1.5.0",
          "state": {
            "_dom_classes": [],
            "_model_module": "@jupyter-widgets/controls",
            "_model_module_version": "1.5.0",
            "_model_name": "HTMLModel",
            "_view_count": null,
            "_view_module": "@jupyter-widgets/controls",
            "_view_module_version": "1.5.0",
            "_view_name": "HTMLView",
            "description": "",
            "description_tooltip": null,
            "layout": "IPY_MODEL_7e52f9fab74b4d859b84021e14f44395",
            "placeholder": "​",
            "style": "IPY_MODEL_1aef49be9fc44326a96b50c07fc30ad0",
            "value": "100%"
          }
        },
        "c54ea85028fb4249a08c8d7d78ab4132": {
          "model_module": "@jupyter-widgets/controls",
          "model_name": "FloatProgressModel",
          "model_module_version": "1.5.0",
          "state": {
            "_dom_classes": [],
            "_model_module": "@jupyter-widgets/controls",
            "_model_module_version": "1.5.0",
            "_model_name": "FloatProgressModel",
            "_view_count": null,
            "_view_module": "@jupyter-widgets/controls",
            "_view_module_version": "1.5.0",
            "_view_name": "ProgressView",
            "bar_style": "success",
            "description": "",
            "description_tooltip": null,
            "layout": "IPY_MODEL_bf7d255cecc24ac0aa68d8cbcdd63207",
            "max": 3600,
            "min": 0,
            "orientation": "horizontal",
            "style": "IPY_MODEL_e1530aac2d8847cea9d7bac432bc720d",
            "value": 3600
          }
        },
        "df2c59031400460386fcce1f34daec8d": {
          "model_module": "@jupyter-widgets/controls",
          "model_name": "HTMLModel",
          "model_module_version": "1.5.0",
          "state": {
            "_dom_classes": [],
            "_model_module": "@jupyter-widgets/controls",
            "_model_module_version": "1.5.0",
            "_model_name": "HTMLModel",
            "_view_count": null,
            "_view_module": "@jupyter-widgets/controls",
            "_view_module_version": "1.5.0",
            "_view_name": "HTMLView",
            "description": "",
            "description_tooltip": null,
            "layout": "IPY_MODEL_92c79403a26a46c7b7f98633281abe6e",
            "placeholder": "​",
            "style": "IPY_MODEL_a79afa51c197498492f1be1416c9b199",
            "value": " 3600/3600 [1:18:01&lt;00:00,  1.37s/it]"
          }
        },
        "52a210f9401c45dc813c84e1bd6c12e9": {
          "model_module": "@jupyter-widgets/base",
          "model_name": "LayoutModel",
          "model_module_version": "1.2.0",
          "state": {
            "_model_module": "@jupyter-widgets/base",
            "_model_module_version": "1.2.0",
            "_model_name": "LayoutModel",
            "_view_count": null,
            "_view_module": "@jupyter-widgets/base",
            "_view_module_version": "1.2.0",
            "_view_name": "LayoutView",
            "align_content": null,
            "align_items": null,
            "align_self": null,
            "border": null,
            "bottom": null,
            "display": null,
            "flex": null,
            "flex_flow": null,
            "grid_area": null,
            "grid_auto_columns": null,
            "grid_auto_flow": null,
            "grid_auto_rows": null,
            "grid_column": null,
            "grid_gap": null,
            "grid_row": null,
            "grid_template_areas": null,
            "grid_template_columns": null,
            "grid_template_rows": null,
            "height": null,
            "justify_content": null,
            "justify_items": null,
            "left": null,
            "margin": null,
            "max_height": null,
            "max_width": null,
            "min_height": null,
            "min_width": null,
            "object_fit": null,
            "object_position": null,
            "order": null,
            "overflow": null,
            "overflow_x": null,
            "overflow_y": null,
            "padding": null,
            "right": null,
            "top": null,
            "visibility": null,
            "width": null
          }
        },
        "7e52f9fab74b4d859b84021e14f44395": {
          "model_module": "@jupyter-widgets/base",
          "model_name": "LayoutModel",
          "model_module_version": "1.2.0",
          "state": {
            "_model_module": "@jupyter-widgets/base",
            "_model_module_version": "1.2.0",
            "_model_name": "LayoutModel",
            "_view_count": null,
            "_view_module": "@jupyter-widgets/base",
            "_view_module_version": "1.2.0",
            "_view_name": "LayoutView",
            "align_content": null,
            "align_items": null,
            "align_self": null,
            "border": null,
            "bottom": null,
            "display": null,
            "flex": null,
            "flex_flow": null,
            "grid_area": null,
            "grid_auto_columns": null,
            "grid_auto_flow": null,
            "grid_auto_rows": null,
            "grid_column": null,
            "grid_gap": null,
            "grid_row": null,
            "grid_template_areas": null,
            "grid_template_columns": null,
            "grid_template_rows": null,
            "height": null,
            "justify_content": null,
            "justify_items": null,
            "left": null,
            "margin": null,
            "max_height": null,
            "max_width": null,
            "min_height": null,
            "min_width": null,
            "object_fit": null,
            "object_position": null,
            "order": null,
            "overflow": null,
            "overflow_x": null,
            "overflow_y": null,
            "padding": null,
            "right": null,
            "top": null,
            "visibility": null,
            "width": null
          }
        },
        "1aef49be9fc44326a96b50c07fc30ad0": {
          "model_module": "@jupyter-widgets/controls",
          "model_name": "DescriptionStyleModel",
          "model_module_version": "1.5.0",
          "state": {
            "_model_module": "@jupyter-widgets/controls",
            "_model_module_version": "1.5.0",
            "_model_name": "DescriptionStyleModel",
            "_view_count": null,
            "_view_module": "@jupyter-widgets/base",
            "_view_module_version": "1.2.0",
            "_view_name": "StyleView",
            "description_width": ""
          }
        },
        "bf7d255cecc24ac0aa68d8cbcdd63207": {
          "model_module": "@jupyter-widgets/base",
          "model_name": "LayoutModel",
          "model_module_version": "1.2.0",
          "state": {
            "_model_module": "@jupyter-widgets/base",
            "_model_module_version": "1.2.0",
            "_model_name": "LayoutModel",
            "_view_count": null,
            "_view_module": "@jupyter-widgets/base",
            "_view_module_version": "1.2.0",
            "_view_name": "LayoutView",
            "align_content": null,
            "align_items": null,
            "align_self": null,
            "border": null,
            "bottom": null,
            "display": null,
            "flex": null,
            "flex_flow": null,
            "grid_area": null,
            "grid_auto_columns": null,
            "grid_auto_flow": null,
            "grid_auto_rows": null,
            "grid_column": null,
            "grid_gap": null,
            "grid_row": null,
            "grid_template_areas": null,
            "grid_template_columns": null,
            "grid_template_rows": null,
            "height": null,
            "justify_content": null,
            "justify_items": null,
            "left": null,
            "margin": null,
            "max_height": null,
            "max_width": null,
            "min_height": null,
            "min_width": null,
            "object_fit": null,
            "object_position": null,
            "order": null,
            "overflow": null,
            "overflow_x": null,
            "overflow_y": null,
            "padding": null,
            "right": null,
            "top": null,
            "visibility": null,
            "width": null
          }
        },
        "e1530aac2d8847cea9d7bac432bc720d": {
          "model_module": "@jupyter-widgets/controls",
          "model_name": "ProgressStyleModel",
          "model_module_version": "1.5.0",
          "state": {
            "_model_module": "@jupyter-widgets/controls",
            "_model_module_version": "1.5.0",
            "_model_name": "ProgressStyleModel",
            "_view_count": null,
            "_view_module": "@jupyter-widgets/base",
            "_view_module_version": "1.2.0",
            "_view_name": "StyleView",
            "bar_color": null,
            "description_width": ""
          }
        },
        "92c79403a26a46c7b7f98633281abe6e": {
          "model_module": "@jupyter-widgets/base",
          "model_name": "LayoutModel",
          "model_module_version": "1.2.0",
          "state": {
            "_model_module": "@jupyter-widgets/base",
            "_model_module_version": "1.2.0",
            "_model_name": "LayoutModel",
            "_view_count": null,
            "_view_module": "@jupyter-widgets/base",
            "_view_module_version": "1.2.0",
            "_view_name": "LayoutView",
            "align_content": null,
            "align_items": null,
            "align_self": null,
            "border": null,
            "bottom": null,
            "display": null,
            "flex": null,
            "flex_flow": null,
            "grid_area": null,
            "grid_auto_columns": null,
            "grid_auto_flow": null,
            "grid_auto_rows": null,
            "grid_column": null,
            "grid_gap": null,
            "grid_row": null,
            "grid_template_areas": null,
            "grid_template_columns": null,
            "grid_template_rows": null,
            "height": null,
            "justify_content": null,
            "justify_items": null,
            "left": null,
            "margin": null,
            "max_height": null,
            "max_width": null,
            "min_height": null,
            "min_width": null,
            "object_fit": null,
            "object_position": null,
            "order": null,
            "overflow": null,
            "overflow_x": null,
            "overflow_y": null,
            "padding": null,
            "right": null,
            "top": null,
            "visibility": null,
            "width": null
          }
        },
        "a79afa51c197498492f1be1416c9b199": {
          "model_module": "@jupyter-widgets/controls",
          "model_name": "DescriptionStyleModel",
          "model_module_version": "1.5.0",
          "state": {
            "_model_module": "@jupyter-widgets/controls",
            "_model_module_version": "1.5.0",
            "_model_name": "DescriptionStyleModel",
            "_view_count": null,
            "_view_module": "@jupyter-widgets/base",
            "_view_module_version": "1.2.0",
            "_view_name": "StyleView",
            "description_width": ""
          }
        },
        "413d3a45ae5849f0b7813052aa264f61": {
          "model_module": "@jupyter-widgets/controls",
          "model_name": "HBoxModel",
          "model_module_version": "1.5.0",
          "state": {
            "_dom_classes": [],
            "_model_module": "@jupyter-widgets/controls",
            "_model_module_version": "1.5.0",
            "_model_name": "HBoxModel",
            "_view_count": null,
            "_view_module": "@jupyter-widgets/controls",
            "_view_module_version": "1.5.0",
            "_view_name": "HBoxView",
            "box_style": "",
            "children": [
              "IPY_MODEL_e50678cb91124c5e9eaa413c24b65077",
              "IPY_MODEL_5215a64977024af2a4badd150d05fd9c",
              "IPY_MODEL_93f2925f04254937a409eef36408a65a"
            ],
            "layout": "IPY_MODEL_a9fd7af11f18496da60a3454d37c2d82"
          }
        },
        "e50678cb91124c5e9eaa413c24b65077": {
          "model_module": "@jupyter-widgets/controls",
          "model_name": "HTMLModel",
          "model_module_version": "1.5.0",
          "state": {
            "_dom_classes": [],
            "_model_module": "@jupyter-widgets/controls",
            "_model_module_version": "1.5.0",
            "_model_name": "HTMLModel",
            "_view_count": null,
            "_view_module": "@jupyter-widgets/controls",
            "_view_module_version": "1.5.0",
            "_view_name": "HTMLView",
            "description": "",
            "description_tooltip": null,
            "layout": "IPY_MODEL_509a6b4f2dda4795a87b36f947095618",
            "placeholder": "​",
            "style": "IPY_MODEL_f55032d5859d4e939b8070ddbc6b4a0f",
            "value": "100%"
          }
        },
        "5215a64977024af2a4badd150d05fd9c": {
          "model_module": "@jupyter-widgets/controls",
          "model_name": "FloatProgressModel",
          "model_module_version": "1.5.0",
          "state": {
            "_dom_classes": [],
            "_model_module": "@jupyter-widgets/controls",
            "_model_module_version": "1.5.0",
            "_model_name": "FloatProgressModel",
            "_view_count": null,
            "_view_module": "@jupyter-widgets/controls",
            "_view_module_version": "1.5.0",
            "_view_name": "ProgressView",
            "bar_style": "success",
            "description": "",
            "description_tooltip": null,
            "layout": "IPY_MODEL_5fe45b0e71114a51a3aa3948fafa47b4",
            "max": 3600,
            "min": 0,
            "orientation": "horizontal",
            "style": "IPY_MODEL_43936b2f90074dd7ba230a6a37420095",
            "value": 3600
          }
        },
        "93f2925f04254937a409eef36408a65a": {
          "model_module": "@jupyter-widgets/controls",
          "model_name": "HTMLModel",
          "model_module_version": "1.5.0",
          "state": {
            "_dom_classes": [],
            "_model_module": "@jupyter-widgets/controls",
            "_model_module_version": "1.5.0",
            "_model_name": "HTMLModel",
            "_view_count": null,
            "_view_module": "@jupyter-widgets/controls",
            "_view_module_version": "1.5.0",
            "_view_name": "HTMLView",
            "description": "",
            "description_tooltip": null,
            "layout": "IPY_MODEL_786bbd8242164a0d9fc3c5dd4a45685b",
            "placeholder": "​",
            "style": "IPY_MODEL_5994f06a79204c1d9c000e487eefcee7",
            "value": " 3600/3600 [1:18:52&lt;00:00,  1.40s/it]"
          }
        },
        "a9fd7af11f18496da60a3454d37c2d82": {
          "model_module": "@jupyter-widgets/base",
          "model_name": "LayoutModel",
          "model_module_version": "1.2.0",
          "state": {
            "_model_module": "@jupyter-widgets/base",
            "_model_module_version": "1.2.0",
            "_model_name": "LayoutModel",
            "_view_count": null,
            "_view_module": "@jupyter-widgets/base",
            "_view_module_version": "1.2.0",
            "_view_name": "LayoutView",
            "align_content": null,
            "align_items": null,
            "align_self": null,
            "border": null,
            "bottom": null,
            "display": null,
            "flex": null,
            "flex_flow": null,
            "grid_area": null,
            "grid_auto_columns": null,
            "grid_auto_flow": null,
            "grid_auto_rows": null,
            "grid_column": null,
            "grid_gap": null,
            "grid_row": null,
            "grid_template_areas": null,
            "grid_template_columns": null,
            "grid_template_rows": null,
            "height": null,
            "justify_content": null,
            "justify_items": null,
            "left": null,
            "margin": null,
            "max_height": null,
            "max_width": null,
            "min_height": null,
            "min_width": null,
            "object_fit": null,
            "object_position": null,
            "order": null,
            "overflow": null,
            "overflow_x": null,
            "overflow_y": null,
            "padding": null,
            "right": null,
            "top": null,
            "visibility": null,
            "width": null
          }
        },
        "509a6b4f2dda4795a87b36f947095618": {
          "model_module": "@jupyter-widgets/base",
          "model_name": "LayoutModel",
          "model_module_version": "1.2.0",
          "state": {
            "_model_module": "@jupyter-widgets/base",
            "_model_module_version": "1.2.0",
            "_model_name": "LayoutModel",
            "_view_count": null,
            "_view_module": "@jupyter-widgets/base",
            "_view_module_version": "1.2.0",
            "_view_name": "LayoutView",
            "align_content": null,
            "align_items": null,
            "align_self": null,
            "border": null,
            "bottom": null,
            "display": null,
            "flex": null,
            "flex_flow": null,
            "grid_area": null,
            "grid_auto_columns": null,
            "grid_auto_flow": null,
            "grid_auto_rows": null,
            "grid_column": null,
            "grid_gap": null,
            "grid_row": null,
            "grid_template_areas": null,
            "grid_template_columns": null,
            "grid_template_rows": null,
            "height": null,
            "justify_content": null,
            "justify_items": null,
            "left": null,
            "margin": null,
            "max_height": null,
            "max_width": null,
            "min_height": null,
            "min_width": null,
            "object_fit": null,
            "object_position": null,
            "order": null,
            "overflow": null,
            "overflow_x": null,
            "overflow_y": null,
            "padding": null,
            "right": null,
            "top": null,
            "visibility": null,
            "width": null
          }
        },
        "f55032d5859d4e939b8070ddbc6b4a0f": {
          "model_module": "@jupyter-widgets/controls",
          "model_name": "DescriptionStyleModel",
          "model_module_version": "1.5.0",
          "state": {
            "_model_module": "@jupyter-widgets/controls",
            "_model_module_version": "1.5.0",
            "_model_name": "DescriptionStyleModel",
            "_view_count": null,
            "_view_module": "@jupyter-widgets/base",
            "_view_module_version": "1.2.0",
            "_view_name": "StyleView",
            "description_width": ""
          }
        },
        "5fe45b0e71114a51a3aa3948fafa47b4": {
          "model_module": "@jupyter-widgets/base",
          "model_name": "LayoutModel",
          "model_module_version": "1.2.0",
          "state": {
            "_model_module": "@jupyter-widgets/base",
            "_model_module_version": "1.2.0",
            "_model_name": "LayoutModel",
            "_view_count": null,
            "_view_module": "@jupyter-widgets/base",
            "_view_module_version": "1.2.0",
            "_view_name": "LayoutView",
            "align_content": null,
            "align_items": null,
            "align_self": null,
            "border": null,
            "bottom": null,
            "display": null,
            "flex": null,
            "flex_flow": null,
            "grid_area": null,
            "grid_auto_columns": null,
            "grid_auto_flow": null,
            "grid_auto_rows": null,
            "grid_column": null,
            "grid_gap": null,
            "grid_row": null,
            "grid_template_areas": null,
            "grid_template_columns": null,
            "grid_template_rows": null,
            "height": null,
            "justify_content": null,
            "justify_items": null,
            "left": null,
            "margin": null,
            "max_height": null,
            "max_width": null,
            "min_height": null,
            "min_width": null,
            "object_fit": null,
            "object_position": null,
            "order": null,
            "overflow": null,
            "overflow_x": null,
            "overflow_y": null,
            "padding": null,
            "right": null,
            "top": null,
            "visibility": null,
            "width": null
          }
        },
        "43936b2f90074dd7ba230a6a37420095": {
          "model_module": "@jupyter-widgets/controls",
          "model_name": "ProgressStyleModel",
          "model_module_version": "1.5.0",
          "state": {
            "_model_module": "@jupyter-widgets/controls",
            "_model_module_version": "1.5.0",
            "_model_name": "ProgressStyleModel",
            "_view_count": null,
            "_view_module": "@jupyter-widgets/base",
            "_view_module_version": "1.2.0",
            "_view_name": "StyleView",
            "bar_color": null,
            "description_width": ""
          }
        },
        "786bbd8242164a0d9fc3c5dd4a45685b": {
          "model_module": "@jupyter-widgets/base",
          "model_name": "LayoutModel",
          "model_module_version": "1.2.0",
          "state": {
            "_model_module": "@jupyter-widgets/base",
            "_model_module_version": "1.2.0",
            "_model_name": "LayoutModel",
            "_view_count": null,
            "_view_module": "@jupyter-widgets/base",
            "_view_module_version": "1.2.0",
            "_view_name": "LayoutView",
            "align_content": null,
            "align_items": null,
            "align_self": null,
            "border": null,
            "bottom": null,
            "display": null,
            "flex": null,
            "flex_flow": null,
            "grid_area": null,
            "grid_auto_columns": null,
            "grid_auto_flow": null,
            "grid_auto_rows": null,
            "grid_column": null,
            "grid_gap": null,
            "grid_row": null,
            "grid_template_areas": null,
            "grid_template_columns": null,
            "grid_template_rows": null,
            "height": null,
            "justify_content": null,
            "justify_items": null,
            "left": null,
            "margin": null,
            "max_height": null,
            "max_width": null,
            "min_height": null,
            "min_width": null,
            "object_fit": null,
            "object_position": null,
            "order": null,
            "overflow": null,
            "overflow_x": null,
            "overflow_y": null,
            "padding": null,
            "right": null,
            "top": null,
            "visibility": null,
            "width": null
          }
        },
        "5994f06a79204c1d9c000e487eefcee7": {
          "model_module": "@jupyter-widgets/controls",
          "model_name": "DescriptionStyleModel",
          "model_module_version": "1.5.0",
          "state": {
            "_model_module": "@jupyter-widgets/controls",
            "_model_module_version": "1.5.0",
            "_model_name": "DescriptionStyleModel",
            "_view_count": null,
            "_view_module": "@jupyter-widgets/base",
            "_view_module_version": "1.2.0",
            "_view_name": "StyleView",
            "description_width": ""
          }
        },
        "144c6446c86e4ad19f55dbb1656b8cd4": {
          "model_module": "@jupyter-widgets/controls",
          "model_name": "HBoxModel",
          "model_module_version": "1.5.0",
          "state": {
            "_dom_classes": [],
            "_model_module": "@jupyter-widgets/controls",
            "_model_module_version": "1.5.0",
            "_model_name": "HBoxModel",
            "_view_count": null,
            "_view_module": "@jupyter-widgets/controls",
            "_view_module_version": "1.5.0",
            "_view_name": "HBoxView",
            "box_style": "",
            "children": [
              "IPY_MODEL_7ee929e3a0414b94928e1f69eed79f28",
              "IPY_MODEL_f2a1fda8bbcd4deaa39d6d70166e09e3",
              "IPY_MODEL_6d4d9799b78c4ccfbe3d882050d2bd88"
            ],
            "layout": "IPY_MODEL_2814e18a5052494eb8aec539e69ec2ee"
          }
        },
        "7ee929e3a0414b94928e1f69eed79f28": {
          "model_module": "@jupyter-widgets/controls",
          "model_name": "HTMLModel",
          "model_module_version": "1.5.0",
          "state": {
            "_dom_classes": [],
            "_model_module": "@jupyter-widgets/controls",
            "_model_module_version": "1.5.0",
            "_model_name": "HTMLModel",
            "_view_count": null,
            "_view_module": "@jupyter-widgets/controls",
            "_view_module_version": "1.5.0",
            "_view_name": "HTMLView",
            "description": "",
            "description_tooltip": null,
            "layout": "IPY_MODEL_5f451f30b90f4661b297437173b7a52a",
            "placeholder": "​",
            "style": "IPY_MODEL_6107a4786ca64e4a88f80ed6f778fcec",
            "value": "100%"
          }
        },
        "f2a1fda8bbcd4deaa39d6d70166e09e3": {
          "model_module": "@jupyter-widgets/controls",
          "model_name": "FloatProgressModel",
          "model_module_version": "1.5.0",
          "state": {
            "_dom_classes": [],
            "_model_module": "@jupyter-widgets/controls",
            "_model_module_version": "1.5.0",
            "_model_name": "FloatProgressModel",
            "_view_count": null,
            "_view_module": "@jupyter-widgets/controls",
            "_view_module_version": "1.5.0",
            "_view_name": "ProgressView",
            "bar_style": "success",
            "description": "",
            "description_tooltip": null,
            "layout": "IPY_MODEL_4b33d36b57da40108a36860b5bb9f420",
            "max": 3600,
            "min": 0,
            "orientation": "horizontal",
            "style": "IPY_MODEL_0d09bb4c724c4870ab876d784deba209",
            "value": 3600
          }
        },
        "6d4d9799b78c4ccfbe3d882050d2bd88": {
          "model_module": "@jupyter-widgets/controls",
          "model_name": "HTMLModel",
          "model_module_version": "1.5.0",
          "state": {
            "_dom_classes": [],
            "_model_module": "@jupyter-widgets/controls",
            "_model_module_version": "1.5.0",
            "_model_name": "HTMLModel",
            "_view_count": null,
            "_view_module": "@jupyter-widgets/controls",
            "_view_module_version": "1.5.0",
            "_view_name": "HTMLView",
            "description": "",
            "description_tooltip": null,
            "layout": "IPY_MODEL_689b5ab6046746f89e4b2df62d4e8a15",
            "placeholder": "​",
            "style": "IPY_MODEL_1e963023f2b04076acbfb9e3b2ce997f",
            "value": " 3600/3600 [1:16:09&lt;00:00,  1.36s/it]"
          }
        },
        "2814e18a5052494eb8aec539e69ec2ee": {
          "model_module": "@jupyter-widgets/base",
          "model_name": "LayoutModel",
          "model_module_version": "1.2.0",
          "state": {
            "_model_module": "@jupyter-widgets/base",
            "_model_module_version": "1.2.0",
            "_model_name": "LayoutModel",
            "_view_count": null,
            "_view_module": "@jupyter-widgets/base",
            "_view_module_version": "1.2.0",
            "_view_name": "LayoutView",
            "align_content": null,
            "align_items": null,
            "align_self": null,
            "border": null,
            "bottom": null,
            "display": null,
            "flex": null,
            "flex_flow": null,
            "grid_area": null,
            "grid_auto_columns": null,
            "grid_auto_flow": null,
            "grid_auto_rows": null,
            "grid_column": null,
            "grid_gap": null,
            "grid_row": null,
            "grid_template_areas": null,
            "grid_template_columns": null,
            "grid_template_rows": null,
            "height": null,
            "justify_content": null,
            "justify_items": null,
            "left": null,
            "margin": null,
            "max_height": null,
            "max_width": null,
            "min_height": null,
            "min_width": null,
            "object_fit": null,
            "object_position": null,
            "order": null,
            "overflow": null,
            "overflow_x": null,
            "overflow_y": null,
            "padding": null,
            "right": null,
            "top": null,
            "visibility": null,
            "width": null
          }
        },
        "5f451f30b90f4661b297437173b7a52a": {
          "model_module": "@jupyter-widgets/base",
          "model_name": "LayoutModel",
          "model_module_version": "1.2.0",
          "state": {
            "_model_module": "@jupyter-widgets/base",
            "_model_module_version": "1.2.0",
            "_model_name": "LayoutModel",
            "_view_count": null,
            "_view_module": "@jupyter-widgets/base",
            "_view_module_version": "1.2.0",
            "_view_name": "LayoutView",
            "align_content": null,
            "align_items": null,
            "align_self": null,
            "border": null,
            "bottom": null,
            "display": null,
            "flex": null,
            "flex_flow": null,
            "grid_area": null,
            "grid_auto_columns": null,
            "grid_auto_flow": null,
            "grid_auto_rows": null,
            "grid_column": null,
            "grid_gap": null,
            "grid_row": null,
            "grid_template_areas": null,
            "grid_template_columns": null,
            "grid_template_rows": null,
            "height": null,
            "justify_content": null,
            "justify_items": null,
            "left": null,
            "margin": null,
            "max_height": null,
            "max_width": null,
            "min_height": null,
            "min_width": null,
            "object_fit": null,
            "object_position": null,
            "order": null,
            "overflow": null,
            "overflow_x": null,
            "overflow_y": null,
            "padding": null,
            "right": null,
            "top": null,
            "visibility": null,
            "width": null
          }
        },
        "6107a4786ca64e4a88f80ed6f778fcec": {
          "model_module": "@jupyter-widgets/controls",
          "model_name": "DescriptionStyleModel",
          "model_module_version": "1.5.0",
          "state": {
            "_model_module": "@jupyter-widgets/controls",
            "_model_module_version": "1.5.0",
            "_model_name": "DescriptionStyleModel",
            "_view_count": null,
            "_view_module": "@jupyter-widgets/base",
            "_view_module_version": "1.2.0",
            "_view_name": "StyleView",
            "description_width": ""
          }
        },
        "4b33d36b57da40108a36860b5bb9f420": {
          "model_module": "@jupyter-widgets/base",
          "model_name": "LayoutModel",
          "model_module_version": "1.2.0",
          "state": {
            "_model_module": "@jupyter-widgets/base",
            "_model_module_version": "1.2.0",
            "_model_name": "LayoutModel",
            "_view_count": null,
            "_view_module": "@jupyter-widgets/base",
            "_view_module_version": "1.2.0",
            "_view_name": "LayoutView",
            "align_content": null,
            "align_items": null,
            "align_self": null,
            "border": null,
            "bottom": null,
            "display": null,
            "flex": null,
            "flex_flow": null,
            "grid_area": null,
            "grid_auto_columns": null,
            "grid_auto_flow": null,
            "grid_auto_rows": null,
            "grid_column": null,
            "grid_gap": null,
            "grid_row": null,
            "grid_template_areas": null,
            "grid_template_columns": null,
            "grid_template_rows": null,
            "height": null,
            "justify_content": null,
            "justify_items": null,
            "left": null,
            "margin": null,
            "max_height": null,
            "max_width": null,
            "min_height": null,
            "min_width": null,
            "object_fit": null,
            "object_position": null,
            "order": null,
            "overflow": null,
            "overflow_x": null,
            "overflow_y": null,
            "padding": null,
            "right": null,
            "top": null,
            "visibility": null,
            "width": null
          }
        },
        "0d09bb4c724c4870ab876d784deba209": {
          "model_module": "@jupyter-widgets/controls",
          "model_name": "ProgressStyleModel",
          "model_module_version": "1.5.0",
          "state": {
            "_model_module": "@jupyter-widgets/controls",
            "_model_module_version": "1.5.0",
            "_model_name": "ProgressStyleModel",
            "_view_count": null,
            "_view_module": "@jupyter-widgets/base",
            "_view_module_version": "1.2.0",
            "_view_name": "StyleView",
            "bar_color": null,
            "description_width": ""
          }
        },
        "689b5ab6046746f89e4b2df62d4e8a15": {
          "model_module": "@jupyter-widgets/base",
          "model_name": "LayoutModel",
          "model_module_version": "1.2.0",
          "state": {
            "_model_module": "@jupyter-widgets/base",
            "_model_module_version": "1.2.0",
            "_model_name": "LayoutModel",
            "_view_count": null,
            "_view_module": "@jupyter-widgets/base",
            "_view_module_version": "1.2.0",
            "_view_name": "LayoutView",
            "align_content": null,
            "align_items": null,
            "align_self": null,
            "border": null,
            "bottom": null,
            "display": null,
            "flex": null,
            "flex_flow": null,
            "grid_area": null,
            "grid_auto_columns": null,
            "grid_auto_flow": null,
            "grid_auto_rows": null,
            "grid_column": null,
            "grid_gap": null,
            "grid_row": null,
            "grid_template_areas": null,
            "grid_template_columns": null,
            "grid_template_rows": null,
            "height": null,
            "justify_content": null,
            "justify_items": null,
            "left": null,
            "margin": null,
            "max_height": null,
            "max_width": null,
            "min_height": null,
            "min_width": null,
            "object_fit": null,
            "object_position": null,
            "order": null,
            "overflow": null,
            "overflow_x": null,
            "overflow_y": null,
            "padding": null,
            "right": null,
            "top": null,
            "visibility": null,
            "width": null
          }
        },
        "1e963023f2b04076acbfb9e3b2ce997f": {
          "model_module": "@jupyter-widgets/controls",
          "model_name": "DescriptionStyleModel",
          "model_module_version": "1.5.0",
          "state": {
            "_model_module": "@jupyter-widgets/controls",
            "_model_module_version": "1.5.0",
            "_model_name": "DescriptionStyleModel",
            "_view_count": null,
            "_view_module": "@jupyter-widgets/base",
            "_view_module_version": "1.2.0",
            "_view_name": "StyleView",
            "description_width": ""
          }
        },
        "8f9361f08e52433dbe4e428fa66b0f3c": {
          "model_module": "@jupyter-widgets/controls",
          "model_name": "HBoxModel",
          "model_module_version": "1.5.0",
          "state": {
            "_dom_classes": [],
            "_model_module": "@jupyter-widgets/controls",
            "_model_module_version": "1.5.0",
            "_model_name": "HBoxModel",
            "_view_count": null,
            "_view_module": "@jupyter-widgets/controls",
            "_view_module_version": "1.5.0",
            "_view_name": "HBoxView",
            "box_style": "",
            "children": [
              "IPY_MODEL_6cb3f228fd55458f93441f3336c2ebc4",
              "IPY_MODEL_4ccc6386750540048f8fb3e76f3f08f7",
              "IPY_MODEL_2a6cc8b80cd745d789c52424e01ed8f5"
            ],
            "layout": "IPY_MODEL_d8f968f39c9e413093c1330077c3ac9c"
          }
        },
        "6cb3f228fd55458f93441f3336c2ebc4": {
          "model_module": "@jupyter-widgets/controls",
          "model_name": "HTMLModel",
          "model_module_version": "1.5.0",
          "state": {
            "_dom_classes": [],
            "_model_module": "@jupyter-widgets/controls",
            "_model_module_version": "1.5.0",
            "_model_name": "HTMLModel",
            "_view_count": null,
            "_view_module": "@jupyter-widgets/controls",
            "_view_module_version": "1.5.0",
            "_view_name": "HTMLView",
            "description": "",
            "description_tooltip": null,
            "layout": "IPY_MODEL_0ae72bbc2551452dba8bc677ab492c19",
            "placeholder": "​",
            "style": "IPY_MODEL_11ceee1cf55447b59eaa10c84730b1c0",
            "value": "100%"
          }
        },
        "4ccc6386750540048f8fb3e76f3f08f7": {
          "model_module": "@jupyter-widgets/controls",
          "model_name": "FloatProgressModel",
          "model_module_version": "1.5.0",
          "state": {
            "_dom_classes": [],
            "_model_module": "@jupyter-widgets/controls",
            "_model_module_version": "1.5.0",
            "_model_name": "FloatProgressModel",
            "_view_count": null,
            "_view_module": "@jupyter-widgets/controls",
            "_view_module_version": "1.5.0",
            "_view_name": "ProgressView",
            "bar_style": "success",
            "description": "",
            "description_tooltip": null,
            "layout": "IPY_MODEL_b096c60dc8d342babbed92cf0283aaeb",
            "max": 3600,
            "min": 0,
            "orientation": "horizontal",
            "style": "IPY_MODEL_befc9082336e4a58be69289a2da6fd63",
            "value": 3600
          }
        },
        "2a6cc8b80cd745d789c52424e01ed8f5": {
          "model_module": "@jupyter-widgets/controls",
          "model_name": "HTMLModel",
          "model_module_version": "1.5.0",
          "state": {
            "_dom_classes": [],
            "_model_module": "@jupyter-widgets/controls",
            "_model_module_version": "1.5.0",
            "_model_name": "HTMLModel",
            "_view_count": null,
            "_view_module": "@jupyter-widgets/controls",
            "_view_module_version": "1.5.0",
            "_view_name": "HTMLView",
            "description": "",
            "description_tooltip": null,
            "layout": "IPY_MODEL_64535cad63f54e2ab05c80fa40bbc6d1",
            "placeholder": "​",
            "style": "IPY_MODEL_4e727e28c3a644af841369ed1522c142",
            "value": " 3600/3600 [1:18:01&lt;00:00,  1.24s/it]"
          }
        },
        "d8f968f39c9e413093c1330077c3ac9c": {
          "model_module": "@jupyter-widgets/base",
          "model_name": "LayoutModel",
          "model_module_version": "1.2.0",
          "state": {
            "_model_module": "@jupyter-widgets/base",
            "_model_module_version": "1.2.0",
            "_model_name": "LayoutModel",
            "_view_count": null,
            "_view_module": "@jupyter-widgets/base",
            "_view_module_version": "1.2.0",
            "_view_name": "LayoutView",
            "align_content": null,
            "align_items": null,
            "align_self": null,
            "border": null,
            "bottom": null,
            "display": null,
            "flex": null,
            "flex_flow": null,
            "grid_area": null,
            "grid_auto_columns": null,
            "grid_auto_flow": null,
            "grid_auto_rows": null,
            "grid_column": null,
            "grid_gap": null,
            "grid_row": null,
            "grid_template_areas": null,
            "grid_template_columns": null,
            "grid_template_rows": null,
            "height": null,
            "justify_content": null,
            "justify_items": null,
            "left": null,
            "margin": null,
            "max_height": null,
            "max_width": null,
            "min_height": null,
            "min_width": null,
            "object_fit": null,
            "object_position": null,
            "order": null,
            "overflow": null,
            "overflow_x": null,
            "overflow_y": null,
            "padding": null,
            "right": null,
            "top": null,
            "visibility": null,
            "width": null
          }
        },
        "0ae72bbc2551452dba8bc677ab492c19": {
          "model_module": "@jupyter-widgets/base",
          "model_name": "LayoutModel",
          "model_module_version": "1.2.0",
          "state": {
            "_model_module": "@jupyter-widgets/base",
            "_model_module_version": "1.2.0",
            "_model_name": "LayoutModel",
            "_view_count": null,
            "_view_module": "@jupyter-widgets/base",
            "_view_module_version": "1.2.0",
            "_view_name": "LayoutView",
            "align_content": null,
            "align_items": null,
            "align_self": null,
            "border": null,
            "bottom": null,
            "display": null,
            "flex": null,
            "flex_flow": null,
            "grid_area": null,
            "grid_auto_columns": null,
            "grid_auto_flow": null,
            "grid_auto_rows": null,
            "grid_column": null,
            "grid_gap": null,
            "grid_row": null,
            "grid_template_areas": null,
            "grid_template_columns": null,
            "grid_template_rows": null,
            "height": null,
            "justify_content": null,
            "justify_items": null,
            "left": null,
            "margin": null,
            "max_height": null,
            "max_width": null,
            "min_height": null,
            "min_width": null,
            "object_fit": null,
            "object_position": null,
            "order": null,
            "overflow": null,
            "overflow_x": null,
            "overflow_y": null,
            "padding": null,
            "right": null,
            "top": null,
            "visibility": null,
            "width": null
          }
        },
        "11ceee1cf55447b59eaa10c84730b1c0": {
          "model_module": "@jupyter-widgets/controls",
          "model_name": "DescriptionStyleModel",
          "model_module_version": "1.5.0",
          "state": {
            "_model_module": "@jupyter-widgets/controls",
            "_model_module_version": "1.5.0",
            "_model_name": "DescriptionStyleModel",
            "_view_count": null,
            "_view_module": "@jupyter-widgets/base",
            "_view_module_version": "1.2.0",
            "_view_name": "StyleView",
            "description_width": ""
          }
        },
        "b096c60dc8d342babbed92cf0283aaeb": {
          "model_module": "@jupyter-widgets/base",
          "model_name": "LayoutModel",
          "model_module_version": "1.2.0",
          "state": {
            "_model_module": "@jupyter-widgets/base",
            "_model_module_version": "1.2.0",
            "_model_name": "LayoutModel",
            "_view_count": null,
            "_view_module": "@jupyter-widgets/base",
            "_view_module_version": "1.2.0",
            "_view_name": "LayoutView",
            "align_content": null,
            "align_items": null,
            "align_self": null,
            "border": null,
            "bottom": null,
            "display": null,
            "flex": null,
            "flex_flow": null,
            "grid_area": null,
            "grid_auto_columns": null,
            "grid_auto_flow": null,
            "grid_auto_rows": null,
            "grid_column": null,
            "grid_gap": null,
            "grid_row": null,
            "grid_template_areas": null,
            "grid_template_columns": null,
            "grid_template_rows": null,
            "height": null,
            "justify_content": null,
            "justify_items": null,
            "left": null,
            "margin": null,
            "max_height": null,
            "max_width": null,
            "min_height": null,
            "min_width": null,
            "object_fit": null,
            "object_position": null,
            "order": null,
            "overflow": null,
            "overflow_x": null,
            "overflow_y": null,
            "padding": null,
            "right": null,
            "top": null,
            "visibility": null,
            "width": null
          }
        },
        "befc9082336e4a58be69289a2da6fd63": {
          "model_module": "@jupyter-widgets/controls",
          "model_name": "ProgressStyleModel",
          "model_module_version": "1.5.0",
          "state": {
            "_model_module": "@jupyter-widgets/controls",
            "_model_module_version": "1.5.0",
            "_model_name": "ProgressStyleModel",
            "_view_count": null,
            "_view_module": "@jupyter-widgets/base",
            "_view_module_version": "1.2.0",
            "_view_name": "StyleView",
            "bar_color": null,
            "description_width": ""
          }
        },
        "64535cad63f54e2ab05c80fa40bbc6d1": {
          "model_module": "@jupyter-widgets/base",
          "model_name": "LayoutModel",
          "model_module_version": "1.2.0",
          "state": {
            "_model_module": "@jupyter-widgets/base",
            "_model_module_version": "1.2.0",
            "_model_name": "LayoutModel",
            "_view_count": null,
            "_view_module": "@jupyter-widgets/base",
            "_view_module_version": "1.2.0",
            "_view_name": "LayoutView",
            "align_content": null,
            "align_items": null,
            "align_self": null,
            "border": null,
            "bottom": null,
            "display": null,
            "flex": null,
            "flex_flow": null,
            "grid_area": null,
            "grid_auto_columns": null,
            "grid_auto_flow": null,
            "grid_auto_rows": null,
            "grid_column": null,
            "grid_gap": null,
            "grid_row": null,
            "grid_template_areas": null,
            "grid_template_columns": null,
            "grid_template_rows": null,
            "height": null,
            "justify_content": null,
            "justify_items": null,
            "left": null,
            "margin": null,
            "max_height": null,
            "max_width": null,
            "min_height": null,
            "min_width": null,
            "object_fit": null,
            "object_position": null,
            "order": null,
            "overflow": null,
            "overflow_x": null,
            "overflow_y": null,
            "padding": null,
            "right": null,
            "top": null,
            "visibility": null,
            "width": null
          }
        },
        "4e727e28c3a644af841369ed1522c142": {
          "model_module": "@jupyter-widgets/controls",
          "model_name": "DescriptionStyleModel",
          "model_module_version": "1.5.0",
          "state": {
            "_model_module": "@jupyter-widgets/controls",
            "_model_module_version": "1.5.0",
            "_model_name": "DescriptionStyleModel",
            "_view_count": null,
            "_view_module": "@jupyter-widgets/base",
            "_view_module_version": "1.2.0",
            "_view_name": "StyleView",
            "description_width": ""
          }
        },
        "1d0ec55a805547fa8829f8595776efbf": {
          "model_module": "@jupyter-widgets/controls",
          "model_name": "HBoxModel",
          "model_module_version": "1.5.0",
          "state": {
            "_dom_classes": [],
            "_model_module": "@jupyter-widgets/controls",
            "_model_module_version": "1.5.0",
            "_model_name": "HBoxModel",
            "_view_count": null,
            "_view_module": "@jupyter-widgets/controls",
            "_view_module_version": "1.5.0",
            "_view_name": "HBoxView",
            "box_style": "",
            "children": [
              "IPY_MODEL_d6c629b01e5240abb8a13078ace32fae",
              "IPY_MODEL_854cd1c6400945bda943584e6668701b",
              "IPY_MODEL_201dc0d55f9c47e89604474cc6aae7b3"
            ],
            "layout": "IPY_MODEL_7b266745966648029340a5a0520b8dda"
          }
        },
        "d6c629b01e5240abb8a13078ace32fae": {
          "model_module": "@jupyter-widgets/controls",
          "model_name": "HTMLModel",
          "model_module_version": "1.5.0",
          "state": {
            "_dom_classes": [],
            "_model_module": "@jupyter-widgets/controls",
            "_model_module_version": "1.5.0",
            "_model_name": "HTMLModel",
            "_view_count": null,
            "_view_module": "@jupyter-widgets/controls",
            "_view_module_version": "1.5.0",
            "_view_name": "HTMLView",
            "description": "",
            "description_tooltip": null,
            "layout": "IPY_MODEL_15655a5703b1448e89815059dc2cf585",
            "placeholder": "​",
            "style": "IPY_MODEL_c02d27c0f49b41c59809c732b53829d2",
            "value": "100%"
          }
        },
        "854cd1c6400945bda943584e6668701b": {
          "model_module": "@jupyter-widgets/controls",
          "model_name": "FloatProgressModel",
          "model_module_version": "1.5.0",
          "state": {
            "_dom_classes": [],
            "_model_module": "@jupyter-widgets/controls",
            "_model_module_version": "1.5.0",
            "_model_name": "FloatProgressModel",
            "_view_count": null,
            "_view_module": "@jupyter-widgets/controls",
            "_view_module_version": "1.5.0",
            "_view_name": "ProgressView",
            "bar_style": "success",
            "description": "",
            "description_tooltip": null,
            "layout": "IPY_MODEL_ac692e39fb5e4fb38b4a4919ed2644dc",
            "max": 3600,
            "min": 0,
            "orientation": "horizontal",
            "style": "IPY_MODEL_05cfc6726ae84110ba2a54131b5737a0",
            "value": 3600
          }
        },
        "201dc0d55f9c47e89604474cc6aae7b3": {
          "model_module": "@jupyter-widgets/controls",
          "model_name": "HTMLModel",
          "model_module_version": "1.5.0",
          "state": {
            "_dom_classes": [],
            "_model_module": "@jupyter-widgets/controls",
            "_model_module_version": "1.5.0",
            "_model_name": "HTMLModel",
            "_view_count": null,
            "_view_module": "@jupyter-widgets/controls",
            "_view_module_version": "1.5.0",
            "_view_name": "HTMLView",
            "description": "",
            "description_tooltip": null,
            "layout": "IPY_MODEL_cec9261c5ff840929dce147e8082709a",
            "placeholder": "​",
            "style": "IPY_MODEL_496759d1814c46d885084fd50fa0e738",
            "value": " 3600/3600 [1:18:22&lt;00:00,  1.40s/it]"
          }
        },
        "7b266745966648029340a5a0520b8dda": {
          "model_module": "@jupyter-widgets/base",
          "model_name": "LayoutModel",
          "model_module_version": "1.2.0",
          "state": {
            "_model_module": "@jupyter-widgets/base",
            "_model_module_version": "1.2.0",
            "_model_name": "LayoutModel",
            "_view_count": null,
            "_view_module": "@jupyter-widgets/base",
            "_view_module_version": "1.2.0",
            "_view_name": "LayoutView",
            "align_content": null,
            "align_items": null,
            "align_self": null,
            "border": null,
            "bottom": null,
            "display": null,
            "flex": null,
            "flex_flow": null,
            "grid_area": null,
            "grid_auto_columns": null,
            "grid_auto_flow": null,
            "grid_auto_rows": null,
            "grid_column": null,
            "grid_gap": null,
            "grid_row": null,
            "grid_template_areas": null,
            "grid_template_columns": null,
            "grid_template_rows": null,
            "height": null,
            "justify_content": null,
            "justify_items": null,
            "left": null,
            "margin": null,
            "max_height": null,
            "max_width": null,
            "min_height": null,
            "min_width": null,
            "object_fit": null,
            "object_position": null,
            "order": null,
            "overflow": null,
            "overflow_x": null,
            "overflow_y": null,
            "padding": null,
            "right": null,
            "top": null,
            "visibility": null,
            "width": null
          }
        },
        "15655a5703b1448e89815059dc2cf585": {
          "model_module": "@jupyter-widgets/base",
          "model_name": "LayoutModel",
          "model_module_version": "1.2.0",
          "state": {
            "_model_module": "@jupyter-widgets/base",
            "_model_module_version": "1.2.0",
            "_model_name": "LayoutModel",
            "_view_count": null,
            "_view_module": "@jupyter-widgets/base",
            "_view_module_version": "1.2.0",
            "_view_name": "LayoutView",
            "align_content": null,
            "align_items": null,
            "align_self": null,
            "border": null,
            "bottom": null,
            "display": null,
            "flex": null,
            "flex_flow": null,
            "grid_area": null,
            "grid_auto_columns": null,
            "grid_auto_flow": null,
            "grid_auto_rows": null,
            "grid_column": null,
            "grid_gap": null,
            "grid_row": null,
            "grid_template_areas": null,
            "grid_template_columns": null,
            "grid_template_rows": null,
            "height": null,
            "justify_content": null,
            "justify_items": null,
            "left": null,
            "margin": null,
            "max_height": null,
            "max_width": null,
            "min_height": null,
            "min_width": null,
            "object_fit": null,
            "object_position": null,
            "order": null,
            "overflow": null,
            "overflow_x": null,
            "overflow_y": null,
            "padding": null,
            "right": null,
            "top": null,
            "visibility": null,
            "width": null
          }
        },
        "c02d27c0f49b41c59809c732b53829d2": {
          "model_module": "@jupyter-widgets/controls",
          "model_name": "DescriptionStyleModel",
          "model_module_version": "1.5.0",
          "state": {
            "_model_module": "@jupyter-widgets/controls",
            "_model_module_version": "1.5.0",
            "_model_name": "DescriptionStyleModel",
            "_view_count": null,
            "_view_module": "@jupyter-widgets/base",
            "_view_module_version": "1.2.0",
            "_view_name": "StyleView",
            "description_width": ""
          }
        },
        "ac692e39fb5e4fb38b4a4919ed2644dc": {
          "model_module": "@jupyter-widgets/base",
          "model_name": "LayoutModel",
          "model_module_version": "1.2.0",
          "state": {
            "_model_module": "@jupyter-widgets/base",
            "_model_module_version": "1.2.0",
            "_model_name": "LayoutModel",
            "_view_count": null,
            "_view_module": "@jupyter-widgets/base",
            "_view_module_version": "1.2.0",
            "_view_name": "LayoutView",
            "align_content": null,
            "align_items": null,
            "align_self": null,
            "border": null,
            "bottom": null,
            "display": null,
            "flex": null,
            "flex_flow": null,
            "grid_area": null,
            "grid_auto_columns": null,
            "grid_auto_flow": null,
            "grid_auto_rows": null,
            "grid_column": null,
            "grid_gap": null,
            "grid_row": null,
            "grid_template_areas": null,
            "grid_template_columns": null,
            "grid_template_rows": null,
            "height": null,
            "justify_content": null,
            "justify_items": null,
            "left": null,
            "margin": null,
            "max_height": null,
            "max_width": null,
            "min_height": null,
            "min_width": null,
            "object_fit": null,
            "object_position": null,
            "order": null,
            "overflow": null,
            "overflow_x": null,
            "overflow_y": null,
            "padding": null,
            "right": null,
            "top": null,
            "visibility": null,
            "width": null
          }
        },
        "05cfc6726ae84110ba2a54131b5737a0": {
          "model_module": "@jupyter-widgets/controls",
          "model_name": "ProgressStyleModel",
          "model_module_version": "1.5.0",
          "state": {
            "_model_module": "@jupyter-widgets/controls",
            "_model_module_version": "1.5.0",
            "_model_name": "ProgressStyleModel",
            "_view_count": null,
            "_view_module": "@jupyter-widgets/base",
            "_view_module_version": "1.2.0",
            "_view_name": "StyleView",
            "bar_color": null,
            "description_width": ""
          }
        },
        "cec9261c5ff840929dce147e8082709a": {
          "model_module": "@jupyter-widgets/base",
          "model_name": "LayoutModel",
          "model_module_version": "1.2.0",
          "state": {
            "_model_module": "@jupyter-widgets/base",
            "_model_module_version": "1.2.0",
            "_model_name": "LayoutModel",
            "_view_count": null,
            "_view_module": "@jupyter-widgets/base",
            "_view_module_version": "1.2.0",
            "_view_name": "LayoutView",
            "align_content": null,
            "align_items": null,
            "align_self": null,
            "border": null,
            "bottom": null,
            "display": null,
            "flex": null,
            "flex_flow": null,
            "grid_area": null,
            "grid_auto_columns": null,
            "grid_auto_flow": null,
            "grid_auto_rows": null,
            "grid_column": null,
            "grid_gap": null,
            "grid_row": null,
            "grid_template_areas": null,
            "grid_template_columns": null,
            "grid_template_rows": null,
            "height": null,
            "justify_content": null,
            "justify_items": null,
            "left": null,
            "margin": null,
            "max_height": null,
            "max_width": null,
            "min_height": null,
            "min_width": null,
            "object_fit": null,
            "object_position": null,
            "order": null,
            "overflow": null,
            "overflow_x": null,
            "overflow_y": null,
            "padding": null,
            "right": null,
            "top": null,
            "visibility": null,
            "width": null
          }
        },
        "496759d1814c46d885084fd50fa0e738": {
          "model_module": "@jupyter-widgets/controls",
          "model_name": "DescriptionStyleModel",
          "model_module_version": "1.5.0",
          "state": {
            "_model_module": "@jupyter-widgets/controls",
            "_model_module_version": "1.5.0",
            "_model_name": "DescriptionStyleModel",
            "_view_count": null,
            "_view_module": "@jupyter-widgets/base",
            "_view_module_version": "1.2.0",
            "_view_name": "StyleView",
            "description_width": ""
          }
        },
        "d02273aee73e43d5b80be0a44f6bf97e": {
          "model_module": "@jupyter-widgets/controls",
          "model_name": "HBoxModel",
          "model_module_version": "1.5.0",
          "state": {
            "_dom_classes": [],
            "_model_module": "@jupyter-widgets/controls",
            "_model_module_version": "1.5.0",
            "_model_name": "HBoxModel",
            "_view_count": null,
            "_view_module": "@jupyter-widgets/controls",
            "_view_module_version": "1.5.0",
            "_view_name": "HBoxView",
            "box_style": "",
            "children": [
              "IPY_MODEL_110b466c0871490f88bd7dc927824dcf",
              "IPY_MODEL_bf711ad266814b2ab8f180b79c80d623",
              "IPY_MODEL_5d313941e2d04805807d40c8eb0bded8"
            ],
            "layout": "IPY_MODEL_552210335d3a4c30be0b9d52775b666b"
          }
        },
        "110b466c0871490f88bd7dc927824dcf": {
          "model_module": "@jupyter-widgets/controls",
          "model_name": "HTMLModel",
          "model_module_version": "1.5.0",
          "state": {
            "_dom_classes": [],
            "_model_module": "@jupyter-widgets/controls",
            "_model_module_version": "1.5.0",
            "_model_name": "HTMLModel",
            "_view_count": null,
            "_view_module": "@jupyter-widgets/controls",
            "_view_module_version": "1.5.0",
            "_view_name": "HTMLView",
            "description": "",
            "description_tooltip": null,
            "layout": "IPY_MODEL_fc11798d135d486c953018294eec0f61",
            "placeholder": "​",
            "style": "IPY_MODEL_553ca762a3344408b078ff85c3dbc906",
            "value": "100%"
          }
        },
        "bf711ad266814b2ab8f180b79c80d623": {
          "model_module": "@jupyter-widgets/controls",
          "model_name": "FloatProgressModel",
          "model_module_version": "1.5.0",
          "state": {
            "_dom_classes": [],
            "_model_module": "@jupyter-widgets/controls",
            "_model_module_version": "1.5.0",
            "_model_name": "FloatProgressModel",
            "_view_count": null,
            "_view_module": "@jupyter-widgets/controls",
            "_view_module_version": "1.5.0",
            "_view_name": "ProgressView",
            "bar_style": "success",
            "description": "",
            "description_tooltip": null,
            "layout": "IPY_MODEL_f947fa882bf442489e67af517ee5a783",
            "max": 5,
            "min": 0,
            "orientation": "horizontal",
            "style": "IPY_MODEL_1df5f23da9bb48059ab83b8fd0480ff9",
            "value": 5
          }
        },
        "5d313941e2d04805807d40c8eb0bded8": {
          "model_module": "@jupyter-widgets/controls",
          "model_name": "HTMLModel",
          "model_module_version": "1.5.0",
          "state": {
            "_dom_classes": [],
            "_model_module": "@jupyter-widgets/controls",
            "_model_module_version": "1.5.0",
            "_model_name": "HTMLModel",
            "_view_count": null,
            "_view_module": "@jupyter-widgets/controls",
            "_view_module_version": "1.5.0",
            "_view_name": "HTMLView",
            "description": "",
            "description_tooltip": null,
            "layout": "IPY_MODEL_8856e8eaffd44823b26fe27e7203e1b9",
            "placeholder": "​",
            "style": "IPY_MODEL_4a669fe8162e48b280405f70505ee4c1",
            "value": " 5/5 [7:12:47&lt;00:00, 5181.82s/it]"
          }
        },
        "552210335d3a4c30be0b9d52775b666b": {
          "model_module": "@jupyter-widgets/base",
          "model_name": "LayoutModel",
          "model_module_version": "1.2.0",
          "state": {
            "_model_module": "@jupyter-widgets/base",
            "_model_module_version": "1.2.0",
            "_model_name": "LayoutModel",
            "_view_count": null,
            "_view_module": "@jupyter-widgets/base",
            "_view_module_version": "1.2.0",
            "_view_name": "LayoutView",
            "align_content": null,
            "align_items": null,
            "align_self": null,
            "border": null,
            "bottom": null,
            "display": null,
            "flex": null,
            "flex_flow": null,
            "grid_area": null,
            "grid_auto_columns": null,
            "grid_auto_flow": null,
            "grid_auto_rows": null,
            "grid_column": null,
            "grid_gap": null,
            "grid_row": null,
            "grid_template_areas": null,
            "grid_template_columns": null,
            "grid_template_rows": null,
            "height": null,
            "justify_content": null,
            "justify_items": null,
            "left": null,
            "margin": null,
            "max_height": null,
            "max_width": null,
            "min_height": null,
            "min_width": null,
            "object_fit": null,
            "object_position": null,
            "order": null,
            "overflow": null,
            "overflow_x": null,
            "overflow_y": null,
            "padding": null,
            "right": null,
            "top": null,
            "visibility": null,
            "width": null
          }
        },
        "fc11798d135d486c953018294eec0f61": {
          "model_module": "@jupyter-widgets/base",
          "model_name": "LayoutModel",
          "model_module_version": "1.2.0",
          "state": {
            "_model_module": "@jupyter-widgets/base",
            "_model_module_version": "1.2.0",
            "_model_name": "LayoutModel",
            "_view_count": null,
            "_view_module": "@jupyter-widgets/base",
            "_view_module_version": "1.2.0",
            "_view_name": "LayoutView",
            "align_content": null,
            "align_items": null,
            "align_self": null,
            "border": null,
            "bottom": null,
            "display": null,
            "flex": null,
            "flex_flow": null,
            "grid_area": null,
            "grid_auto_columns": null,
            "grid_auto_flow": null,
            "grid_auto_rows": null,
            "grid_column": null,
            "grid_gap": null,
            "grid_row": null,
            "grid_template_areas": null,
            "grid_template_columns": null,
            "grid_template_rows": null,
            "height": null,
            "justify_content": null,
            "justify_items": null,
            "left": null,
            "margin": null,
            "max_height": null,
            "max_width": null,
            "min_height": null,
            "min_width": null,
            "object_fit": null,
            "object_position": null,
            "order": null,
            "overflow": null,
            "overflow_x": null,
            "overflow_y": null,
            "padding": null,
            "right": null,
            "top": null,
            "visibility": null,
            "width": null
          }
        },
        "553ca762a3344408b078ff85c3dbc906": {
          "model_module": "@jupyter-widgets/controls",
          "model_name": "DescriptionStyleModel",
          "model_module_version": "1.5.0",
          "state": {
            "_model_module": "@jupyter-widgets/controls",
            "_model_module_version": "1.5.0",
            "_model_name": "DescriptionStyleModel",
            "_view_count": null,
            "_view_module": "@jupyter-widgets/base",
            "_view_module_version": "1.2.0",
            "_view_name": "StyleView",
            "description_width": ""
          }
        },
        "f947fa882bf442489e67af517ee5a783": {
          "model_module": "@jupyter-widgets/base",
          "model_name": "LayoutModel",
          "model_module_version": "1.2.0",
          "state": {
            "_model_module": "@jupyter-widgets/base",
            "_model_module_version": "1.2.0",
            "_model_name": "LayoutModel",
            "_view_count": null,
            "_view_module": "@jupyter-widgets/base",
            "_view_module_version": "1.2.0",
            "_view_name": "LayoutView",
            "align_content": null,
            "align_items": null,
            "align_self": null,
            "border": null,
            "bottom": null,
            "display": null,
            "flex": null,
            "flex_flow": null,
            "grid_area": null,
            "grid_auto_columns": null,
            "grid_auto_flow": null,
            "grid_auto_rows": null,
            "grid_column": null,
            "grid_gap": null,
            "grid_row": null,
            "grid_template_areas": null,
            "grid_template_columns": null,
            "grid_template_rows": null,
            "height": null,
            "justify_content": null,
            "justify_items": null,
            "left": null,
            "margin": null,
            "max_height": null,
            "max_width": null,
            "min_height": null,
            "min_width": null,
            "object_fit": null,
            "object_position": null,
            "order": null,
            "overflow": null,
            "overflow_x": null,
            "overflow_y": null,
            "padding": null,
            "right": null,
            "top": null,
            "visibility": null,
            "width": null
          }
        },
        "1df5f23da9bb48059ab83b8fd0480ff9": {
          "model_module": "@jupyter-widgets/controls",
          "model_name": "ProgressStyleModel",
          "model_module_version": "1.5.0",
          "state": {
            "_model_module": "@jupyter-widgets/controls",
            "_model_module_version": "1.5.0",
            "_model_name": "ProgressStyleModel",
            "_view_count": null,
            "_view_module": "@jupyter-widgets/base",
            "_view_module_version": "1.2.0",
            "_view_name": "StyleView",
            "bar_color": null,
            "description_width": ""
          }
        },
        "8856e8eaffd44823b26fe27e7203e1b9": {
          "model_module": "@jupyter-widgets/base",
          "model_name": "LayoutModel",
          "model_module_version": "1.2.0",
          "state": {
            "_model_module": "@jupyter-widgets/base",
            "_model_module_version": "1.2.0",
            "_model_name": "LayoutModel",
            "_view_count": null,
            "_view_module": "@jupyter-widgets/base",
            "_view_module_version": "1.2.0",
            "_view_name": "LayoutView",
            "align_content": null,
            "align_items": null,
            "align_self": null,
            "border": null,
            "bottom": null,
            "display": null,
            "flex": null,
            "flex_flow": null,
            "grid_area": null,
            "grid_auto_columns": null,
            "grid_auto_flow": null,
            "grid_auto_rows": null,
            "grid_column": null,
            "grid_gap": null,
            "grid_row": null,
            "grid_template_areas": null,
            "grid_template_columns": null,
            "grid_template_rows": null,
            "height": null,
            "justify_content": null,
            "justify_items": null,
            "left": null,
            "margin": null,
            "max_height": null,
            "max_width": null,
            "min_height": null,
            "min_width": null,
            "object_fit": null,
            "object_position": null,
            "order": null,
            "overflow": null,
            "overflow_x": null,
            "overflow_y": null,
            "padding": null,
            "right": null,
            "top": null,
            "visibility": null,
            "width": null
          }
        },
        "4a669fe8162e48b280405f70505ee4c1": {
          "model_module": "@jupyter-widgets/controls",
          "model_name": "DescriptionStyleModel",
          "model_module_version": "1.5.0",
          "state": {
            "_model_module": "@jupyter-widgets/controls",
            "_model_module_version": "1.5.0",
            "_model_name": "DescriptionStyleModel",
            "_view_count": null,
            "_view_module": "@jupyter-widgets/base",
            "_view_module_version": "1.2.0",
            "_view_name": "StyleView",
            "description_width": ""
          }
        },
        "f6e0b87258f349ab9c12ac3d8913393f": {
          "model_module": "@jupyter-widgets/controls",
          "model_name": "HBoxModel",
          "model_module_version": "1.5.0",
          "state": {
            "_dom_classes": [],
            "_model_module": "@jupyter-widgets/controls",
            "_model_module_version": "1.5.0",
            "_model_name": "HBoxModel",
            "_view_count": null,
            "_view_module": "@jupyter-widgets/controls",
            "_view_module_version": "1.5.0",
            "_view_name": "HBoxView",
            "box_style": "",
            "children": [
              "IPY_MODEL_b18cc98aaff846e08e50bec65e8a6280",
              "IPY_MODEL_9bffeffa4a22403e84e9546fdde3b210",
              "IPY_MODEL_325b3c9106624448a6a5d6bcd507f806"
            ],
            "layout": "IPY_MODEL_df174b15a08749aa86c4a497211b6efa"
          }
        },
        "b18cc98aaff846e08e50bec65e8a6280": {
          "model_module": "@jupyter-widgets/controls",
          "model_name": "HTMLModel",
          "model_module_version": "1.5.0",
          "state": {
            "_dom_classes": [],
            "_model_module": "@jupyter-widgets/controls",
            "_model_module_version": "1.5.0",
            "_model_name": "HTMLModel",
            "_view_count": null,
            "_view_module": "@jupyter-widgets/controls",
            "_view_module_version": "1.5.0",
            "_view_name": "HTMLView",
            "description": "",
            "description_tooltip": null,
            "layout": "IPY_MODEL_11fcbdf22cea42bba45a33c38581d8fb",
            "placeholder": "​",
            "style": "IPY_MODEL_6ff337b061cf4662809c4d951fb9ba28",
            "value": "100%"
          }
        },
        "9bffeffa4a22403e84e9546fdde3b210": {
          "model_module": "@jupyter-widgets/controls",
          "model_name": "FloatProgressModel",
          "model_module_version": "1.5.0",
          "state": {
            "_dom_classes": [],
            "_model_module": "@jupyter-widgets/controls",
            "_model_module_version": "1.5.0",
            "_model_name": "FloatProgressModel",
            "_view_count": null,
            "_view_module": "@jupyter-widgets/controls",
            "_view_module_version": "1.5.0",
            "_view_name": "ProgressView",
            "bar_style": "success",
            "description": "",
            "description_tooltip": null,
            "layout": "IPY_MODEL_b35325780a234c22b80ea2634c2a89d1",
            "max": 3600,
            "min": 0,
            "orientation": "horizontal",
            "style": "IPY_MODEL_c67b7e53938c487c852fa3fb5721104f",
            "value": 3600
          }
        },
        "325b3c9106624448a6a5d6bcd507f806": {
          "model_module": "@jupyter-widgets/controls",
          "model_name": "HTMLModel",
          "model_module_version": "1.5.0",
          "state": {
            "_dom_classes": [],
            "_model_module": "@jupyter-widgets/controls",
            "_model_module_version": "1.5.0",
            "_model_name": "HTMLModel",
            "_view_count": null,
            "_view_module": "@jupyter-widgets/controls",
            "_view_module_version": "1.5.0",
            "_view_name": "HTMLView",
            "description": "",
            "description_tooltip": null,
            "layout": "IPY_MODEL_041df9a0596a45e5921cc0dc4555a31f",
            "placeholder": "​",
            "style": "IPY_MODEL_8928329a804d4431b7ef13b5c4fd4a7b",
            "value": " 3600/3600 [1:27:13&lt;00:00,  1.50s/it]"
          }
        },
        "df174b15a08749aa86c4a497211b6efa": {
          "model_module": "@jupyter-widgets/base",
          "model_name": "LayoutModel",
          "model_module_version": "1.2.0",
          "state": {
            "_model_module": "@jupyter-widgets/base",
            "_model_module_version": "1.2.0",
            "_model_name": "LayoutModel",
            "_view_count": null,
            "_view_module": "@jupyter-widgets/base",
            "_view_module_version": "1.2.0",
            "_view_name": "LayoutView",
            "align_content": null,
            "align_items": null,
            "align_self": null,
            "border": null,
            "bottom": null,
            "display": null,
            "flex": null,
            "flex_flow": null,
            "grid_area": null,
            "grid_auto_columns": null,
            "grid_auto_flow": null,
            "grid_auto_rows": null,
            "grid_column": null,
            "grid_gap": null,
            "grid_row": null,
            "grid_template_areas": null,
            "grid_template_columns": null,
            "grid_template_rows": null,
            "height": null,
            "justify_content": null,
            "justify_items": null,
            "left": null,
            "margin": null,
            "max_height": null,
            "max_width": null,
            "min_height": null,
            "min_width": null,
            "object_fit": null,
            "object_position": null,
            "order": null,
            "overflow": null,
            "overflow_x": null,
            "overflow_y": null,
            "padding": null,
            "right": null,
            "top": null,
            "visibility": null,
            "width": null
          }
        },
        "11fcbdf22cea42bba45a33c38581d8fb": {
          "model_module": "@jupyter-widgets/base",
          "model_name": "LayoutModel",
          "model_module_version": "1.2.0",
          "state": {
            "_model_module": "@jupyter-widgets/base",
            "_model_module_version": "1.2.0",
            "_model_name": "LayoutModel",
            "_view_count": null,
            "_view_module": "@jupyter-widgets/base",
            "_view_module_version": "1.2.0",
            "_view_name": "LayoutView",
            "align_content": null,
            "align_items": null,
            "align_self": null,
            "border": null,
            "bottom": null,
            "display": null,
            "flex": null,
            "flex_flow": null,
            "grid_area": null,
            "grid_auto_columns": null,
            "grid_auto_flow": null,
            "grid_auto_rows": null,
            "grid_column": null,
            "grid_gap": null,
            "grid_row": null,
            "grid_template_areas": null,
            "grid_template_columns": null,
            "grid_template_rows": null,
            "height": null,
            "justify_content": null,
            "justify_items": null,
            "left": null,
            "margin": null,
            "max_height": null,
            "max_width": null,
            "min_height": null,
            "min_width": null,
            "object_fit": null,
            "object_position": null,
            "order": null,
            "overflow": null,
            "overflow_x": null,
            "overflow_y": null,
            "padding": null,
            "right": null,
            "top": null,
            "visibility": null,
            "width": null
          }
        },
        "6ff337b061cf4662809c4d951fb9ba28": {
          "model_module": "@jupyter-widgets/controls",
          "model_name": "DescriptionStyleModel",
          "model_module_version": "1.5.0",
          "state": {
            "_model_module": "@jupyter-widgets/controls",
            "_model_module_version": "1.5.0",
            "_model_name": "DescriptionStyleModel",
            "_view_count": null,
            "_view_module": "@jupyter-widgets/base",
            "_view_module_version": "1.2.0",
            "_view_name": "StyleView",
            "description_width": ""
          }
        },
        "b35325780a234c22b80ea2634c2a89d1": {
          "model_module": "@jupyter-widgets/base",
          "model_name": "LayoutModel",
          "model_module_version": "1.2.0",
          "state": {
            "_model_module": "@jupyter-widgets/base",
            "_model_module_version": "1.2.0",
            "_model_name": "LayoutModel",
            "_view_count": null,
            "_view_module": "@jupyter-widgets/base",
            "_view_module_version": "1.2.0",
            "_view_name": "LayoutView",
            "align_content": null,
            "align_items": null,
            "align_self": null,
            "border": null,
            "bottom": null,
            "display": null,
            "flex": null,
            "flex_flow": null,
            "grid_area": null,
            "grid_auto_columns": null,
            "grid_auto_flow": null,
            "grid_auto_rows": null,
            "grid_column": null,
            "grid_gap": null,
            "grid_row": null,
            "grid_template_areas": null,
            "grid_template_columns": null,
            "grid_template_rows": null,
            "height": null,
            "justify_content": null,
            "justify_items": null,
            "left": null,
            "margin": null,
            "max_height": null,
            "max_width": null,
            "min_height": null,
            "min_width": null,
            "object_fit": null,
            "object_position": null,
            "order": null,
            "overflow": null,
            "overflow_x": null,
            "overflow_y": null,
            "padding": null,
            "right": null,
            "top": null,
            "visibility": null,
            "width": null
          }
        },
        "c67b7e53938c487c852fa3fb5721104f": {
          "model_module": "@jupyter-widgets/controls",
          "model_name": "ProgressStyleModel",
          "model_module_version": "1.5.0",
          "state": {
            "_model_module": "@jupyter-widgets/controls",
            "_model_module_version": "1.5.0",
            "_model_name": "ProgressStyleModel",
            "_view_count": null,
            "_view_module": "@jupyter-widgets/base",
            "_view_module_version": "1.2.0",
            "_view_name": "StyleView",
            "bar_color": null,
            "description_width": ""
          }
        },
        "041df9a0596a45e5921cc0dc4555a31f": {
          "model_module": "@jupyter-widgets/base",
          "model_name": "LayoutModel",
          "model_module_version": "1.2.0",
          "state": {
            "_model_module": "@jupyter-widgets/base",
            "_model_module_version": "1.2.0",
            "_model_name": "LayoutModel",
            "_view_count": null,
            "_view_module": "@jupyter-widgets/base",
            "_view_module_version": "1.2.0",
            "_view_name": "LayoutView",
            "align_content": null,
            "align_items": null,
            "align_self": null,
            "border": null,
            "bottom": null,
            "display": null,
            "flex": null,
            "flex_flow": null,
            "grid_area": null,
            "grid_auto_columns": null,
            "grid_auto_flow": null,
            "grid_auto_rows": null,
            "grid_column": null,
            "grid_gap": null,
            "grid_row": null,
            "grid_template_areas": null,
            "grid_template_columns": null,
            "grid_template_rows": null,
            "height": null,
            "justify_content": null,
            "justify_items": null,
            "left": null,
            "margin": null,
            "max_height": null,
            "max_width": null,
            "min_height": null,
            "min_width": null,
            "object_fit": null,
            "object_position": null,
            "order": null,
            "overflow": null,
            "overflow_x": null,
            "overflow_y": null,
            "padding": null,
            "right": null,
            "top": null,
            "visibility": null,
            "width": null
          }
        },
        "8928329a804d4431b7ef13b5c4fd4a7b": {
          "model_module": "@jupyter-widgets/controls",
          "model_name": "DescriptionStyleModel",
          "model_module_version": "1.5.0",
          "state": {
            "_model_module": "@jupyter-widgets/controls",
            "_model_module_version": "1.5.0",
            "_model_name": "DescriptionStyleModel",
            "_view_count": null,
            "_view_module": "@jupyter-widgets/base",
            "_view_module_version": "1.2.0",
            "_view_name": "StyleView",
            "description_width": ""
          }
        },
        "fae6558d0c9e4e2ab6dfa3c4ef11a57a": {
          "model_module": "@jupyter-widgets/controls",
          "model_name": "HBoxModel",
          "model_module_version": "1.5.0",
          "state": {
            "_dom_classes": [],
            "_model_module": "@jupyter-widgets/controls",
            "_model_module_version": "1.5.0",
            "_model_name": "HBoxModel",
            "_view_count": null,
            "_view_module": "@jupyter-widgets/controls",
            "_view_module_version": "1.5.0",
            "_view_name": "HBoxView",
            "box_style": "",
            "children": [
              "IPY_MODEL_96b0db8ed1d74a51ab4beb6d48873c6a",
              "IPY_MODEL_50ba1c154ea349ac818569deed862e8f",
              "IPY_MODEL_70e8ad952b324b29a129640e0ffcee54"
            ],
            "layout": "IPY_MODEL_e6cf061120074a14ae85350444516d1c"
          }
        },
        "96b0db8ed1d74a51ab4beb6d48873c6a": {
          "model_module": "@jupyter-widgets/controls",
          "model_name": "HTMLModel",
          "model_module_version": "1.5.0",
          "state": {
            "_dom_classes": [],
            "_model_module": "@jupyter-widgets/controls",
            "_model_module_version": "1.5.0",
            "_model_name": "HTMLModel",
            "_view_count": null,
            "_view_module": "@jupyter-widgets/controls",
            "_view_module_version": "1.5.0",
            "_view_name": "HTMLView",
            "description": "",
            "description_tooltip": null,
            "layout": "IPY_MODEL_6927e3dac7fe42fca07ae5e4d927fe03",
            "placeholder": "​",
            "style": "IPY_MODEL_69f7fcaed2f94f6da8fcb324f52a3980",
            "value": "100%"
          }
        },
        "50ba1c154ea349ac818569deed862e8f": {
          "model_module": "@jupyter-widgets/controls",
          "model_name": "FloatProgressModel",
          "model_module_version": "1.5.0",
          "state": {
            "_dom_classes": [],
            "_model_module": "@jupyter-widgets/controls",
            "_model_module_version": "1.5.0",
            "_model_name": "FloatProgressModel",
            "_view_count": null,
            "_view_module": "@jupyter-widgets/controls",
            "_view_module_version": "1.5.0",
            "_view_name": "ProgressView",
            "bar_style": "success",
            "description": "",
            "description_tooltip": null,
            "layout": "IPY_MODEL_e949a8880e74407981bad62b2bee3637",
            "max": 3600,
            "min": 0,
            "orientation": "horizontal",
            "style": "IPY_MODEL_551c2f7d11da4ecdaa3d917f67de1481",
            "value": 3600
          }
        },
        "70e8ad952b324b29a129640e0ffcee54": {
          "model_module": "@jupyter-widgets/controls",
          "model_name": "HTMLModel",
          "model_module_version": "1.5.0",
          "state": {
            "_dom_classes": [],
            "_model_module": "@jupyter-widgets/controls",
            "_model_module_version": "1.5.0",
            "_model_name": "HTMLModel",
            "_view_count": null,
            "_view_module": "@jupyter-widgets/controls",
            "_view_module_version": "1.5.0",
            "_view_name": "HTMLView",
            "description": "",
            "description_tooltip": null,
            "layout": "IPY_MODEL_61ee285dfac04bd79ff49a6ee868cd5b",
            "placeholder": "​",
            "style": "IPY_MODEL_b9b7197fdbc84ea9b8e0903c81013877",
            "value": " 3600/3600 [1:26:44&lt;00:00,  1.76s/it]"
          }
        },
        "e6cf061120074a14ae85350444516d1c": {
          "model_module": "@jupyter-widgets/base",
          "model_name": "LayoutModel",
          "model_module_version": "1.2.0",
          "state": {
            "_model_module": "@jupyter-widgets/base",
            "_model_module_version": "1.2.0",
            "_model_name": "LayoutModel",
            "_view_count": null,
            "_view_module": "@jupyter-widgets/base",
            "_view_module_version": "1.2.0",
            "_view_name": "LayoutView",
            "align_content": null,
            "align_items": null,
            "align_self": null,
            "border": null,
            "bottom": null,
            "display": null,
            "flex": null,
            "flex_flow": null,
            "grid_area": null,
            "grid_auto_columns": null,
            "grid_auto_flow": null,
            "grid_auto_rows": null,
            "grid_column": null,
            "grid_gap": null,
            "grid_row": null,
            "grid_template_areas": null,
            "grid_template_columns": null,
            "grid_template_rows": null,
            "height": null,
            "justify_content": null,
            "justify_items": null,
            "left": null,
            "margin": null,
            "max_height": null,
            "max_width": null,
            "min_height": null,
            "min_width": null,
            "object_fit": null,
            "object_position": null,
            "order": null,
            "overflow": null,
            "overflow_x": null,
            "overflow_y": null,
            "padding": null,
            "right": null,
            "top": null,
            "visibility": null,
            "width": null
          }
        },
        "6927e3dac7fe42fca07ae5e4d927fe03": {
          "model_module": "@jupyter-widgets/base",
          "model_name": "LayoutModel",
          "model_module_version": "1.2.0",
          "state": {
            "_model_module": "@jupyter-widgets/base",
            "_model_module_version": "1.2.0",
            "_model_name": "LayoutModel",
            "_view_count": null,
            "_view_module": "@jupyter-widgets/base",
            "_view_module_version": "1.2.0",
            "_view_name": "LayoutView",
            "align_content": null,
            "align_items": null,
            "align_self": null,
            "border": null,
            "bottom": null,
            "display": null,
            "flex": null,
            "flex_flow": null,
            "grid_area": null,
            "grid_auto_columns": null,
            "grid_auto_flow": null,
            "grid_auto_rows": null,
            "grid_column": null,
            "grid_gap": null,
            "grid_row": null,
            "grid_template_areas": null,
            "grid_template_columns": null,
            "grid_template_rows": null,
            "height": null,
            "justify_content": null,
            "justify_items": null,
            "left": null,
            "margin": null,
            "max_height": null,
            "max_width": null,
            "min_height": null,
            "min_width": null,
            "object_fit": null,
            "object_position": null,
            "order": null,
            "overflow": null,
            "overflow_x": null,
            "overflow_y": null,
            "padding": null,
            "right": null,
            "top": null,
            "visibility": null,
            "width": null
          }
        },
        "69f7fcaed2f94f6da8fcb324f52a3980": {
          "model_module": "@jupyter-widgets/controls",
          "model_name": "DescriptionStyleModel",
          "model_module_version": "1.5.0",
          "state": {
            "_model_module": "@jupyter-widgets/controls",
            "_model_module_version": "1.5.0",
            "_model_name": "DescriptionStyleModel",
            "_view_count": null,
            "_view_module": "@jupyter-widgets/base",
            "_view_module_version": "1.2.0",
            "_view_name": "StyleView",
            "description_width": ""
          }
        },
        "e949a8880e74407981bad62b2bee3637": {
          "model_module": "@jupyter-widgets/base",
          "model_name": "LayoutModel",
          "model_module_version": "1.2.0",
          "state": {
            "_model_module": "@jupyter-widgets/base",
            "_model_module_version": "1.2.0",
            "_model_name": "LayoutModel",
            "_view_count": null,
            "_view_module": "@jupyter-widgets/base",
            "_view_module_version": "1.2.0",
            "_view_name": "LayoutView",
            "align_content": null,
            "align_items": null,
            "align_self": null,
            "border": null,
            "bottom": null,
            "display": null,
            "flex": null,
            "flex_flow": null,
            "grid_area": null,
            "grid_auto_columns": null,
            "grid_auto_flow": null,
            "grid_auto_rows": null,
            "grid_column": null,
            "grid_gap": null,
            "grid_row": null,
            "grid_template_areas": null,
            "grid_template_columns": null,
            "grid_template_rows": null,
            "height": null,
            "justify_content": null,
            "justify_items": null,
            "left": null,
            "margin": null,
            "max_height": null,
            "max_width": null,
            "min_height": null,
            "min_width": null,
            "object_fit": null,
            "object_position": null,
            "order": null,
            "overflow": null,
            "overflow_x": null,
            "overflow_y": null,
            "padding": null,
            "right": null,
            "top": null,
            "visibility": null,
            "width": null
          }
        },
        "551c2f7d11da4ecdaa3d917f67de1481": {
          "model_module": "@jupyter-widgets/controls",
          "model_name": "ProgressStyleModel",
          "model_module_version": "1.5.0",
          "state": {
            "_model_module": "@jupyter-widgets/controls",
            "_model_module_version": "1.5.0",
            "_model_name": "ProgressStyleModel",
            "_view_count": null,
            "_view_module": "@jupyter-widgets/base",
            "_view_module_version": "1.2.0",
            "_view_name": "StyleView",
            "bar_color": null,
            "description_width": ""
          }
        },
        "61ee285dfac04bd79ff49a6ee868cd5b": {
          "model_module": "@jupyter-widgets/base",
          "model_name": "LayoutModel",
          "model_module_version": "1.2.0",
          "state": {
            "_model_module": "@jupyter-widgets/base",
            "_model_module_version": "1.2.0",
            "_model_name": "LayoutModel",
            "_view_count": null,
            "_view_module": "@jupyter-widgets/base",
            "_view_module_version": "1.2.0",
            "_view_name": "LayoutView",
            "align_content": null,
            "align_items": null,
            "align_self": null,
            "border": null,
            "bottom": null,
            "display": null,
            "flex": null,
            "flex_flow": null,
            "grid_area": null,
            "grid_auto_columns": null,
            "grid_auto_flow": null,
            "grid_auto_rows": null,
            "grid_column": null,
            "grid_gap": null,
            "grid_row": null,
            "grid_template_areas": null,
            "grid_template_columns": null,
            "grid_template_rows": null,
            "height": null,
            "justify_content": null,
            "justify_items": null,
            "left": null,
            "margin": null,
            "max_height": null,
            "max_width": null,
            "min_height": null,
            "min_width": null,
            "object_fit": null,
            "object_position": null,
            "order": null,
            "overflow": null,
            "overflow_x": null,
            "overflow_y": null,
            "padding": null,
            "right": null,
            "top": null,
            "visibility": null,
            "width": null
          }
        },
        "b9b7197fdbc84ea9b8e0903c81013877": {
          "model_module": "@jupyter-widgets/controls",
          "model_name": "DescriptionStyleModel",
          "model_module_version": "1.5.0",
          "state": {
            "_model_module": "@jupyter-widgets/controls",
            "_model_module_version": "1.5.0",
            "_model_name": "DescriptionStyleModel",
            "_view_count": null,
            "_view_module": "@jupyter-widgets/base",
            "_view_module_version": "1.2.0",
            "_view_name": "StyleView",
            "description_width": ""
          }
        },
        "e1c150279487477f9875ee313ef9ee97": {
          "model_module": "@jupyter-widgets/controls",
          "model_name": "HBoxModel",
          "model_module_version": "1.5.0",
          "state": {
            "_dom_classes": [],
            "_model_module": "@jupyter-widgets/controls",
            "_model_module_version": "1.5.0",
            "_model_name": "HBoxModel",
            "_view_count": null,
            "_view_module": "@jupyter-widgets/controls",
            "_view_module_version": "1.5.0",
            "_view_name": "HBoxView",
            "box_style": "",
            "children": [
              "IPY_MODEL_7c16ae9c265641c388a2c53784083cab",
              "IPY_MODEL_2c8c2c6993954891bbd5fe98f9020de8",
              "IPY_MODEL_67388e48686847d58a42a1eaaa70a6e6"
            ],
            "layout": "IPY_MODEL_caa2ce43ac07447ab32355d1c927c947"
          }
        },
        "7c16ae9c265641c388a2c53784083cab": {
          "model_module": "@jupyter-widgets/controls",
          "model_name": "HTMLModel",
          "model_module_version": "1.5.0",
          "state": {
            "_dom_classes": [],
            "_model_module": "@jupyter-widgets/controls",
            "_model_module_version": "1.5.0",
            "_model_name": "HTMLModel",
            "_view_count": null,
            "_view_module": "@jupyter-widgets/controls",
            "_view_module_version": "1.5.0",
            "_view_name": "HTMLView",
            "description": "",
            "description_tooltip": null,
            "layout": "IPY_MODEL_ec09a5b10c6c42c987f9649ce5f8cb79",
            "placeholder": "​",
            "style": "IPY_MODEL_2d15565be2ae4ba88591a523e4d72897",
            "value": "100%"
          }
        },
        "2c8c2c6993954891bbd5fe98f9020de8": {
          "model_module": "@jupyter-widgets/controls",
          "model_name": "FloatProgressModel",
          "model_module_version": "1.5.0",
          "state": {
            "_dom_classes": [],
            "_model_module": "@jupyter-widgets/controls",
            "_model_module_version": "1.5.0",
            "_model_name": "FloatProgressModel",
            "_view_count": null,
            "_view_module": "@jupyter-widgets/controls",
            "_view_module_version": "1.5.0",
            "_view_name": "ProgressView",
            "bar_style": "success",
            "description": "",
            "description_tooltip": null,
            "layout": "IPY_MODEL_edca53f43b2944799bdcb7fc17608937",
            "max": 3600,
            "min": 0,
            "orientation": "horizontal",
            "style": "IPY_MODEL_62d795897b204474b04d24772e62ce2e",
            "value": 3600
          }
        },
        "67388e48686847d58a42a1eaaa70a6e6": {
          "model_module": "@jupyter-widgets/controls",
          "model_name": "HTMLModel",
          "model_module_version": "1.5.0",
          "state": {
            "_dom_classes": [],
            "_model_module": "@jupyter-widgets/controls",
            "_model_module_version": "1.5.0",
            "_model_name": "HTMLModel",
            "_view_count": null,
            "_view_module": "@jupyter-widgets/controls",
            "_view_module_version": "1.5.0",
            "_view_name": "HTMLView",
            "description": "",
            "description_tooltip": null,
            "layout": "IPY_MODEL_d178543174194798af368287d898f956",
            "placeholder": "​",
            "style": "IPY_MODEL_63a077f2cd394ecd816ee66267d42082",
            "value": " 3600/3600 [1:27:11&lt;00:00,  1.71s/it]"
          }
        },
        "caa2ce43ac07447ab32355d1c927c947": {
          "model_module": "@jupyter-widgets/base",
          "model_name": "LayoutModel",
          "model_module_version": "1.2.0",
          "state": {
            "_model_module": "@jupyter-widgets/base",
            "_model_module_version": "1.2.0",
            "_model_name": "LayoutModel",
            "_view_count": null,
            "_view_module": "@jupyter-widgets/base",
            "_view_module_version": "1.2.0",
            "_view_name": "LayoutView",
            "align_content": null,
            "align_items": null,
            "align_self": null,
            "border": null,
            "bottom": null,
            "display": null,
            "flex": null,
            "flex_flow": null,
            "grid_area": null,
            "grid_auto_columns": null,
            "grid_auto_flow": null,
            "grid_auto_rows": null,
            "grid_column": null,
            "grid_gap": null,
            "grid_row": null,
            "grid_template_areas": null,
            "grid_template_columns": null,
            "grid_template_rows": null,
            "height": null,
            "justify_content": null,
            "justify_items": null,
            "left": null,
            "margin": null,
            "max_height": null,
            "max_width": null,
            "min_height": null,
            "min_width": null,
            "object_fit": null,
            "object_position": null,
            "order": null,
            "overflow": null,
            "overflow_x": null,
            "overflow_y": null,
            "padding": null,
            "right": null,
            "top": null,
            "visibility": null,
            "width": null
          }
        },
        "ec09a5b10c6c42c987f9649ce5f8cb79": {
          "model_module": "@jupyter-widgets/base",
          "model_name": "LayoutModel",
          "model_module_version": "1.2.0",
          "state": {
            "_model_module": "@jupyter-widgets/base",
            "_model_module_version": "1.2.0",
            "_model_name": "LayoutModel",
            "_view_count": null,
            "_view_module": "@jupyter-widgets/base",
            "_view_module_version": "1.2.0",
            "_view_name": "LayoutView",
            "align_content": null,
            "align_items": null,
            "align_self": null,
            "border": null,
            "bottom": null,
            "display": null,
            "flex": null,
            "flex_flow": null,
            "grid_area": null,
            "grid_auto_columns": null,
            "grid_auto_flow": null,
            "grid_auto_rows": null,
            "grid_column": null,
            "grid_gap": null,
            "grid_row": null,
            "grid_template_areas": null,
            "grid_template_columns": null,
            "grid_template_rows": null,
            "height": null,
            "justify_content": null,
            "justify_items": null,
            "left": null,
            "margin": null,
            "max_height": null,
            "max_width": null,
            "min_height": null,
            "min_width": null,
            "object_fit": null,
            "object_position": null,
            "order": null,
            "overflow": null,
            "overflow_x": null,
            "overflow_y": null,
            "padding": null,
            "right": null,
            "top": null,
            "visibility": null,
            "width": null
          }
        },
        "2d15565be2ae4ba88591a523e4d72897": {
          "model_module": "@jupyter-widgets/controls",
          "model_name": "DescriptionStyleModel",
          "model_module_version": "1.5.0",
          "state": {
            "_model_module": "@jupyter-widgets/controls",
            "_model_module_version": "1.5.0",
            "_model_name": "DescriptionStyleModel",
            "_view_count": null,
            "_view_module": "@jupyter-widgets/base",
            "_view_module_version": "1.2.0",
            "_view_name": "StyleView",
            "description_width": ""
          }
        },
        "edca53f43b2944799bdcb7fc17608937": {
          "model_module": "@jupyter-widgets/base",
          "model_name": "LayoutModel",
          "model_module_version": "1.2.0",
          "state": {
            "_model_module": "@jupyter-widgets/base",
            "_model_module_version": "1.2.0",
            "_model_name": "LayoutModel",
            "_view_count": null,
            "_view_module": "@jupyter-widgets/base",
            "_view_module_version": "1.2.0",
            "_view_name": "LayoutView",
            "align_content": null,
            "align_items": null,
            "align_self": null,
            "border": null,
            "bottom": null,
            "display": null,
            "flex": null,
            "flex_flow": null,
            "grid_area": null,
            "grid_auto_columns": null,
            "grid_auto_flow": null,
            "grid_auto_rows": null,
            "grid_column": null,
            "grid_gap": null,
            "grid_row": null,
            "grid_template_areas": null,
            "grid_template_columns": null,
            "grid_template_rows": null,
            "height": null,
            "justify_content": null,
            "justify_items": null,
            "left": null,
            "margin": null,
            "max_height": null,
            "max_width": null,
            "min_height": null,
            "min_width": null,
            "object_fit": null,
            "object_position": null,
            "order": null,
            "overflow": null,
            "overflow_x": null,
            "overflow_y": null,
            "padding": null,
            "right": null,
            "top": null,
            "visibility": null,
            "width": null
          }
        },
        "62d795897b204474b04d24772e62ce2e": {
          "model_module": "@jupyter-widgets/controls",
          "model_name": "ProgressStyleModel",
          "model_module_version": "1.5.0",
          "state": {
            "_model_module": "@jupyter-widgets/controls",
            "_model_module_version": "1.5.0",
            "_model_name": "ProgressStyleModel",
            "_view_count": null,
            "_view_module": "@jupyter-widgets/base",
            "_view_module_version": "1.2.0",
            "_view_name": "StyleView",
            "bar_color": null,
            "description_width": ""
          }
        },
        "d178543174194798af368287d898f956": {
          "model_module": "@jupyter-widgets/base",
          "model_name": "LayoutModel",
          "model_module_version": "1.2.0",
          "state": {
            "_model_module": "@jupyter-widgets/base",
            "_model_module_version": "1.2.0",
            "_model_name": "LayoutModel",
            "_view_count": null,
            "_view_module": "@jupyter-widgets/base",
            "_view_module_version": "1.2.0",
            "_view_name": "LayoutView",
            "align_content": null,
            "align_items": null,
            "align_self": null,
            "border": null,
            "bottom": null,
            "display": null,
            "flex": null,
            "flex_flow": null,
            "grid_area": null,
            "grid_auto_columns": null,
            "grid_auto_flow": null,
            "grid_auto_rows": null,
            "grid_column": null,
            "grid_gap": null,
            "grid_row": null,
            "grid_template_areas": null,
            "grid_template_columns": null,
            "grid_template_rows": null,
            "height": null,
            "justify_content": null,
            "justify_items": null,
            "left": null,
            "margin": null,
            "max_height": null,
            "max_width": null,
            "min_height": null,
            "min_width": null,
            "object_fit": null,
            "object_position": null,
            "order": null,
            "overflow": null,
            "overflow_x": null,
            "overflow_y": null,
            "padding": null,
            "right": null,
            "top": null,
            "visibility": null,
            "width": null
          }
        },
        "63a077f2cd394ecd816ee66267d42082": {
          "model_module": "@jupyter-widgets/controls",
          "model_name": "DescriptionStyleModel",
          "model_module_version": "1.5.0",
          "state": {
            "_model_module": "@jupyter-widgets/controls",
            "_model_module_version": "1.5.0",
            "_model_name": "DescriptionStyleModel",
            "_view_count": null,
            "_view_module": "@jupyter-widgets/base",
            "_view_module_version": "1.2.0",
            "_view_name": "StyleView",
            "description_width": ""
          }
        },
        "1354af9670d54fa8be457489e8fb6468": {
          "model_module": "@jupyter-widgets/controls",
          "model_name": "HBoxModel",
          "model_module_version": "1.5.0",
          "state": {
            "_dom_classes": [],
            "_model_module": "@jupyter-widgets/controls",
            "_model_module_version": "1.5.0",
            "_model_name": "HBoxModel",
            "_view_count": null,
            "_view_module": "@jupyter-widgets/controls",
            "_view_module_version": "1.5.0",
            "_view_name": "HBoxView",
            "box_style": "",
            "children": [
              "IPY_MODEL_90ee97751d4e4de79450a14252ae53cc",
              "IPY_MODEL_1b53b20a419d4b50b966a5c81b696d4b",
              "IPY_MODEL_255f17062ec74d85b5e87b0c6833829c"
            ],
            "layout": "IPY_MODEL_04639f825e9942ffbb16491fd53eea63"
          }
        },
        "90ee97751d4e4de79450a14252ae53cc": {
          "model_module": "@jupyter-widgets/controls",
          "model_name": "HTMLModel",
          "model_module_version": "1.5.0",
          "state": {
            "_dom_classes": [],
            "_model_module": "@jupyter-widgets/controls",
            "_model_module_version": "1.5.0",
            "_model_name": "HTMLModel",
            "_view_count": null,
            "_view_module": "@jupyter-widgets/controls",
            "_view_module_version": "1.5.0",
            "_view_name": "HTMLView",
            "description": "",
            "description_tooltip": null,
            "layout": "IPY_MODEL_32950f1e9ec0414b82c5c914f25d55d1",
            "placeholder": "​",
            "style": "IPY_MODEL_06c1f7993ac545adb29c774f66839f41",
            "value": "100%"
          }
        },
        "1b53b20a419d4b50b966a5c81b696d4b": {
          "model_module": "@jupyter-widgets/controls",
          "model_name": "FloatProgressModel",
          "model_module_version": "1.5.0",
          "state": {
            "_dom_classes": [],
            "_model_module": "@jupyter-widgets/controls",
            "_model_module_version": "1.5.0",
            "_model_name": "FloatProgressModel",
            "_view_count": null,
            "_view_module": "@jupyter-widgets/controls",
            "_view_module_version": "1.5.0",
            "_view_name": "ProgressView",
            "bar_style": "success",
            "description": "",
            "description_tooltip": null,
            "layout": "IPY_MODEL_04e6061a2bec4694a75f76891188d60d",
            "max": 3600,
            "min": 0,
            "orientation": "horizontal",
            "style": "IPY_MODEL_274fee79b07c4991a437fd696439e108",
            "value": 3600
          }
        },
        "255f17062ec74d85b5e87b0c6833829c": {
          "model_module": "@jupyter-widgets/controls",
          "model_name": "HTMLModel",
          "model_module_version": "1.5.0",
          "state": {
            "_dom_classes": [],
            "_model_module": "@jupyter-widgets/controls",
            "_model_module_version": "1.5.0",
            "_model_name": "HTMLModel",
            "_view_count": null,
            "_view_module": "@jupyter-widgets/controls",
            "_view_module_version": "1.5.0",
            "_view_name": "HTMLView",
            "description": "",
            "description_tooltip": null,
            "layout": "IPY_MODEL_35538e83243a405daa0a22c8b8b1d6c9",
            "placeholder": "​",
            "style": "IPY_MODEL_7f6e3f578678444ea442255f32cb3aad",
            "value": " 3600/3600 [1:25:03&lt;00:00,  1.64s/it]"
          }
        },
        "04639f825e9942ffbb16491fd53eea63": {
          "model_module": "@jupyter-widgets/base",
          "model_name": "LayoutModel",
          "model_module_version": "1.2.0",
          "state": {
            "_model_module": "@jupyter-widgets/base",
            "_model_module_version": "1.2.0",
            "_model_name": "LayoutModel",
            "_view_count": null,
            "_view_module": "@jupyter-widgets/base",
            "_view_module_version": "1.2.0",
            "_view_name": "LayoutView",
            "align_content": null,
            "align_items": null,
            "align_self": null,
            "border": null,
            "bottom": null,
            "display": null,
            "flex": null,
            "flex_flow": null,
            "grid_area": null,
            "grid_auto_columns": null,
            "grid_auto_flow": null,
            "grid_auto_rows": null,
            "grid_column": null,
            "grid_gap": null,
            "grid_row": null,
            "grid_template_areas": null,
            "grid_template_columns": null,
            "grid_template_rows": null,
            "height": null,
            "justify_content": null,
            "justify_items": null,
            "left": null,
            "margin": null,
            "max_height": null,
            "max_width": null,
            "min_height": null,
            "min_width": null,
            "object_fit": null,
            "object_position": null,
            "order": null,
            "overflow": null,
            "overflow_x": null,
            "overflow_y": null,
            "padding": null,
            "right": null,
            "top": null,
            "visibility": null,
            "width": null
          }
        },
        "32950f1e9ec0414b82c5c914f25d55d1": {
          "model_module": "@jupyter-widgets/base",
          "model_name": "LayoutModel",
          "model_module_version": "1.2.0",
          "state": {
            "_model_module": "@jupyter-widgets/base",
            "_model_module_version": "1.2.0",
            "_model_name": "LayoutModel",
            "_view_count": null,
            "_view_module": "@jupyter-widgets/base",
            "_view_module_version": "1.2.0",
            "_view_name": "LayoutView",
            "align_content": null,
            "align_items": null,
            "align_self": null,
            "border": null,
            "bottom": null,
            "display": null,
            "flex": null,
            "flex_flow": null,
            "grid_area": null,
            "grid_auto_columns": null,
            "grid_auto_flow": null,
            "grid_auto_rows": null,
            "grid_column": null,
            "grid_gap": null,
            "grid_row": null,
            "grid_template_areas": null,
            "grid_template_columns": null,
            "grid_template_rows": null,
            "height": null,
            "justify_content": null,
            "justify_items": null,
            "left": null,
            "margin": null,
            "max_height": null,
            "max_width": null,
            "min_height": null,
            "min_width": null,
            "object_fit": null,
            "object_position": null,
            "order": null,
            "overflow": null,
            "overflow_x": null,
            "overflow_y": null,
            "padding": null,
            "right": null,
            "top": null,
            "visibility": null,
            "width": null
          }
        },
        "06c1f7993ac545adb29c774f66839f41": {
          "model_module": "@jupyter-widgets/controls",
          "model_name": "DescriptionStyleModel",
          "model_module_version": "1.5.0",
          "state": {
            "_model_module": "@jupyter-widgets/controls",
            "_model_module_version": "1.5.0",
            "_model_name": "DescriptionStyleModel",
            "_view_count": null,
            "_view_module": "@jupyter-widgets/base",
            "_view_module_version": "1.2.0",
            "_view_name": "StyleView",
            "description_width": ""
          }
        },
        "04e6061a2bec4694a75f76891188d60d": {
          "model_module": "@jupyter-widgets/base",
          "model_name": "LayoutModel",
          "model_module_version": "1.2.0",
          "state": {
            "_model_module": "@jupyter-widgets/base",
            "_model_module_version": "1.2.0",
            "_model_name": "LayoutModel",
            "_view_count": null,
            "_view_module": "@jupyter-widgets/base",
            "_view_module_version": "1.2.0",
            "_view_name": "LayoutView",
            "align_content": null,
            "align_items": null,
            "align_self": null,
            "border": null,
            "bottom": null,
            "display": null,
            "flex": null,
            "flex_flow": null,
            "grid_area": null,
            "grid_auto_columns": null,
            "grid_auto_flow": null,
            "grid_auto_rows": null,
            "grid_column": null,
            "grid_gap": null,
            "grid_row": null,
            "grid_template_areas": null,
            "grid_template_columns": null,
            "grid_template_rows": null,
            "height": null,
            "justify_content": null,
            "justify_items": null,
            "left": null,
            "margin": null,
            "max_height": null,
            "max_width": null,
            "min_height": null,
            "min_width": null,
            "object_fit": null,
            "object_position": null,
            "order": null,
            "overflow": null,
            "overflow_x": null,
            "overflow_y": null,
            "padding": null,
            "right": null,
            "top": null,
            "visibility": null,
            "width": null
          }
        },
        "274fee79b07c4991a437fd696439e108": {
          "model_module": "@jupyter-widgets/controls",
          "model_name": "ProgressStyleModel",
          "model_module_version": "1.5.0",
          "state": {
            "_model_module": "@jupyter-widgets/controls",
            "_model_module_version": "1.5.0",
            "_model_name": "ProgressStyleModel",
            "_view_count": null,
            "_view_module": "@jupyter-widgets/base",
            "_view_module_version": "1.2.0",
            "_view_name": "StyleView",
            "bar_color": null,
            "description_width": ""
          }
        },
        "35538e83243a405daa0a22c8b8b1d6c9": {
          "model_module": "@jupyter-widgets/base",
          "model_name": "LayoutModel",
          "model_module_version": "1.2.0",
          "state": {
            "_model_module": "@jupyter-widgets/base",
            "_model_module_version": "1.2.0",
            "_model_name": "LayoutModel",
            "_view_count": null,
            "_view_module": "@jupyter-widgets/base",
            "_view_module_version": "1.2.0",
            "_view_name": "LayoutView",
            "align_content": null,
            "align_items": null,
            "align_self": null,
            "border": null,
            "bottom": null,
            "display": null,
            "flex": null,
            "flex_flow": null,
            "grid_area": null,
            "grid_auto_columns": null,
            "grid_auto_flow": null,
            "grid_auto_rows": null,
            "grid_column": null,
            "grid_gap": null,
            "grid_row": null,
            "grid_template_areas": null,
            "grid_template_columns": null,
            "grid_template_rows": null,
            "height": null,
            "justify_content": null,
            "justify_items": null,
            "left": null,
            "margin": null,
            "max_height": null,
            "max_width": null,
            "min_height": null,
            "min_width": null,
            "object_fit": null,
            "object_position": null,
            "order": null,
            "overflow": null,
            "overflow_x": null,
            "overflow_y": null,
            "padding": null,
            "right": null,
            "top": null,
            "visibility": null,
            "width": null
          }
        },
        "7f6e3f578678444ea442255f32cb3aad": {
          "model_module": "@jupyter-widgets/controls",
          "model_name": "DescriptionStyleModel",
          "model_module_version": "1.5.0",
          "state": {
            "_model_module": "@jupyter-widgets/controls",
            "_model_module_version": "1.5.0",
            "_model_name": "DescriptionStyleModel",
            "_view_count": null,
            "_view_module": "@jupyter-widgets/base",
            "_view_module_version": "1.2.0",
            "_view_name": "StyleView",
            "description_width": ""
          }
        },
        "3e2a046b4e3a4155a0015622376d0619": {
          "model_module": "@jupyter-widgets/controls",
          "model_name": "HBoxModel",
          "model_module_version": "1.5.0",
          "state": {
            "_dom_classes": [],
            "_model_module": "@jupyter-widgets/controls",
            "_model_module_version": "1.5.0",
            "_model_name": "HBoxModel",
            "_view_count": null,
            "_view_module": "@jupyter-widgets/controls",
            "_view_module_version": "1.5.0",
            "_view_name": "HBoxView",
            "box_style": "",
            "children": [
              "IPY_MODEL_dce1e591eb1f414db58ecd180cf1296a",
              "IPY_MODEL_4f9688452b4941798b4fb094d5066d5b",
              "IPY_MODEL_1b11134efa7344538a82f262bd43a9aa"
            ],
            "layout": "IPY_MODEL_a2ebb28c666b49f0abee3144f6cbae84"
          }
        },
        "dce1e591eb1f414db58ecd180cf1296a": {
          "model_module": "@jupyter-widgets/controls",
          "model_name": "HTMLModel",
          "model_module_version": "1.5.0",
          "state": {
            "_dom_classes": [],
            "_model_module": "@jupyter-widgets/controls",
            "_model_module_version": "1.5.0",
            "_model_name": "HTMLModel",
            "_view_count": null,
            "_view_module": "@jupyter-widgets/controls",
            "_view_module_version": "1.5.0",
            "_view_name": "HTMLView",
            "description": "",
            "description_tooltip": null,
            "layout": "IPY_MODEL_2572fb1d386743c99c58cc9ae23ec0c6",
            "placeholder": "​",
            "style": "IPY_MODEL_971f596195e54b94a2a6d98fb5620187",
            "value": "100%"
          }
        },
        "4f9688452b4941798b4fb094d5066d5b": {
          "model_module": "@jupyter-widgets/controls",
          "model_name": "FloatProgressModel",
          "model_module_version": "1.5.0",
          "state": {
            "_dom_classes": [],
            "_model_module": "@jupyter-widgets/controls",
            "_model_module_version": "1.5.0",
            "_model_name": "FloatProgressModel",
            "_view_count": null,
            "_view_module": "@jupyter-widgets/controls",
            "_view_module_version": "1.5.0",
            "_view_name": "ProgressView",
            "bar_style": "success",
            "description": "",
            "description_tooltip": null,
            "layout": "IPY_MODEL_983579b41f204139a0d65edcb9d663f3",
            "max": 3600,
            "min": 0,
            "orientation": "horizontal",
            "style": "IPY_MODEL_8d06e1560943404ea1a1fbf17f71165e",
            "value": 3600
          }
        },
        "1b11134efa7344538a82f262bd43a9aa": {
          "model_module": "@jupyter-widgets/controls",
          "model_name": "HTMLModel",
          "model_module_version": "1.5.0",
          "state": {
            "_dom_classes": [],
            "_model_module": "@jupyter-widgets/controls",
            "_model_module_version": "1.5.0",
            "_model_name": "HTMLModel",
            "_view_count": null,
            "_view_module": "@jupyter-widgets/controls",
            "_view_module_version": "1.5.0",
            "_view_name": "HTMLView",
            "description": "",
            "description_tooltip": null,
            "layout": "IPY_MODEL_b5b4550898be4d7d994574c89efe446f",
            "placeholder": "​",
            "style": "IPY_MODEL_f8f702e1202b47069ffdfe011c65a169",
            "value": " 3600/3600 [1:26:30&lt;00:00,  1.74s/it]"
          }
        },
        "a2ebb28c666b49f0abee3144f6cbae84": {
          "model_module": "@jupyter-widgets/base",
          "model_name": "LayoutModel",
          "model_module_version": "1.2.0",
          "state": {
            "_model_module": "@jupyter-widgets/base",
            "_model_module_version": "1.2.0",
            "_model_name": "LayoutModel",
            "_view_count": null,
            "_view_module": "@jupyter-widgets/base",
            "_view_module_version": "1.2.0",
            "_view_name": "LayoutView",
            "align_content": null,
            "align_items": null,
            "align_self": null,
            "border": null,
            "bottom": null,
            "display": null,
            "flex": null,
            "flex_flow": null,
            "grid_area": null,
            "grid_auto_columns": null,
            "grid_auto_flow": null,
            "grid_auto_rows": null,
            "grid_column": null,
            "grid_gap": null,
            "grid_row": null,
            "grid_template_areas": null,
            "grid_template_columns": null,
            "grid_template_rows": null,
            "height": null,
            "justify_content": null,
            "justify_items": null,
            "left": null,
            "margin": null,
            "max_height": null,
            "max_width": null,
            "min_height": null,
            "min_width": null,
            "object_fit": null,
            "object_position": null,
            "order": null,
            "overflow": null,
            "overflow_x": null,
            "overflow_y": null,
            "padding": null,
            "right": null,
            "top": null,
            "visibility": null,
            "width": null
          }
        },
        "2572fb1d386743c99c58cc9ae23ec0c6": {
          "model_module": "@jupyter-widgets/base",
          "model_name": "LayoutModel",
          "model_module_version": "1.2.0",
          "state": {
            "_model_module": "@jupyter-widgets/base",
            "_model_module_version": "1.2.0",
            "_model_name": "LayoutModel",
            "_view_count": null,
            "_view_module": "@jupyter-widgets/base",
            "_view_module_version": "1.2.0",
            "_view_name": "LayoutView",
            "align_content": null,
            "align_items": null,
            "align_self": null,
            "border": null,
            "bottom": null,
            "display": null,
            "flex": null,
            "flex_flow": null,
            "grid_area": null,
            "grid_auto_columns": null,
            "grid_auto_flow": null,
            "grid_auto_rows": null,
            "grid_column": null,
            "grid_gap": null,
            "grid_row": null,
            "grid_template_areas": null,
            "grid_template_columns": null,
            "grid_template_rows": null,
            "height": null,
            "justify_content": null,
            "justify_items": null,
            "left": null,
            "margin": null,
            "max_height": null,
            "max_width": null,
            "min_height": null,
            "min_width": null,
            "object_fit": null,
            "object_position": null,
            "order": null,
            "overflow": null,
            "overflow_x": null,
            "overflow_y": null,
            "padding": null,
            "right": null,
            "top": null,
            "visibility": null,
            "width": null
          }
        },
        "971f596195e54b94a2a6d98fb5620187": {
          "model_module": "@jupyter-widgets/controls",
          "model_name": "DescriptionStyleModel",
          "model_module_version": "1.5.0",
          "state": {
            "_model_module": "@jupyter-widgets/controls",
            "_model_module_version": "1.5.0",
            "_model_name": "DescriptionStyleModel",
            "_view_count": null,
            "_view_module": "@jupyter-widgets/base",
            "_view_module_version": "1.2.0",
            "_view_name": "StyleView",
            "description_width": ""
          }
        },
        "983579b41f204139a0d65edcb9d663f3": {
          "model_module": "@jupyter-widgets/base",
          "model_name": "LayoutModel",
          "model_module_version": "1.2.0",
          "state": {
            "_model_module": "@jupyter-widgets/base",
            "_model_module_version": "1.2.0",
            "_model_name": "LayoutModel",
            "_view_count": null,
            "_view_module": "@jupyter-widgets/base",
            "_view_module_version": "1.2.0",
            "_view_name": "LayoutView",
            "align_content": null,
            "align_items": null,
            "align_self": null,
            "border": null,
            "bottom": null,
            "display": null,
            "flex": null,
            "flex_flow": null,
            "grid_area": null,
            "grid_auto_columns": null,
            "grid_auto_flow": null,
            "grid_auto_rows": null,
            "grid_column": null,
            "grid_gap": null,
            "grid_row": null,
            "grid_template_areas": null,
            "grid_template_columns": null,
            "grid_template_rows": null,
            "height": null,
            "justify_content": null,
            "justify_items": null,
            "left": null,
            "margin": null,
            "max_height": null,
            "max_width": null,
            "min_height": null,
            "min_width": null,
            "object_fit": null,
            "object_position": null,
            "order": null,
            "overflow": null,
            "overflow_x": null,
            "overflow_y": null,
            "padding": null,
            "right": null,
            "top": null,
            "visibility": null,
            "width": null
          }
        },
        "8d06e1560943404ea1a1fbf17f71165e": {
          "model_module": "@jupyter-widgets/controls",
          "model_name": "ProgressStyleModel",
          "model_module_version": "1.5.0",
          "state": {
            "_model_module": "@jupyter-widgets/controls",
            "_model_module_version": "1.5.0",
            "_model_name": "ProgressStyleModel",
            "_view_count": null,
            "_view_module": "@jupyter-widgets/base",
            "_view_module_version": "1.2.0",
            "_view_name": "StyleView",
            "bar_color": null,
            "description_width": ""
          }
        },
        "b5b4550898be4d7d994574c89efe446f": {
          "model_module": "@jupyter-widgets/base",
          "model_name": "LayoutModel",
          "model_module_version": "1.2.0",
          "state": {
            "_model_module": "@jupyter-widgets/base",
            "_model_module_version": "1.2.0",
            "_model_name": "LayoutModel",
            "_view_count": null,
            "_view_module": "@jupyter-widgets/base",
            "_view_module_version": "1.2.0",
            "_view_name": "LayoutView",
            "align_content": null,
            "align_items": null,
            "align_self": null,
            "border": null,
            "bottom": null,
            "display": null,
            "flex": null,
            "flex_flow": null,
            "grid_area": null,
            "grid_auto_columns": null,
            "grid_auto_flow": null,
            "grid_auto_rows": null,
            "grid_column": null,
            "grid_gap": null,
            "grid_row": null,
            "grid_template_areas": null,
            "grid_template_columns": null,
            "grid_template_rows": null,
            "height": null,
            "justify_content": null,
            "justify_items": null,
            "left": null,
            "margin": null,
            "max_height": null,
            "max_width": null,
            "min_height": null,
            "min_width": null,
            "object_fit": null,
            "object_position": null,
            "order": null,
            "overflow": null,
            "overflow_x": null,
            "overflow_y": null,
            "padding": null,
            "right": null,
            "top": null,
            "visibility": null,
            "width": null
          }
        },
        "f8f702e1202b47069ffdfe011c65a169": {
          "model_module": "@jupyter-widgets/controls",
          "model_name": "DescriptionStyleModel",
          "model_module_version": "1.5.0",
          "state": {
            "_model_module": "@jupyter-widgets/controls",
            "_model_module_version": "1.5.0",
            "_model_name": "DescriptionStyleModel",
            "_view_count": null,
            "_view_module": "@jupyter-widgets/base",
            "_view_module_version": "1.2.0",
            "_view_name": "StyleView",
            "description_width": ""
          }
        }
      }
    }
  },
  "cells": [
    {
      "cell_type": "markdown",
      "source": [
        "## **Install and import libraries**"
      ],
      "metadata": {
        "id": "M5xVVn6WZpyw"
      }
    },
    {
      "cell_type": "code",
      "source": [
        "from google.colab import drive\n",
        "drive.mount('/content/drive')"
      ],
      "metadata": {
        "colab": {
          "base_uri": "https://localhost:8080/"
        },
        "id": "TgEQKew6kHaT",
        "outputId": "e46dae9f-1168-4db4-83f3-79089c107c56"
      },
      "execution_count": null,
      "outputs": [
        {
          "output_type": "stream",
          "name": "stdout",
          "text": [
            "Mounted at /content/drive\n"
          ]
        }
      ]
    },
    {
      "cell_type": "code",
      "source": [
        "!pip install -q gym==0.26.2\n",
        "!pip install -q highway-env\n",
        "!pip install -q moviepy --upgrade"
      ],
      "metadata": {
        "colab": {
          "base_uri": "https://localhost:8080/"
        },
        "id": "RnIHFZ-Ebv9c",
        "outputId": "8083f778-de1e-4788-d4a9-8eed09613c73"
      },
      "execution_count": null,
      "outputs": [
        {
          "output_type": "stream",
          "name": "stdout",
          "text": [
            "\u001b[?25l     \u001b[90m━━━━━━━━━━━━━━━━━━━━━━━━━━━━━━━━━━━━━━━━\u001b[0m \u001b[32m0.0/721.7 KB\u001b[0m \u001b[31m?\u001b[0m eta \u001b[36m-:--:--\u001b[0m\r\u001b[2K     \u001b[91m━━━━━━━━━━━━━\u001b[0m\u001b[91m╸\u001b[0m\u001b[90m━━━━━━━━━━━━━━━━━━━━━━━━━\u001b[0m \u001b[32m256.0/721.7 KB\u001b[0m \u001b[31m7.2 MB/s\u001b[0m eta \u001b[36m0:00:01\u001b[0m\r\u001b[2K     \u001b[91m━━━━━━━━━━━━━━━━━━━━━━━━━━━━━━━━━━━━━\u001b[0m\u001b[91m╸\u001b[0m \u001b[32m716.8/721.7 KB\u001b[0m \u001b[31m13.0 MB/s\u001b[0m eta \u001b[36m0:00:01\u001b[0m\r\u001b[2K     \u001b[90m━━━━━━━━━━━━━━━━━━━━━━━━━━━━━━━━━━━━━━━\u001b[0m \u001b[32m721.7/721.7 KB\u001b[0m \u001b[31m8.4 MB/s\u001b[0m eta \u001b[36m0:00:00\u001b[0m\n",
            "\u001b[?25h  Installing build dependencies ... \u001b[?25l\u001b[?25hdone\n",
            "  Getting requirements to build wheel ... \u001b[?25l\u001b[?25hdone\n",
            "  Preparing metadata (pyproject.toml) ... \u001b[?25l\u001b[?25hdone\n",
            "  Building wheel for gym (pyproject.toml) ... \u001b[?25l\u001b[?25hdone\n",
            "\u001b[2K     \u001b[90m━━━━━━━━━━━━━━━━━━━━━━━━━━━━━━━━━━━━━━━\u001b[0m \u001b[32m103.3/103.3 KB\u001b[0m \u001b[31m3.4 MB/s\u001b[0m eta \u001b[36m0:00:00\u001b[0m\n",
            "\u001b[2K     \u001b[90m━━━━━━━━━━━━━━━━━━━━━━━━━━━━━━━━━━━━━━━━\u001b[0m \u001b[32m21.8/21.8 MB\u001b[0m \u001b[31m65.1 MB/s\u001b[0m eta \u001b[36m0:00:00\u001b[0m\n",
            "\u001b[2K     \u001b[90m━━━━━━━━━━━━━━━━━━━━━━━━━━━━━━━━━━━━━━━\u001b[0m \u001b[32m388.3/388.3 KB\u001b[0m \u001b[31m7.6 MB/s\u001b[0m eta \u001b[36m0:00:00\u001b[0m\n",
            "\u001b[?25h  Preparing metadata (setup.py) ... \u001b[?25l\u001b[?25hdone\n",
            "\u001b[2K     \u001b[90m━━━━━━━━━━━━━━━━━━━━━━━━━━━━━━━━━━━━━━━━\u001b[0m \u001b[32m26.9/26.9 MB\u001b[0m \u001b[31m20.4 MB/s\u001b[0m eta \u001b[36m0:00:00\u001b[0m\n",
            "\u001b[?25h  Building wheel for moviepy (setup.py) ... \u001b[?25l\u001b[?25hdone\n"
          ]
        }
      ]
    },
    {
      "cell_type": "code",
      "execution_count": null,
      "metadata": {
        "id": "XgWohBwPZOhY"
      },
      "outputs": [],
      "source": [
        "import gym\n",
        "import os\n",
        "import base64, io\n",
        "import glob\n",
        "import numpy as np\n",
        "import pandas as pd\n",
        "import matplotlib.pyplot as plt\n",
        "import random\n",
        "from itertools import count\n",
        "from PIL import Image\n",
        "from collections import deque, namedtuple\n",
        "from scipy.stats import norm , t\n",
        "from scipy.stats import ttest_ind\n",
        "from tqdm.notebook import tqdm\n",
        "import warnings\n",
        "warnings.filterwarnings('ignore')\n",
        "# Pytorch librearies\n",
        "import torch\n",
        "import torch.nn as nn\n",
        "import torch.nn.functional as F\n",
        "import torchvision.transforms as T\n",
        "import torch.optim as optim\n",
        "# For visualization\n",
        "from gym.wrappers.monitoring import video_recorder\n",
        "from IPython.display import HTML\n",
        "from IPython import display\n",
        "plt.style.use('ggplot')"
      ]
    },
    {
      "cell_type": "markdown",
      "source": [
        "# **Define Class and Hyperparameters**"
      ],
      "metadata": {
        "id": "b9h17P1WZ5bj"
      }
    },
    {
      "cell_type": "markdown",
      "source": [
        "## Hyperparameters"
      ],
      "metadata": {
        "id": "MAzf2DwdiLQB"
      }
    },
    {
      "cell_type": "code",
      "source": [
        "BUFFER_SIZE = int(1e5)  # replay buffer size\n",
        "BATCH_SIZE = 64         # minibatch size\n",
        "GAMMA = 0.99            # discount factor\n",
        "𝛼 = 1e-3                # for soft update of target parameters\n",
        "LR = 5e-4               # learning rate\n",
        "UPDATE_EVERY = 4        # how often to update the network"
      ],
      "metadata": {
        "id": "5H2xtOGXaFVP"
      },
      "execution_count": null,
      "outputs": []
    },
    {
      "cell_type": "code",
      "source": [
        "path_HW5 = '/content/drive/MyDrive/RL/HW/HW5/'"
      ],
      "metadata": {
        "id": "07GdggWw5ZlD"
      },
      "execution_count": null,
      "outputs": []
    },
    {
      "cell_type": "code",
      "source": [
        "device = torch.device(\"cuda:0\" if torch.cuda.is_available() else \"cpu\")\n",
        "device.type"
      ],
      "metadata": {
        "colab": {
          "base_uri": "https://localhost:8080/",
          "height": 35
        },
        "id": "G2Php3MJj-Ik",
        "outputId": "a4f70ce2-e065-4e71-ced3-42c716f23dd8"
      },
      "execution_count": null,
      "outputs": [
        {
          "output_type": "execute_result",
          "data": {
            "text/plain": [
              "'cpu'"
            ],
            "application/vnd.google.colaboratory.intrinsic+json": {
              "type": "string"
            }
          },
          "metadata": {},
          "execution_count": 4
        }
      ]
    },
    {
      "cell_type": "markdown",
      "source": [
        "## Class Neural Network Architecture"
      ],
      "metadata": {
        "id": "lNgk2ltIgr1a"
      }
    },
    {
      "cell_type": "markdown",
      "source": [
        "### Class Linear"
      ],
      "metadata": {
        "id": "H6d5lN1xg4sZ"
      }
    },
    {
      "cell_type": "code",
      "source": [
        "class QNetwork_Linear(nn.Module):\n",
        "\n",
        "    def __init__(self, state_size, action_size, seed):\n",
        "        super(QNetwork_Linear, self).__init__()\n",
        "        self.seed = torch.manual_seed(seed)\n",
        "        self.fc1 = nn.Linear(state_size, 125)\n",
        "        self.fc2 = nn.Linear(125, 125)\n",
        "        self.fc3 = nn.Linear(125, action_size)\n",
        "\n",
        "    def forward(self, state):\n",
        "        # Build a network that maps state -> action values\n",
        "        x = self.fc1(state)\n",
        "        x = F.relu(x)\n",
        "        x = self.fc2(x)\n",
        "        x = F.relu(x)\n",
        "        x = self.fc3(x)\n",
        "        return x"
      ],
      "metadata": {
        "id": "2YcITgYGggDj"
      },
      "execution_count": null,
      "outputs": []
    },
    {
      "cell_type": "markdown",
      "source": [
        "### Class CNN"
      ],
      "metadata": {
        "id": "QmIuSaeNhWD7"
      }
    },
    {
      "cell_type": "code",
      "source": [
        "class QNetwork_CNN(nn.Module):\n",
        "\n",
        "    def __init__(self, action_size, seed):\n",
        "        super(QNetwork_CNN, self).__init__()\n",
        "        self.seed = torch.manual_seed(seed)\n",
        "        self.conv1 = nn.Conv2d(3, 128, kernel_size=3)\n",
        "        self.relu = nn.ReLU()\n",
        "        self.maxpool = nn.MaxPool2d(kernel_size=2)\n",
        "        self.dropout = nn.Dropout(0.1)\n",
        "        self.conv2 = nn.Conv2d(128, 128, kernel_size=3)\n",
        "        self.flatten = nn.Flatten()\n",
        "        self.fc1 = nn.Linear(38912,64)\n",
        "        self.fc2 = nn.Linear(64, action_size)\n",
        "\n",
        "    def forward(self, state):\n",
        "        # Build a network that maps state -> action values\n",
        "        x = self.dropout(self.maxpool(self.relu(self.conv1(state))))\n",
        "        x = self.dropout(self.maxpool(self.relu(self.conv2(x))))\n",
        "        x = self.flatten(x)\n",
        "        x = self.fc1(x)\n",
        "        x = self.relu(x)\n",
        "        x = self.fc2(x)\n",
        "        return x"
      ],
      "metadata": {
        "id": "Aa-42Q16hVGW"
      },
      "execution_count": null,
      "outputs": []
    },
    {
      "cell_type": "markdown",
      "source": [
        "## Class Replay Buffer"
      ],
      "metadata": {
        "id": "Msl-H1WHkugm"
      }
    },
    {
      "cell_type": "code",
      "source": [
        "class ReplayBuffer():\n",
        "\n",
        "    def __init__(self, action_size, buffer_size, batch_size, seed):\n",
        "        self.action_size = action_size\n",
        "        self.memory = deque(maxlen=buffer_size)\n",
        "        self.batch_size = batch_size\n",
        "        self.experience = namedtuple(\"Experience\", field_names=[\"state\", \"action\", \"reward\", \"next_state\", \"done\"])\n",
        "        self.seed = random.seed(seed)\n",
        "\n",
        "    def add(self, state, action, reward, next_state, done):\n",
        "        # Add a new experience to memory\n",
        "        e = self.experience(state, action, reward, next_state, done)\n",
        "        self.memory.append(e)\n",
        "\n",
        "    def sample(self):\n",
        "        # Randomly sample a batch of experiences from memory\n",
        "        experiences = random.sample(self.memory, k=self.batch_size)\n",
        "\n",
        "        states = torch.from_numpy(np.vstack([e.state for e in experiences if e is not None])).float().to(device)\n",
        "        actions = torch.from_numpy(np.vstack([e.action for e in experiences if e is not None])).long().to(device)\n",
        "        rewards = torch.from_numpy(np.vstack([e.reward for e in experiences if e is not None])).float().to(device)\n",
        "        next_states = torch.from_numpy(np.vstack([e.next_state for e in experiences if e is not None])).float().to(device)\n",
        "        dones = torch.from_numpy(np.vstack([e.done for e in experiences if e is not None]).astype(np.uint8)).float().to(device)\n",
        "\n",
        "        return (states, actions, rewards, next_states, dones)\n",
        "\n",
        "    def __len__(self):\n",
        "        # Return the current size of internal memory\n",
        "        return len(self.memory)"
      ],
      "metadata": {
        "id": "7zFfQfnbktYe"
      },
      "execution_count": null,
      "outputs": []
    },
    {
      "cell_type": "markdown",
      "source": [
        "## Class Agent"
      ],
      "metadata": {
        "id": "OG5D5Dd5jnJx"
      }
    },
    {
      "cell_type": "code",
      "source": [
        "class Agent():\n",
        "\n",
        "    def __init__(self, state_size, action_size, network_type, seed):\n",
        "\n",
        "        self.state_size = state_size\n",
        "        self.action_size = action_size\n",
        "        self.seed = random.seed(seed)\n",
        "\n",
        "        self.network_type = network_type\n",
        "        # Q-Network\n",
        "        if network_type=='linear' or network_type=='Linear':\n",
        "            self.qnetwork_local = QNetwork_Linear(state_size, action_size, seed).to(device)\n",
        "            self.qnetwork_target = QNetwork_Linear(state_size, action_size, seed).to(device)\n",
        "        elif network_type=='cnn' or network_type=='CNN':\n",
        "            self.qnetwork_local = QNetwork_CNN(action_size, seed).to(device)\n",
        "            self.qnetwork_target = QNetwork_CNN(action_size, seed).to(device)\n",
        "\n",
        "        # Optimizer\n",
        "        self.optimizer = optim.Adam(self.qnetwork_local.parameters(), lr=LR)\n",
        "\n",
        "        # Replay memory\n",
        "        self.memory = ReplayBuffer(action_size, BUFFER_SIZE, BATCH_SIZE, seed)\n",
        "        # Initialize time step (for updating every UPDATE_EVERY steps)\n",
        "        self.t_step = 0\n",
        "\n",
        "        #resize image\n",
        "        self.resize = T.Compose([T.ToPILImage(), T.Resize(40, interpolation=Image.CUBIC), T.ToTensor()])\n",
        "\n",
        "    def get_screen(self, screen):\n",
        "        screen = np.ascontiguousarray(screen, dtype=np.float32) / 255\n",
        "        screen = torch.from_numpy(screen)\n",
        "        screen = screen.permute(2,0,1)\n",
        "        screen_resized = self.resize(screen).unsqueeze(0)\n",
        "        return screen_resized\n",
        "\n",
        "    def step(self, state, action, reward, next_state, done):\n",
        "        # Save experience in replay memory\n",
        "        self.memory.add(state, action, reward, next_state, done)\n",
        "\n",
        "        # Learn every UPDATE_EVERY time steps.\n",
        "        self.t_step = (self.t_step + 1) % UPDATE_EVERY\n",
        "        if self.t_step == 0:\n",
        "            # If enough samples are available in memory, get random subset and learn\n",
        "            if len(self.memory) > BATCH_SIZE:\n",
        "                experiences = self.memory.sample()\n",
        "                self.learn(experiences, GAMMA)\n",
        "\n",
        "    def act(self, state, eps=0):\n",
        "        if self.network_type=='linear' or self.network_type=='Linear':\n",
        "            state = torch.from_numpy(state).float().unsqueeze(0).to(device)\n",
        "        elif self.network_type=='cnn' or self.network_type=='CNN':\n",
        "            state = state.to(device)\n",
        "        self.qnetwork_local.eval()\n",
        "\n",
        "        with torch.no_grad():\n",
        "            action_values = self.qnetwork_local(state)\n",
        "        self.qnetwork_local.train()\n",
        "\n",
        "        # Epsilon-greedy action selection\n",
        "        if random.random() > eps:\n",
        "            return np.argmax(action_values.cpu().data.numpy())\n",
        "        else:\n",
        "            return random.choice(np.arange(self.action_size))\n",
        "\n",
        "    def learn(self, experiences, gamma):\n",
        "        #Update value parameters using given batch of experience tuples\n",
        "\n",
        "        ## Obtain random minibatch of tuples from D\n",
        "        states, actions, rewards, next_states, dones = experiences\n",
        "\n",
        "        ## Compute and minimize the loss\n",
        "        ### Extract next maximum estimated value from target network\n",
        "        q_targets_next = self.qnetwork_target(next_states).detach().max(1)[0].unsqueeze(1)\n",
        "        ### Calculate target value from bellman equation\n",
        "        q_targets = rewards + gamma * q_targets_next * (1 - dones)\n",
        "        ### Calculate expected value from local network\n",
        "        q_expected = self.qnetwork_local(states).gather(1, actions)\n",
        "\n",
        "        ### Loss calculation (we used Mean squared error)\n",
        "        loss = F.mse_loss(q_expected, q_targets)\n",
        "        self.optimizer.zero_grad()\n",
        "        loss.backward()\n",
        "        self.optimizer.step()\n",
        "\n",
        "        # ------------------- update target network ------------------- #\n",
        "        self.soft_update(self.qnetwork_local, self.qnetwork_target, 𝛼)\n",
        "\n",
        "    def soft_update(self, local_model, target_model, 𝛼):\n",
        "        # Soft update model parameters. θ_target = 𝛼*θ_local + (1-𝛼)*θ_target\n",
        "        ## local_model (PyTorch model): weights will be copied from\n",
        "        ## target_model (PyTorch model): weights will be copied to\n",
        "        ## 𝛼 (float): interpolation parameter\n",
        "        for target_param, local_param in zip(target_model.parameters(), local_model.parameters()):\n",
        "            target_param.data.copy_(𝛼*local_param.data + (1-𝛼)*target_param.data)"
      ],
      "metadata": {
        "id": "ebZqPgWljgQP"
      },
      "execution_count": null,
      "outputs": []
    },
    {
      "cell_type": "markdown",
      "source": [
        "## Class DQN"
      ],
      "metadata": {
        "id": "wsdHZdO8q3Zd"
      }
    },
    {
      "cell_type": "code",
      "source": [
        "class DQN():\n",
        "    def __init__(self, env, env_name, model_path, data_path, network_type, env_name_source=None, model_path_source=None, transfer_episode=None):\n",
        "        self.env = env\n",
        "        self.env_name = env_name\n",
        "        self.model_path = model_path\n",
        "        self.data_path = data_path\n",
        "        self.network_type = network_type\n",
        "        self.env_name_source = env_name_source\n",
        "        self.model_path_source = model_path_source\n",
        "        self.transfer_episode = transfer_episode\n",
        "        self.df_reward = pd.DataFrame()\n",
        "        self.seed = [0, 5, 11, 123, 487]\n",
        "        self.env.config['policy_frequency'] = env.config['policy_frequency']\n",
        "\n",
        "    # If we have state\n",
        "    def train_with_state(self, n_iteration, n_training_episodes, max_step, eps_start=1.0, eps_end=0.001, eps_decay=0.995):\n",
        "        print(\"Starting to train agent with state ...\")\n",
        "        if n_iteration[0] != 1:\n",
        "            self.df_reward = pd.read_excel(self.data_path+'Episodes_reward_run_{}.xlsx'.format(n_iteration[0]-1))\n",
        "\n",
        "        for iter in tqdm(n_iteration):\n",
        "            episodes_reward = []\n",
        "            # Define agent\n",
        "            # seed for initial random weights of network\n",
        "            state_size = int(np.prod(self.env.observation_space.shape))\n",
        "            action_size = self.env.action_space.n\n",
        "            agent = Agent(state_size=state_size, action_size=action_size, network_type=self.network_type, seed=self.seed[iter-1])\n",
        "            if (self.env_name_source != None) and (self.model_path_source != None) and (self.transfer_episode != None):\n",
        "                agent.qnetwork_local.load_state_dict(torch.load(self.model_path_source + 'Models_Run_{}/checkpoint_dqn_state_{}_local_{}.pth'\\\n",
        "                                                                                  .format(iter, self.env_name_source, self.transfer_episode)))\n",
        "                agent.qnetwork_target.load_state_dict(torch.load(self.model_path_source + 'Models_Run_{}/checkpoint_dqn_state_{}_target_{}.pth'\\\n",
        "                                                                                  .format(iter, self.env_name_source, self.transfer_episode)))\n",
        "            # initialize epsilon\n",
        "            eps = eps_start\n",
        "\n",
        "            for episode_num in tqdm(range(1, n_training_episodes+1)):\n",
        "                # decrease epsilon\n",
        "                eps = max(eps_end, eps_decay*eps)\n",
        "                # get initial state\n",
        "                state = self.env.reset()[0]\n",
        "\n",
        "                done = False\n",
        "                total_rewards_episode = 0\n",
        "                # repeat\n",
        "                for step in range(max_step):\n",
        "                    # Choose action\n",
        "                    action = agent.act(state.ravel(), eps)\n",
        "                    # Go to next state and get reward\n",
        "                    next_state, reward, done, _, _ = self.env.step(action)\n",
        "                    total_rewards_episode += reward\n",
        "                    # AGENT STEP FUNCTION\n",
        "                    agent.step(state.ravel(), action, reward, next_state.ravel(), done)\n",
        "\n",
        "                    if done:\n",
        "                        break\n",
        "                    # Updating State\n",
        "                    state = next_state\n",
        "                episodes_reward.append(total_rewards_episode)\n",
        "                # Printing ...\n",
        "                print('\\rEpisode {}\\tAverage reward: {:.2f}\\tEpsilon: {:.3f}'.format(episode_num, np.mean(episodes_reward), eps), end='')\n",
        "                if episode_num % 100 == 0:\n",
        "                    print('\\rEpisode {}\\tAverage reward: {:.2f}\\tEpsilon: {:.3f}'.format(episode_num, np.mean(episodes_reward), eps))\n",
        "                if episode_num % 200 == 0:\n",
        "                    torch.save(agent.qnetwork_local.state_dict(), self.model_path + 'Models_Run_{}/checkpoint_dqn_state_{}_local_{}.pth'\\\n",
        "                                                                                                .format(iter, self.env_name, episode_num))\n",
        "                    torch.save(agent.qnetwork_target.state_dict(), self.model_path + 'Models_Run_{}/checkpoint_dqn_state_{}_target_{}.pth'\\\n",
        "                                                                                                .format(iter, self.env_name, episode_num))\n",
        "            # list of rewards with n_interations * n_episodes dimention\n",
        "            self.df_reward['Run_{}'.format(iter)] = episodes_reward\n",
        "            self.df_reward.to_excel(self.data_path+'Episodes_reward_run_{}.xlsx'.format(iter), index=False)\n",
        "        return self.df_reward\n",
        "\n",
        "    # If we have observation\n",
        "    def train_with_observation(self, n_iteration, n_training_episodes, max_step, eps_start=1.0, eps_end=0.001, eps_decay=0.995):\n",
        "        print(\"Starting to train agent with observation ...\")\n",
        "        if n_iteration[0] != 1:\n",
        "            self.df_reward = pd.read_excel(self.data_path+'Episodes_reward_run_{}.xlsx'.format(n_iteration[0]-1))\n",
        "\n",
        "        for iter in tqdm(n_iteration):\n",
        "            episodes_reward = []\n",
        "            # Define agent\n",
        "            # seed for initial random weights of network\n",
        "            state_size = int(np.prod(self.env.observation_space.shape))\n",
        "            action_size = self.env.action_space.n\n",
        "            agent = Agent(state_size=state_size, action_size=action_size, network_type=self.network_type, seed=self.seed[iter-1])\n",
        "            if (self.env_name_source != None) and (self.model_path_source != None) and (self.transfer_episode != None):\n",
        "                agent.qnetwork_local.load_state_dict(torch.load(self.model_path_source + 'Models_Run_{}/checkpoint_dqn_observation_{}_local_{}.pth'\\\n",
        "                                                                                          .format(iter, self.env_name_source, self.transfer_episode)))\n",
        "                agent.qnetwork_target.load_state_dict(torch.load(self.model_path_source + 'Models_Run_{}/checkpoint_dqn_observation_{}_target_{}.pth'\\\n",
        "                                                                                          .format(iter, self.env_name_source, self.transfer_episode)))\n",
        "            # initialize epsilon\n",
        "            eps = eps_start\n",
        "\n",
        "            for episode_num in tqdm(range(1, n_training_episodes+1)):\n",
        "                # decrease epsilon\n",
        "                eps = max(eps_end, eps_decay*eps)\n",
        "                # get initial observation\n",
        "                self.env.reset()\n",
        "                last_screen = agent.get_screen(self.env.render())\n",
        "                current_screen = agent.get_screen(self.env.render())\n",
        "                observation = current_screen - last_screen\n",
        "\n",
        "                done = False\n",
        "                total_rewards_episode = 0\n",
        "                # repeat\n",
        "                for step in range(max_step):\n",
        "                    # Choose action\n",
        "                    action = agent.act(observation, eps)\n",
        "                    # Go to next observation and get reward\n",
        "                    _, reward, done, _, _ = self.env.step(action)\n",
        "                    total_rewards_episode += reward\n",
        "                    # get next observation\n",
        "                    last_screen = current_screen\n",
        "                    current_screen = agent.get_screen(self.env.render())\n",
        "                    next_observation = current_screen - last_screen\n",
        "                    # AGENT STEP FUNCTION\n",
        "                    agent.step(observation, action, reward, next_observation, done)\n",
        "\n",
        "                    if done:\n",
        "                        break\n",
        "                    # Updating Observation\n",
        "                    observation = next_observation\n",
        "                episodes_reward.append(total_rewards_episode)\n",
        "                # Printing ...\n",
        "                print('\\rEpisode {}\\tAverage reward: {:.2f}\\tEpsilon: {:.3f}'.format(episode_num, np.mean(episodes_reward), eps), end='')\n",
        "                if episode_num % 100 == 0:\n",
        "                    print('\\rEpisode {}\\tAverage reward: {:.2f}\\tEpsilon: {:.3f}'.format(episode_num, np.mean(episodes_reward), eps))\n",
        "                if episode_num % 200 == 0:\n",
        "                    torch.save(agent.qnetwork_local.state_dict(), self.model_path + 'Models_Run_{}/checkpoint_dqn_observation_{}_local_{}.pth'\\\n",
        "                                                                                                .format(iter, self.env_name, episode_num))\n",
        "                    torch.save(agent.qnetwork_target.state_dict(), self.model_path + 'Models_Run_{}/checkpoint_dqn_observation_{}_target_{}.pth'\\\n",
        "                                                                                                .format(iter, self.env_name, episode_num))\n",
        "            # list of rewards with n_interations * n_episodes dimention\n",
        "            self.df_reward['Run_{}'.format(iter)] = episodes_reward\n",
        "            self.df_reward.to_excel(self.data_path+'Episodes_reward_run_{}.xlsx'.format(iter), index=False)\n",
        "        return self.df_reward\n",
        "\n",
        "    def evaluation(self, video_path, evaluate_type, iter_num, evaluate_episode_num, use_saved_model=True):\n",
        "        #######################################################################################\n",
        "        # This part is for solving the 'error: No available video device' and 'error: x11 not avaliable'\n",
        "        os.environ[\"SDL_VIDEODRIVER\"] = \"dummy\"\n",
        "        env1 = gym.make(self.env_name, render_mode='rgb_array')\n",
        "        env1.reset()\n",
        "        env1.render()\n",
        "        os.environ['SDL_VIDEODRIVER'] = \"x11\"\n",
        "        env2 = gym.make(self.env_name, render_mode='rgb_array')\n",
        "        env2.reset()\n",
        "        env2.render()\n",
        "        #######################################################################################\n",
        "        vid = video_recorder.VideoRecorder(self.env, path=video_path)\n",
        "\n",
        "        state_size = int(np.prod(self.env.observation_space.shape))\n",
        "        action_size = self.env.action_space.n\n",
        "        agent = Agent(state_size=state_size, action_size=action_size, network_type=self.network_type, seed=11)#colision 1, 2, 4, 5 for highwqay  for merge 11\n",
        "\n",
        "        if use_saved_model:\n",
        "            agent.qnetwork_local.load_state_dict(torch.load(self.model_path + 'Models_Run_{}/checkpoint_dqn_{}_{}_local_{}.pth'\\\n",
        "                                .format(iter_num, evaluate_type, self.env_name, evaluate_episode_num), map_location=torch.device(device.type)))\n",
        "            agent.qnetwork_target.load_state_dict(torch.load(self.model_path + 'Models_Run_{}/checkpoint_dqn_{}_{}_target_{}.pth'\\\n",
        "                                .format(iter_num, evaluate_type, self.env_name, evaluate_episode_num), map_location=torch.device(device.type)))\n",
        "\n",
        "        if evaluate_type=='state':\n",
        "            state = self.env.reset()[0]\n",
        "        elif evaluate_type=='observation':\n",
        "            self.env.reset()\n",
        "            last_screen = agent.get_screen(self.env.render())\n",
        "            current_screen = agent.get_screen(self.env.render())\n",
        "            state = current_screen - last_screen\n",
        "\n",
        "        done = False\n",
        "        step = 0\n",
        "        sum_rewards = 0\n",
        "        while not done:\n",
        "            print('\\rstep:{}'.format(step), end=\"\")\n",
        "\n",
        "            frame = self.env.render()\n",
        "            vid.capture_frame()\n",
        "\n",
        "            if evaluate_type=='state':\n",
        "                action = agent.act(state.ravel())\n",
        "                state, reward, done, _, _ = self.env.step(action)\n",
        "\n",
        "            elif evaluate_type=='observation':\n",
        "                action = agent.act(state)\n",
        "                _, reward, done, _, _ = self.env.step(action)\n",
        "                last_screen = current_screen\n",
        "                current_screen = agent.get_screen(self.env.render())\n",
        "                state = current_screen - last_screen\n",
        "\n",
        "            sum_rewards += reward\n",
        "            step+=1\n",
        "        print()\n",
        "        self.env.close()\n",
        "        return sum_rewards"
      ],
      "metadata": {
        "id": "BDvtV6_XrCgm"
      },
      "execution_count": null,
      "outputs": []
    },
    {
      "cell_type": "markdown",
      "source": [
        "## Class Show and Plot"
      ],
      "metadata": {
        "id": "Szuss2N-fdve"
      }
    },
    {
      "cell_type": "code",
      "source": [
        "class show_and_plot():\n",
        "    def __init__(self):\n",
        "        pass\n",
        "\n",
        "    def show_video(self, directory, file_name):\n",
        "        mp4list = glob.glob(directory+'*.mp4')\n",
        "        if len(mp4list) > 0:\n",
        "            mp4 = directory+file_name\n",
        "            video = io.open(mp4, 'r+b').read()\n",
        "            encoded = base64.b64encode(video)\n",
        "            display.display(HTML(data='''<video alt=\"test\" autoplay\n",
        "                    loop controls style=\"height: 165px; width: 650px;\">\n",
        "                    <source src=\"data:video/mp4;base64,{0}\" type=\"video/mp4\" />\n",
        "                </video>'''.format(encoded.decode('ascii'))))\n",
        "        else:\n",
        "            print(\"Could not find video\")\n",
        "\n",
        "    def plot_training_result(self, episodes_rewards, ax, title, label, window=20, stride=5, alpha=0.3):\n",
        "\n",
        "        n_iter, n_episode = episodes_rewards.shape\n",
        "\n",
        "        smooth_reward = []\n",
        "\n",
        "        for i in range(int(np.round((n_episode-window)/stride))+1):\n",
        "            k = np.sum(episodes_rewards[:,i*stride:i*stride+window], axis=1) / window\n",
        "            smooth_reward.append(k)\n",
        "\n",
        "        smooth_reward = np.array(smooth_reward).T\n",
        "\n",
        "        _ , n_smooth = smooth_reward.shape\n",
        "\n",
        "        X =  range(1, stride*n_smooth+1, stride)\n",
        "\n",
        "        x_bar = np.mean(smooth_reward, axis=0)\n",
        "        sigma = np.std(smooth_reward, axis=0)\n",
        "        SE = sigma / np.sqrt(n_iter)\n",
        "        interval =  1 - alpha\n",
        "        if n_iter < 30:\n",
        "            t_statistic = t.interval(interval, df = n_iter - 1)[1]\n",
        "            ME = t_statistic * SE\n",
        "        else:\n",
        "            z_statistic = norm.interval(interval)[1]\n",
        "            ME = z_statistic * SE\n",
        "\n",
        "\n",
        "        ax.plot(X, x_bar, label=label)\n",
        "        if n_iter >= 2:\n",
        "            ax.fill_between(X, (x_bar - ME), (x_bar + ME), alpha=alpha)\n",
        "        ax.set_xlabel(\"Episodes\", fontsize=13)\n",
        "        ax.set_ylabel(\"Average reward\", fontsize=13)\n",
        "        ax.set_title(title + \"\\nwindow size={}, stride={}\".format(window, stride), fontsize=15)\n",
        "        return ax"
      ],
      "metadata": {
        "id": "ngWJWiBGfYQr"
      },
      "execution_count": null,
      "outputs": []
    },
    {
      "cell_type": "markdown",
      "source": [
        "# **Part 1**"
      ],
      "metadata": {
        "id": "zDMTJgSA_ZAx"
      }
    },
    {
      "cell_type": "code",
      "source": [
        "plt.style.use('default')\n",
        "os.environ[\"SDL_VIDEODRIVER\"] = \"dummy\"\n",
        "env1 = gym.make('highway-v0', render_mode='rgb_array')\n",
        "env1.reset()\n",
        "env1.render()\n",
        "os.environ['SDL_VIDEODRIVER'] = \"x11\"\n",
        "env2 = gym.make('highway-v0', render_mode='rgb_array')\n",
        "env2.reset()\n",
        "plt.imshow(env2.render());\n",
        "plt.style.use('ggplot')"
      ],
      "metadata": {
        "colab": {
          "base_uri": "https://localhost:8080/",
          "height": 189
        },
        "id": "LPQhILCH_ZY8",
        "outputId": "165797a6-e719-4355-9305-bf213db76eeb"
      },
      "execution_count": null,
      "outputs": [
        {
          "output_type": "display_data",
          "data": {
            "text/plain": [
              "<Figure size 640x480 with 1 Axes>"
            ],
            "image/png": "[encoded data removed]"
          },
          "metadata": {}
        }
      ]
    },
    {
      "cell_type": "code",
      "source": [
        "print('Number of actions:', env2.action_space.n)\n",
        "print('\\nShape of states:', env2.observation_space.shape)\n",
        "print('\\nA sample of states:\\n', env2.observation_space.sample())"
      ],
      "metadata": {
        "colab": {
          "base_uri": "https://localhost:8080/"
        },
        "id": "oX0CoDguA68q",
        "outputId": "bc4839ca-1cff-4e8d-e421-1f176da50b70"
      },
      "execution_count": null,
      "outputs": [
        {
          "output_type": "stream",
          "name": "stdout",
          "text": [
            "Number of actions: 5\n",
            "\n",
            "Shape of states: (5, 5)\n",
            "\n",
            "A sample of states:\n",
            " [[ 1.387099   -0.6718492   0.2238572   1.5875505   0.39253375]\n",
            " [-0.53327006 -0.5232833  -1.1524442   2.2145946  -1.039979  ]\n",
            " [ 1.1010671   0.46650434  0.7596766   0.8477234   0.0932618 ]\n",
            " [-1.2155504   2.0235262  -1.3106562  -0.3209864   0.28616908]\n",
            " [-0.15999268 -1.1696148   1.1344516  -0.02967431  1.8080016 ]]\n"
          ]
        }
      ]
    },
    {
      "cell_type": "code",
      "source": [
        "env2.config"
      ],
      "metadata": {
        "colab": {
          "base_uri": "https://localhost:8080/"
        },
        "id": "jV1p_48kCMsj",
        "outputId": "60de1092-d09d-4b86-bc61-ecf6b4c262fa"
      },
      "execution_count": null,
      "outputs": [
        {
          "output_type": "execute_result",
          "data": {
            "text/plain": [
              "{'observation': {'type': 'Kinematics'},\n",
              " 'action': {'type': 'DiscreteMetaAction'},\n",
              " 'simulation_frequency': 15,\n",
              " 'policy_frequency': 1,\n",
              " 'other_vehicles_type': 'highway_env.vehicle.behavior.IDMVehicle',\n",
              " 'screen_width': 600,\n",
              " 'screen_height': 150,\n",
              " 'centering_position': [0.3, 0.5],\n",
              " 'scaling': 5.5,\n",
              " 'show_trajectories': False,\n",
              " 'render_agent': True,\n",
              " 'offscreen_rendering': False,\n",
              " 'manual_control': False,\n",
              " 'real_time_rendering': False,\n",
              " 'lanes_count': 4,\n",
              " 'vehicles_count': 50,\n",
              " 'controlled_vehicles': 1,\n",
              " 'initial_lane_id': None,\n",
              " 'duration': 40,\n",
              " 'ego_spacing': 2,\n",
              " 'vehicles_density': 1,\n",
              " 'collision_reward': -1,\n",
              " 'right_lane_reward': 0.1,\n",
              " 'high_speed_reward': 0.4,\n",
              " 'lane_change_reward': 0,\n",
              " 'reward_speed_range': [20, 30],\n",
              " 'normalize_reward': True,\n",
              " 'offroad_terminal': False}"
            ]
          },
          "metadata": {},
          "execution_count": 134
        }
      ]
    },
    {
      "cell_type": "markdown",
      "source": [
        "# **Part 2**"
      ],
      "metadata": {
        "id": "xjjPZTfNZgYH"
      }
    },
    {
      "cell_type": "markdown",
      "source": [
        "## merge-v0"
      ],
      "metadata": {
        "id": "-mfBz2fwaeo7"
      }
    },
    {
      "cell_type": "code",
      "source": [
        "video_path = path_HW5 + 'Videos/'\n",
        "model_path = path_HW5 + 'Models/1_Models_merge/'\n",
        "data_path_1 = path_HW5 + 'Data_Average_Reward/1_Data_merge/'\n",
        "env_name = 'merge-v0'\n",
        "env = gym.make(env_name, render_mode='rgb_array')\n",
        "dqn_merge = DQN(env, env_name, model_path, data_path_1, network_type='linear')"
      ],
      "metadata": {
        "id": "w3A4mz3FbBNw"
      },
      "execution_count": null,
      "outputs": []
    },
    {
      "cell_type": "markdown",
      "source": [
        "### Training"
      ],
      "metadata": {
        "id": "aTtOkW8ja8Z4"
      }
    },
    {
      "cell_type": "code",
      "source": [
        "df_reward_dqn_merge = dqn_merge.train_with_state(n_iteration=[1, 2, 3, 4, 5], n_training_episodes=3600, max_step=10000)"
      ],
      "metadata": {
        "id": "pxQMPkGJbHVJ",
        "colab": {
          "base_uri": "https://localhost:8080/",
          "height": 1000,
          "referenced_widgets": [
            "1ffd7c6e14f246f0aaf2b9f69106ad28",
            "5aaa101b2e3444779fafcf3a909c2d8d",
            "68b1056f40b54a93a103f4b5606374d6",
            "24f4a2ccaa4e49ad8991b174bc6e2021",
            "3667ceca19cb4782ae250e7a326536d3",
            "58ab393924be455fa1f1bc4ae30ad4eb",
            "a78049fb390a40ce85bed9de4d8ed06a",
            "f3a67f06e6dd40a8a5b6f3b3e40d685f",
            "c58f555829bf4a0b9438ab7567763c02",
            "7d77793b49a94f13a3f0d5d35daa8156",
            "c2dfa8c99e0d4c6a89e5f21487377909",
            "e9dd546bf7024da4bebd90cef0779760",
            "c08612255ac74625beb1ef97892218a9",
            "a0a7cd618e3a4dcab815e939f67771c4",
            "92cb673babd944809d75ac147d49dee4",
            "89ae3adfda024a8b8c55b029befcacab",
            "88c2835bd7784b7aa9d0c3e6a9ec64e8",
            "c98832812f284e3ebe2a1a29eca755a4",
            "02886ebea8ce4adf9f415791e43d4080",
            "b9e72ba2467e48389bb25262edc270a3",
            "2d157f7b044a482cb0433586cdeeaddc",
            "f5ec1a89dbf34b59a2de5e9d00cf913e",
            "a0d48ebb4155414ca9b1d617fe5374eb",
            "ffc3a9ecf4524ab9a9db33de4e574872",
            "e04600a2f8ad4ffabc469adf93435e7c",
            "086bdf9d68254a2c9bb34547a41c3028",
            "f2de4f346af2475780751ea92393ca78",
            "e2b882263b5b4ce2b97295f73c934345",
            "54d5a66d7e164b8e93fa741b867e489c",
            "8c0a7851e59a4c8990997353ea888d18",
            "0f94881076a34350b223e17216d4a54a",
            "755f1d86540748129690ad358d06597d",
            "eeb172e1b3e3437c8b4c92f1c06bd454",
            "4517f5e0cbce4b36af708512317c8918",
            "7f6cc1785e314dd89c0f8a8facad77e0",
            "06e3d841f1e44732a13ae3990ee1eb38",
            "5f7573bad2b14248902ba06e95deaa9e",
            "f93e7dbcc3574b4d80b2a7bf9bfc75a1",
            "bc9c94cc46c84b95bb390b48562dde28",
            "5f8f606c67e74f6c861c3e19e7c290fd",
            "65d171305b924d709b20034f5e3064e6",
            "fd8745e8b2b644498b0fbee968d76894",
            "c4c6b560a9c34d909404412a0ce78f65",
            "d44628e6d3f246ce8aa15a90ba584942",
            "4923454742704e599b9a92b8e6f2728e",
            "be5c07cdff544323aeda65d690fa108b",
            "9c42b91ef1e44d39be1cee14d753de70",
            "f8db7c1dd1b24b6c8dd7f6b249512da7",
            "e6d7ba6e42c74437a48445f67152feb3",
            "8633e750bf404a668875b797300c46a0",
            "806969cedc54457b89da32c81e08ec82",
            "59fd8266cef74b6f8336ed16bf343ee8",
            "64448f99100e425db636a17fde08b44c",
            "7e6e8f6cdd3c4d148a25bca4ae0a47fe",
            "ee50a6cdf51c4d7ebb9e68e4632977ac",
            "3638999f1a4f428d82d46c0fe30d3fe6",
            "cfa6e02315e2452ab20c8ee54ec7d29c",
            "ad65fb54efc54d12995c3fe340730128",
            "481a307df77a4f4192bca770e19f2a64",
            "07d0736d965243c696fcb75984a19f2e",
            "466d24f49d284f21ae5b4a2bcc1aef47",
            "fec4c2f8f7754a35a7366c1b2183dafc",
            "c7820167145b436f8bef5482794c4518",
            "6aa994ce63e24821a47e524163506b49",
            "49067da8e6ea4fc7a818632b00656738",
            "7db0ef21569b48a0a3fd4bb1312125b1"
          ]
        },
        "outputId": "a38a0c9e-8059-4235-cec0-9d9f606966ab"
      },
      "execution_count": null,
      "outputs": [
        {
          "output_type": "stream",
          "name": "stdout",
          "text": [
            "Starting to train agent with state ...\n"
          ]
        },
        {
          "output_type": "display_data",
          "data": {
            "text/plain": [
              "  0%|          | 0/5 [00:00<?, ?it/s]"
            ],
            "application/vnd.jupyter.widget-view+json": {
              "version_major": 2,
              "version_minor": 0,
              "model_id": "1ffd7c6e14f246f0aaf2b9f69106ad28"
            }
          },
          "metadata": {}
        },
        {
          "output_type": "display_data",
          "data": {
            "text/plain": [
              "  0%|          | 0/3600 [00:00<?, ?it/s]"
            ],
            "application/vnd.jupyter.widget-view+json": {
              "version_major": 2,
              "version_minor": 0,
              "model_id": "e9dd546bf7024da4bebd90cef0779760"
            }
          },
          "metadata": {}
        },
        {
          "output_type": "stream",
          "name": "stdout",
          "text": [
            "Episode 100\tAverage reward: 10.48\tEpsilon: 0.606\n",
            "Episode 200\tAverage reward: 10.54\tEpsilon: 0.367\n",
            "Episode 300\tAverage reward: 10.63\tEpsilon: 0.222\n",
            "Episode 400\tAverage reward: 10.71\tEpsilon: 0.135\n",
            "Episode 500\tAverage reward: 10.76\tEpsilon: 0.082\n",
            "Episode 600\tAverage reward: 10.80\tEpsilon: 0.049\n",
            "Episode 700\tAverage reward: 10.83\tEpsilon: 0.030\n",
            "Episode 800\tAverage reward: 10.85\tEpsilon: 0.018\n",
            "Episode 900\tAverage reward: 10.88\tEpsilon: 0.011\n",
            "Episode 1000\tAverage reward: 10.90\tEpsilon: 0.007\n",
            "Episode 1100\tAverage reward: 10.93\tEpsilon: 0.004\n",
            "Episode 1200\tAverage reward: 10.96\tEpsilon: 0.002\n",
            "Episode 1300\tAverage reward: 10.98\tEpsilon: 0.001\n",
            "Episode 1400\tAverage reward: 11.01\tEpsilon: 0.001\n",
            "Episode 1500\tAverage reward: 11.03\tEpsilon: 0.001\n",
            "Episode 1600\tAverage reward: 11.05\tEpsilon: 0.001\n",
            "Episode 1700\tAverage reward: 11.07\tEpsilon: 0.001\n",
            "Episode 1800\tAverage reward: 11.09\tEpsilon: 0.001\n",
            "Episode 1900\tAverage reward: 11.11\tEpsilon: 0.001\n",
            "Episode 2000\tAverage reward: 11.14\tEpsilon: 0.001\n",
            "Episode 2100\tAverage reward: 11.17\tEpsilon: 0.001\n",
            "Episode 2200\tAverage reward: 11.20\tEpsilon: 0.001\n",
            "Episode 2300\tAverage reward: 11.24\tEpsilon: 0.001\n",
            "Episode 2400\tAverage reward: 11.28\tEpsilon: 0.001\n",
            "Episode 2500\tAverage reward: 11.33\tEpsilon: 0.001\n",
            "Episode 2600\tAverage reward: 11.37\tEpsilon: 0.001\n",
            "Episode 2700\tAverage reward: 11.42\tEpsilon: 0.001\n",
            "Episode 2800\tAverage reward: 11.46\tEpsilon: 0.001\n",
            "Episode 2900\tAverage reward: 11.51\tEpsilon: 0.001\n",
            "Episode 3000\tAverage reward: 11.56\tEpsilon: 0.001\n",
            "Episode 3100\tAverage reward: 11.60\tEpsilon: 0.001\n",
            "Episode 3200\tAverage reward: 11.64\tEpsilon: 0.001\n",
            "Episode 3300\tAverage reward: 11.68\tEpsilon: 0.001\n",
            "Episode 3400\tAverage reward: 11.70\tEpsilon: 0.001\n",
            "Episode 3500\tAverage reward: 11.75\tEpsilon: 0.001\n",
            "Episode 3600\tAverage reward: 11.80\tEpsilon: 0.001\n"
          ]
        },
        {
          "output_type": "display_data",
          "data": {
            "text/plain": [
              "  0%|          | 0/3600 [00:00<?, ?it/s]"
            ],
            "application/vnd.jupyter.widget-view+json": {
              "version_major": 2,
              "version_minor": 0,
              "model_id": "a0d48ebb4155414ca9b1d617fe5374eb"
            }
          },
          "metadata": {}
        },
        {
          "output_type": "stream",
          "name": "stdout",
          "text": [
            "Episode 100\tAverage reward: 10.64\tEpsilon: 0.606\n",
            "Episode 200\tAverage reward: 10.67\tEpsilon: 0.367\n",
            "Episode 300\tAverage reward: 10.73\tEpsilon: 0.222\n",
            "Episode 400\tAverage reward: 10.79\tEpsilon: 0.135\n",
            "Episode 500\tAverage reward: 10.83\tEpsilon: 0.082\n",
            "Episode 600\tAverage reward: 10.86\tEpsilon: 0.049\n",
            "Episode 700\tAverage reward: 10.88\tEpsilon: 0.030\n",
            "Episode 800\tAverage reward: 10.90\tEpsilon: 0.018\n",
            "Episode 900\tAverage reward: 10.92\tEpsilon: 0.011\n",
            "Episode 1000\tAverage reward: 10.94\tEpsilon: 0.007\n",
            "Episode 1100\tAverage reward: 10.96\tEpsilon: 0.004\n",
            "Episode 1200\tAverage reward: 11.00\tEpsilon: 0.002\n",
            "Episode 1300\tAverage reward: 11.02\tEpsilon: 0.001\n",
            "Episode 1400\tAverage reward: 11.05\tEpsilon: 0.001\n",
            "Episode 1500\tAverage reward: 11.07\tEpsilon: 0.001\n",
            "Episode 1600\tAverage reward: 11.09\tEpsilon: 0.001\n",
            "Episode 1700\tAverage reward: 11.11\tEpsilon: 0.001\n",
            "Episode 1800\tAverage reward: 11.13\tEpsilon: 0.001\n",
            "Episode 1900\tAverage reward: 11.17\tEpsilon: 0.001\n",
            "Episode 2000\tAverage reward: 11.21\tEpsilon: 0.001\n",
            "Episode 2100\tAverage reward: 11.24\tEpsilon: 0.001\n",
            "Episode 2200\tAverage reward: 11.27\tEpsilon: 0.001\n",
            "Episode 2300\tAverage reward: 11.30\tEpsilon: 0.001\n",
            "Episode 2400\tAverage reward: 11.33\tEpsilon: 0.001\n",
            "Episode 2500\tAverage reward: 11.35\tEpsilon: 0.001\n",
            "Episode 2600\tAverage reward: 11.38\tEpsilon: 0.001\n",
            "Episode 2700\tAverage reward: 11.42\tEpsilon: 0.001\n",
            "Episode 2800\tAverage reward: 11.45\tEpsilon: 0.001\n",
            "Episode 2900\tAverage reward: 11.49\tEpsilon: 0.001\n",
            "Episode 3000\tAverage reward: 11.53\tEpsilon: 0.001\n",
            "Episode 3100\tAverage reward: 11.59\tEpsilon: 0.001\n",
            "Episode 3200\tAverage reward: 11.66\tEpsilon: 0.001\n",
            "Episode 3300\tAverage reward: 11.73\tEpsilon: 0.001\n",
            "Episode 3400\tAverage reward: 11.80\tEpsilon: 0.001\n",
            "Episode 3500\tAverage reward: 11.88\tEpsilon: 0.001\n",
            "Episode 3600\tAverage reward: 11.95\tEpsilon: 0.001\n"
          ]
        },
        {
          "output_type": "display_data",
          "data": {
            "text/plain": [
              "  0%|          | 0/3600 [00:00<?, ?it/s]"
            ],
            "application/vnd.jupyter.widget-view+json": {
              "version_major": 2,
              "version_minor": 0,
              "model_id": "4517f5e0cbce4b36af708512317c8918"
            }
          },
          "metadata": {}
        },
        {
          "output_type": "stream",
          "name": "stdout",
          "text": [
            "Episode 100\tAverage reward: 10.54\tEpsilon: 0.606\n",
            "Episode 200\tAverage reward: 10.68\tEpsilon: 0.367\n",
            "Episode 300\tAverage reward: 10.73\tEpsilon: 0.222\n",
            "Episode 400\tAverage reward: 10.78\tEpsilon: 0.135\n",
            "Episode 500\tAverage reward: 10.82\tEpsilon: 0.082\n",
            "Episode 600\tAverage reward: 10.86\tEpsilon: 0.049\n",
            "Episode 700\tAverage reward: 10.88\tEpsilon: 0.030\n",
            "Episode 800\tAverage reward: 10.91\tEpsilon: 0.018\n",
            "Episode 900\tAverage reward: 10.93\tEpsilon: 0.011\n",
            "Episode 1000\tAverage reward: 10.95\tEpsilon: 0.007\n",
            "Episode 1100\tAverage reward: 10.98\tEpsilon: 0.004\n",
            "Episode 1200\tAverage reward: 11.01\tEpsilon: 0.002\n",
            "Episode 1300\tAverage reward: 11.04\tEpsilon: 0.001\n",
            "Episode 1400\tAverage reward: 11.07\tEpsilon: 0.001\n",
            "Episode 1500\tAverage reward: 11.08\tEpsilon: 0.001\n",
            "Episode 1600\tAverage reward: 11.10\tEpsilon: 0.001\n",
            "Episode 1700\tAverage reward: 11.12\tEpsilon: 0.001\n",
            "Episode 1800\tAverage reward: 11.15\tEpsilon: 0.001\n",
            "Episode 1900\tAverage reward: 11.17\tEpsilon: 0.001\n",
            "Episode 2000\tAverage reward: 11.18\tEpsilon: 0.001\n",
            "Episode 2100\tAverage reward: 11.19\tEpsilon: 0.001\n",
            "Episode 2200\tAverage reward: 11.21\tEpsilon: 0.001\n",
            "Episode 2300\tAverage reward: 11.23\tEpsilon: 0.001\n",
            "Episode 2400\tAverage reward: 11.24\tEpsilon: 0.001\n",
            "Episode 2500\tAverage reward: 11.26\tEpsilon: 0.001\n",
            "Episode 2600\tAverage reward: 11.28\tEpsilon: 0.001\n",
            "Episode 2700\tAverage reward: 11.31\tEpsilon: 0.001\n",
            "Episode 2800\tAverage reward: 11.34\tEpsilon: 0.001\n",
            "Episode 2900\tAverage reward: 11.37\tEpsilon: 0.001\n",
            "Episode 3000\tAverage reward: 11.38\tEpsilon: 0.001\n",
            "Episode 3100\tAverage reward: 11.39\tEpsilon: 0.001\n",
            "Episode 3200\tAverage reward: 11.40\tEpsilon: 0.001\n",
            "Episode 3300\tAverage reward: 11.42\tEpsilon: 0.001\n",
            "Episode 3400\tAverage reward: 11.42\tEpsilon: 0.001\n",
            "Episode 3500\tAverage reward: 11.43\tEpsilon: 0.001\n",
            "Episode 3600\tAverage reward: 11.44\tEpsilon: 0.001\n"
          ]
        },
        {
          "output_type": "display_data",
          "data": {
            "text/plain": [
              "  0%|          | 0/3600 [00:00<?, ?it/s]"
            ],
            "application/vnd.jupyter.widget-view+json": {
              "version_major": 2,
              "version_minor": 0,
              "model_id": "4923454742704e599b9a92b8e6f2728e"
            }
          },
          "metadata": {}
        },
        {
          "output_type": "stream",
          "name": "stdout",
          "text": [
            "Episode 100\tAverage reward: 10.74\tEpsilon: 0.606\n",
            "Episode 200\tAverage reward: 10.73\tEpsilon: 0.367\n",
            "Episode 300\tAverage reward: 10.74\tEpsilon: 0.222\n",
            "Episode 400\tAverage reward: 10.78\tEpsilon: 0.135\n",
            "Episode 500\tAverage reward: 10.82\tEpsilon: 0.082\n",
            "Episode 600\tAverage reward: 10.84\tEpsilon: 0.049\n",
            "Episode 700\tAverage reward: 10.84\tEpsilon: 0.030\n",
            "Episode 800\tAverage reward: 10.85\tEpsilon: 0.018\n",
            "Episode 900\tAverage reward: 10.85\tEpsilon: 0.011\n",
            "Episode 1000\tAverage reward: 10.86\tEpsilon: 0.007\n",
            "Episode 1100\tAverage reward: 10.89\tEpsilon: 0.004\n",
            "Episode 1200\tAverage reward: 10.91\tEpsilon: 0.002\n",
            "Episode 1300\tAverage reward: 10.94\tEpsilon: 0.001\n",
            "Episode 1400\tAverage reward: 10.97\tEpsilon: 0.001\n",
            "Episode 1500\tAverage reward: 11.00\tEpsilon: 0.001\n",
            "Episode 1600\tAverage reward: 11.02\tEpsilon: 0.001\n",
            "Episode 1700\tAverage reward: 11.04\tEpsilon: 0.001\n",
            "Episode 1800\tAverage reward: 11.06\tEpsilon: 0.001\n",
            "Episode 1900\tAverage reward: 11.07\tEpsilon: 0.001\n",
            "Episode 2000\tAverage reward: 11.10\tEpsilon: 0.001\n",
            "Episode 2100\tAverage reward: 11.12\tEpsilon: 0.001\n",
            "Episode 2200\tAverage reward: 11.14\tEpsilon: 0.001\n",
            "Episode 2300\tAverage reward: 11.16\tEpsilon: 0.001\n",
            "Episode 2400\tAverage reward: 11.18\tEpsilon: 0.001\n",
            "Episode 2500\tAverage reward: 11.21\tEpsilon: 0.001\n",
            "Episode 2600\tAverage reward: 11.23\tEpsilon: 0.001\n",
            "Episode 2700\tAverage reward: 11.26\tEpsilon: 0.001\n",
            "Episode 2800\tAverage reward: 11.30\tEpsilon: 0.001\n",
            "Episode 2900\tAverage reward: 11.33\tEpsilon: 0.001\n",
            "Episode 3000\tAverage reward: 11.36\tEpsilon: 0.001\n",
            "Episode 3100\tAverage reward: 11.42\tEpsilon: 0.001\n",
            "Episode 3200\tAverage reward: 11.47\tEpsilon: 0.001\n",
            "Episode 3300\tAverage reward: 11.53\tEpsilon: 0.001\n",
            "Episode 3400\tAverage reward: 11.60\tEpsilon: 0.001\n",
            "Episode 3500\tAverage reward: 11.68\tEpsilon: 0.001\n",
            "Episode 3600\tAverage reward: 11.76\tEpsilon: 0.001\n"
          ]
        },
        {
          "output_type": "display_data",
          "data": {
            "text/plain": [
              "  0%|          | 0/3600 [00:00<?, ?it/s]"
            ],
            "application/vnd.jupyter.widget-view+json": {
              "version_major": 2,
              "version_minor": 0,
              "model_id": "3638999f1a4f428d82d46c0fe30d3fe6"
            }
          },
          "metadata": {}
        },
        {
          "output_type": "stream",
          "name": "stdout",
          "text": [
            "Episode 100\tAverage reward: 10.86\tEpsilon: 0.606\n",
            "Episode 200\tAverage reward: 10.86\tEpsilon: 0.367\n",
            "Episode 300\tAverage reward: 10.85\tEpsilon: 0.222\n",
            "Episode 400\tAverage reward: 10.87\tEpsilon: 0.135\n",
            "Episode 500\tAverage reward: 10.90\tEpsilon: 0.082\n",
            "Episode 600\tAverage reward: 10.92\tEpsilon: 0.049\n",
            "Episode 700\tAverage reward: 10.95\tEpsilon: 0.030\n",
            "Episode 800\tAverage reward: 10.96\tEpsilon: 0.018\n",
            "Episode 900\tAverage reward: 10.95\tEpsilon: 0.011\n",
            "Episode 1000\tAverage reward: 10.96\tEpsilon: 0.007\n",
            "Episode 1100\tAverage reward: 10.98\tEpsilon: 0.004\n",
            "Episode 1200\tAverage reward: 11.00\tEpsilon: 0.002\n",
            "Episode 1300\tAverage reward: 11.02\tEpsilon: 0.001\n",
            "Episode 1400\tAverage reward: 11.05\tEpsilon: 0.001\n",
            "Episode 1500\tAverage reward: 11.08\tEpsilon: 0.001\n",
            "Episode 1600\tAverage reward: 11.11\tEpsilon: 0.001\n",
            "Episode 1700\tAverage reward: 11.14\tEpsilon: 0.001\n",
            "Episode 1800\tAverage reward: 11.16\tEpsilon: 0.001\n",
            "Episode 1900\tAverage reward: 11.19\tEpsilon: 0.001\n",
            "Episode 2000\tAverage reward: 11.21\tEpsilon: 0.001\n",
            "Episode 2100\tAverage reward: 11.23\tEpsilon: 0.001\n",
            "Episode 2200\tAverage reward: 11.26\tEpsilon: 0.001\n",
            "Episode 2300\tAverage reward: 11.28\tEpsilon: 0.001\n",
            "Episode 2400\tAverage reward: 11.30\tEpsilon: 0.001\n",
            "Episode 2500\tAverage reward: 11.32\tEpsilon: 0.001\n",
            "Episode 2600\tAverage reward: 11.34\tEpsilon: 0.001\n",
            "Episode 2700\tAverage reward: 11.37\tEpsilon: 0.001\n",
            "Episode 2800\tAverage reward: 11.40\tEpsilon: 0.001\n",
            "Episode 2900\tAverage reward: 11.43\tEpsilon: 0.001\n",
            "Episode 3000\tAverage reward: 11.47\tEpsilon: 0.001\n",
            "Episode 3100\tAverage reward: 11.51\tEpsilon: 0.001\n",
            "Episode 3200\tAverage reward: 11.56\tEpsilon: 0.001\n",
            "Episode 3300\tAverage reward: 11.60\tEpsilon: 0.001\n",
            "Episode 3400\tAverage reward: 11.63\tEpsilon: 0.001\n",
            "Episode 3500\tAverage reward: 11.67\tEpsilon: 0.001\n",
            "Episode 3600\tAverage reward: 11.71\tEpsilon: 0.001\n"
          ]
        }
      ]
    },
    {
      "cell_type": "markdown",
      "source": [
        "### Evaluating"
      ],
      "metadata": {
        "id": "yGhUfb_LatNK"
      }
    },
    {
      "cell_type": "code",
      "source": [
        "dqn_merge.env.config['policy_frequency'] = 10\n",
        "sum_rewards = dqn_merge.evaluation(video_path+\"merge.mp4\", evaluate_type='state', iter_num=2, evaluate_episode_num=2000, use_saved_model=True)\n",
        "print('\\n\\nSum rewards in one EPISODE:', sum_rewards)"
      ],
      "metadata": {
        "id": "qbQrFdoYazyT",
        "colab": {
          "base_uri": "https://localhost:8080/"
        },
        "outputId": "f0b242c5-69dd-47cd-f9d1-89a02726a02f"
      },
      "execution_count": null,
      "outputs": [
        {
          "output_type": "stream",
          "name": "stdout",
          "text": [
            "step:179\n",
            "Moviepy - Building video /content/drive/MyDrive/RL/HW/HW5/Videos/merge.mp4.\n",
            "Moviepy - Writing video /content/drive/MyDrive/RL/HW/HW5/Videos/merge.mp4\n",
            "\n"
          ]
        },
        {
          "output_type": "stream",
          "name": "stderr",
          "text": []
        },
        {
          "output_type": "stream",
          "name": "stdout",
          "text": [
            "Moviepy - Done !\n",
            "Moviepy - video ready /content/drive/MyDrive/RL/HW/HW5/Videos/merge.mp4\n",
            "\n",
            "\n",
            "Sum rewards in one EPISODE: 167.68244913699334\n"
          ]
        }
      ]
    },
    {
      "cell_type": "code",
      "source": [
        "show_and_plot().show_video(directory=video_path, file_name='merge.mp4')"
      ],
      "metadata": {
        "colab": {
          "base_uri": "https://localhost:8080/",
          "height": 186
        },
        "id": "fRrq13SFf0Sk",
        "outputId": "4076a972-07dd-424a-c2b9-be501e0c2dc1"
      },
      "execution_count": null,
      "outputs": [
        {
          "output_type": "display_data",
          "data": {
            "text/plain": [
              "<IPython.core.display.HTML object>"
            ],
            "text/html": [
              "<video alt=\"test\" autoplay \n",
              "                    loop controls style=\"height: 165px; width: 650px;\">\n",
              "                    <source src=\"data:video/mp4;base64,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\" type=\"video/mp4\" />\n",
              "                </video>"
            ]
          },
          "metadata": {}
        }
      ]
    },
    {
      "cell_type": "markdown",
      "source": [
        "## **Plotting**"
      ],
      "metadata": {
        "id": "4oX9P3ASayfv"
      }
    },
    {
      "cell_type": "code",
      "source": [
        "df_reward_dqn_merge = pd.read_excel(data_path_1 + 'Episodes_reward_run_5.xlsx')\n",
        "episodes_rewards_merge = df_reward_dqn_merge.T.to_numpy()\n",
        "\n",
        "fig, ax = plt.subplots(figsize = (12, 7.5))\n",
        "ax = show_and_plot().plot_training_result(episodes_rewards_merge, ax, title='DQN', label='Merge task with state',\n",
        "                                                                                                          window=50, stride=10, alpha=0.3)\n",
        "plt.legend()\n",
        "plt.show()\n",
        "fig.savefig(path_HW5+'Images/1-Merge-task-state.png', dpi=300)"
      ],
      "metadata": {
        "colab": {
          "base_uri": "https://localhost:8080/",
          "height": 508
        },
        "id": "NKp-Y1mbS3sC",
        "outputId": "ae4a5755-850d-4c9f-ef25-90b726fa73f4"
      },
      "execution_count": null,
      "outputs": [
        {
          "output_type": "display_data",
          "data": {
            "text/plain": [
              "<Figure size 864x540 with 1 Axes>"
            ],
            "image/png": "[encoded data removed]"
          },
          "metadata": {}
        }
      ]
    },
    {
      "cell_type": "markdown",
      "source": [
        "# **Part 3**"
      ],
      "metadata": {
        "id": "yzZxb7aLZjoY"
      }
    },
    {
      "cell_type": "markdown",
      "source": [
        "## highway-fast-v0"
      ],
      "metadata": {
        "id": "Ty03IwTwbY_x"
      }
    },
    {
      "cell_type": "code",
      "source": [
        "video_path = path_HW5 + 'Videos/'\n",
        "model_path = path_HW5 + 'Models/2_Models_fastHighway/'\n",
        "data_path_2 = path_HW5 + 'Data_Average_Reward/2_Data_fastHighway/'\n",
        "env_name = 'highway-fast-v0'\n",
        "env = gym.make(env_name, render_mode='rgb_array')\n",
        "dqn_fastHighway = DQN(env, env_name, model_path, data_path_2, network_type='linear')"
      ],
      "metadata": {
        "id": "rXgxKO4bbY_y"
      },
      "execution_count": null,
      "outputs": []
    },
    {
      "cell_type": "markdown",
      "source": [
        "### Training"
      ],
      "metadata": {
        "id": "cz-nLJ72bY_y"
      }
    },
    {
      "cell_type": "code",
      "source": [
        "df_reward_dqn_fastHighway = dqn_fastHighway.train_with_state(n_iteration=[1, 2, 3, 4, 5], n_training_episodes=3600, max_step=10000)"
      ],
      "metadata": {
        "id": "MsjmCSvPbY_y",
        "colab": {
          "base_uri": "https://localhost:8080/",
          "height": 1000,
          "referenced_widgets": [
            "164f9d6e337b4deb9f4dd75c1a00a48d",
            "f4a1c253202c4adc96e1c3f644d9813f",
            "723f457893dd4d618a07b46604b8629c",
            "9a3547e88cff469c8942a056c488e748",
            "c798195a3e38467abe2a7163cb8f103b",
            "4358996003904885ac7da4b644f009e4",
            "ec8c53ec45d84a54bbc7c395c0725f56",
            "314c407adc6e455eb9724199c438b660",
            "b8870c5ab5a84bf6b4234bac0a0396b3",
            "ee39209c3bbf4e109f6024ace17e420c",
            "5831d9419ce14677b92391abbbe36610",
            "b951d665aa004ccdaac2cd5e1ba121cf",
            "9e4311526c1a45c8b860f0b2944dfbda",
            "a1243d72c3eb45dfb908dc75be2c0e9c",
            "3afe6701d80848bc844566afca63b429",
            "fb9ef95f372c481f98954f60f3941755",
            "25a6cf11b244487893bde5372b6641c0",
            "df93112b5e7642c0b5f09440d4b09c63",
            "76ed40b5e8a44def982cd4a44cbae1c0",
            "3189e55d5fbb4aa4934d68daea0fe383",
            "75b7892c2cbe4a4ca04bcd52bb29b3d3",
            "77ed304a28754f30afaaa8e3ec2e759b",
            "6f995d5316fb4c078fe0443fb6a87b77",
            "4d3a7c3005844ac792ff5fd44d5f671d",
            "055d3f8c519945ecb0ffe270d76059ba",
            "fabb8759c1824f18a22c1ccd8a1c98cf",
            "8ea640f88a694bb5afa970b745724e79",
            "f1932b80eeed406bbc8c65f23da63feb",
            "beea12de848b4bfb8142b485c37516a2",
            "bf095391f0a34c529ebb32be550f9bed",
            "8cbdf4c931834b048fce2b75c527abb0",
            "fab3256b296645dcbf1ee0f43deb28b8",
            "6a8db7d33bab44aab60e5a239c07f9fa",
            "c9e93c86920846c09644eee502a3770a",
            "851ab0d56091499f9f027fcdd9fe607d",
            "5c4f587d9ebb4d00ae74ec7173ca53f0",
            "759fe1e75b734597a2c8f3c16617694c",
            "f1ca89ebe0054a6fa9430c5022b46ce9",
            "ed8963c202da40018093b8c376e3140c",
            "ed0dcd3356964fada679d431cbcfb12a",
            "0ea450ac99a74602bb8030f6db4875df",
            "61a96a43ec194b5eb1312c9131112648",
            "c667695a8f5b43c0a8ebdd9505f7ef45",
            "bfdff053a5264015a65263c65f05fa4e",
            "5fb025a077824f8686167dec3b0a8095",
            "b8440ab5bab0457fbb015cc172eafe8d",
            "75424ea46e524175bac30e18cea6fbe3",
            "3d37c46c8cfc4564b89575c6f45cd6fb",
            "c7396d402b0a46eaa6f8c3dd973142ae",
            "191b1f30b70b4ad5b6fefa1c68fef1db",
            "bc2bf56942e1476498ca0125db73e16c",
            "858ed16410f0404894ffa7d93c16350a",
            "efae94771d1742c1b646e4c50d7e3c0e",
            "3430d1ce7b72455ab063a69d4882ae4e",
            "7e2938da1fbd48a4b32773eb3ad1dd27"
          ]
        },
        "outputId": "ef1494f9-3842-429f-e759-e36bf2de6e2d"
      },
      "execution_count": null,
      "outputs": [
        {
          "output_type": "stream",
          "name": "stdout",
          "text": [
            "Starting to train agent with state ...\n"
          ]
        },
        {
          "output_type": "display_data",
          "data": {
            "text/plain": [
              "  0%|          | 0/5 [00:00<?, ?it/s]"
            ],
            "application/vnd.jupyter.widget-view+json": {
              "version_major": 2,
              "version_minor": 0,
              "model_id": "164f9d6e337b4deb9f4dd75c1a00a48d"
            }
          },
          "metadata": {}
        },
        {
          "output_type": "display_data",
          "data": {
            "text/plain": [
              "  0%|          | 0/3600 [00:00<?, ?it/s]"
            ],
            "application/vnd.jupyter.widget-view+json": {
              "version_major": 2,
              "version_minor": 0,
              "model_id": "b951d665aa004ccdaac2cd5e1ba121cf"
            }
          },
          "metadata": {}
        },
        {
          "output_type": "stream",
          "name": "stdout",
          "text": [
            "Episode 100\tAverage reward: 6.92\tEpsilon: 0.606\n",
            "Episode 200\tAverage reward: 6.52\tEpsilon: 0.367\n",
            "Episode 300\tAverage reward: 6.90\tEpsilon: 0.222\n",
            "Episode 400\tAverage reward: 6.76\tEpsilon: 0.135\n",
            "Episode 500\tAverage reward: 6.75\tEpsilon: 0.082\n",
            "Episode 600\tAverage reward: 6.86\tEpsilon: 0.049\n",
            "Episode 700\tAverage reward: 6.94\tEpsilon: 0.030\n",
            "Episode 800\tAverage reward: 7.23\tEpsilon: 0.018\n",
            "Episode 900\tAverage reward: 7.60\tEpsilon: 0.011\n",
            "Episode 1000\tAverage reward: 7.91\tEpsilon: 0.007\n",
            "Episode 1100\tAverage reward: 8.25\tEpsilon: 0.004\n",
            "Episode 1200\tAverage reward: 8.70\tEpsilon: 0.002\n",
            "Episode 1300\tAverage reward: 9.06\tEpsilon: 0.001\n",
            "Episode 1400\tAverage reward: 9.36\tEpsilon: 0.001\n",
            "Episode 1500\tAverage reward: 9.72\tEpsilon: 0.001\n",
            "Episode 1600\tAverage reward: 10.01\tEpsilon: 0.001\n",
            "Episode 1700\tAverage reward: 10.32\tEpsilon: 0.001\n",
            "Episode 1800\tAverage reward: 10.58\tEpsilon: 0.001\n",
            "Episode 1900\tAverage reward: 10.89\tEpsilon: 0.001\n",
            "Episode 2000\tAverage reward: 11.13\tEpsilon: 0.001\n",
            "Episode 2100\tAverage reward: 11.50\tEpsilon: 0.001\n",
            "Episode 2200\tAverage reward: 11.78\tEpsilon: 0.001\n",
            "Episode 2300\tAverage reward: 12.13\tEpsilon: 0.001\n",
            "Episode 2400\tAverage reward: 12.46\tEpsilon: 0.001\n",
            "Episode 2500\tAverage reward: 12.78\tEpsilon: 0.001\n",
            "Episode 2600\tAverage reward: 13.11\tEpsilon: 0.001\n",
            "Episode 2700\tAverage reward: 13.44\tEpsilon: 0.001\n",
            "Episode 2800\tAverage reward: 13.71\tEpsilon: 0.001\n",
            "Episode 2900\tAverage reward: 13.97\tEpsilon: 0.001\n",
            "Episode 3000\tAverage reward: 14.24\tEpsilon: 0.001\n",
            "Episode 3100\tAverage reward: 14.51\tEpsilon: 0.001\n",
            "Episode 3200\tAverage reward: 14.74\tEpsilon: 0.001\n",
            "Episode 3300\tAverage reward: 14.96\tEpsilon: 0.001\n",
            "Episode 3400\tAverage reward: 15.18\tEpsilon: 0.001\n",
            "Episode 3500\tAverage reward: 15.39\tEpsilon: 0.001\n",
            "Episode 3600\tAverage reward: 15.58\tEpsilon: 0.001\n"
          ]
        },
        {
          "output_type": "display_data",
          "data": {
            "text/plain": [
              "  0%|          | 0/3600 [00:00<?, ?it/s]"
            ],
            "application/vnd.jupyter.widget-view+json": {
              "version_major": 2,
              "version_minor": 0,
              "model_id": "6f995d5316fb4c078fe0443fb6a87b77"
            }
          },
          "metadata": {}
        },
        {
          "output_type": "stream",
          "name": "stdout",
          "text": [
            "Episode 100\tAverage reward: 6.09\tEpsilon: 0.606\n",
            "Episode 200\tAverage reward: 6.43\tEpsilon: 0.367\n",
            "Episode 300\tAverage reward: 6.55\tEpsilon: 0.222\n",
            "Episode 400\tAverage reward: 6.61\tEpsilon: 0.135\n",
            "Episode 500\tAverage reward: 6.78\tEpsilon: 0.082\n",
            "Episode 600\tAverage reward: 7.01\tEpsilon: 0.049\n",
            "Episode 700\tAverage reward: 7.14\tEpsilon: 0.030\n",
            "Episode 800\tAverage reward: 7.36\tEpsilon: 0.018\n",
            "Episode 900\tAverage reward: 7.73\tEpsilon: 0.011\n",
            "Episode 1000\tAverage reward: 8.10\tEpsilon: 0.007\n",
            "Episode 1100\tAverage reward: 8.54\tEpsilon: 0.004\n",
            "Episode 1200\tAverage reward: 8.93\tEpsilon: 0.002\n",
            "Episode 1300\tAverage reward: 9.33\tEpsilon: 0.001\n",
            "Episode 1400\tAverage reward: 9.69\tEpsilon: 0.001\n",
            "Episode 1500\tAverage reward: 10.02\tEpsilon: 0.001\n",
            "Episode 1600\tAverage reward: 10.48\tEpsilon: 0.001\n",
            "Episode 1700\tAverage reward: 10.83\tEpsilon: 0.001\n",
            "Episode 1800\tAverage reward: 11.19\tEpsilon: 0.001\n",
            "Episode 1900\tAverage reward: 11.65\tEpsilon: 0.001\n",
            "Episode 2000\tAverage reward: 12.07\tEpsilon: 0.001\n",
            "Episode 2100\tAverage reward: 12.50\tEpsilon: 0.001\n",
            "Episode 2200\tAverage reward: 12.90\tEpsilon: 0.001\n",
            "Episode 2300\tAverage reward: 13.28\tEpsilon: 0.001\n",
            "Episode 2400\tAverage reward: 13.63\tEpsilon: 0.001\n",
            "Episode 2500\tAverage reward: 13.96\tEpsilon: 0.001\n",
            "Episode 2600\tAverage reward: 14.29\tEpsilon: 0.001\n",
            "Episode 2700\tAverage reward: 14.59\tEpsilon: 0.001\n",
            "Episode 2800\tAverage reward: 14.88\tEpsilon: 0.001\n",
            "Episode 2900\tAverage reward: 15.16\tEpsilon: 0.001\n",
            "Episode 3000\tAverage reward: 15.41\tEpsilon: 0.001\n",
            "Episode 3100\tAverage reward: 15.64\tEpsilon: 0.001\n",
            "Episode 3200\tAverage reward: 15.84\tEpsilon: 0.001\n",
            "Episode 3300\tAverage reward: 16.03\tEpsilon: 0.001\n",
            "Episode 3400\tAverage reward: 16.23\tEpsilon: 0.001\n",
            "Episode 3500\tAverage reward: 16.42\tEpsilon: 0.001\n",
            "Episode 3600\tAverage reward: 16.59\tEpsilon: 0.001\n"
          ]
        },
        {
          "output_type": "display_data",
          "data": {
            "text/plain": [
              "  0%|          | 0/3600 [00:00<?, ?it/s]"
            ],
            "application/vnd.jupyter.widget-view+json": {
              "version_major": 2,
              "version_minor": 0,
              "model_id": "c9e93c86920846c09644eee502a3770a"
            }
          },
          "metadata": {}
        },
        {
          "output_type": "stream",
          "name": "stdout",
          "text": [
            "Episode 100\tAverage reward: 7.27\tEpsilon: 0.606\n",
            "Episode 200\tAverage reward: 6.79\tEpsilon: 0.367\n",
            "Episode 300\tAverage reward: 6.67\tEpsilon: 0.222\n",
            "Episode 400\tAverage reward: 6.57\tEpsilon: 0.135\n",
            "Episode 500\tAverage reward: 6.70\tEpsilon: 0.082\n",
            "Episode 600\tAverage reward: 6.80\tEpsilon: 0.049\n",
            "Episode 700\tAverage reward: 7.00\tEpsilon: 0.030\n",
            "Episode 800\tAverage reward: 7.09\tEpsilon: 0.018\n",
            "Episode 900\tAverage reward: 7.45\tEpsilon: 0.011\n",
            "Episode 1000\tAverage reward: 7.83\tEpsilon: 0.007\n",
            "Episode 1100\tAverage reward: 8.22\tEpsilon: 0.004\n",
            "Episode 1200\tAverage reward: 8.47\tEpsilon: 0.002\n",
            "Episode 1300\tAverage reward: 8.83\tEpsilon: 0.001\n",
            "Episode 1400\tAverage reward: 9.12\tEpsilon: 0.001\n",
            "Episode 1500\tAverage reward: 9.39\tEpsilon: 0.001\n",
            "Episode 1600\tAverage reward: 9.66\tEpsilon: 0.001\n",
            "Episode 1700\tAverage reward: 9.87\tEpsilon: 0.001\n",
            "Episode 1800\tAverage reward: 10.09\tEpsilon: 0.001\n",
            "Episode 1900\tAverage reward: 10.37\tEpsilon: 0.001\n",
            "Episode 2000\tAverage reward: 10.70\tEpsilon: 0.001\n",
            "Episode 2100\tAverage reward: 11.01\tEpsilon: 0.001\n",
            "Episode 2200\tAverage reward: 11.24\tEpsilon: 0.001\n",
            "Episode 2300\tAverage reward: 11.59\tEpsilon: 0.001\n",
            "Episode 2400\tAverage reward: 11.89\tEpsilon: 0.001\n",
            "Episode 2500\tAverage reward: 12.17\tEpsilon: 0.001\n",
            "Episode 2600\tAverage reward: 12.45\tEpsilon: 0.001\n",
            "Episode 2700\tAverage reward: 12.73\tEpsilon: 0.001\n",
            "Episode 2800\tAverage reward: 13.00\tEpsilon: 0.001\n",
            "Episode 2900\tAverage reward: 13.28\tEpsilon: 0.001\n",
            "Episode 3000\tAverage reward: 13.53\tEpsilon: 0.001\n",
            "Episode 3100\tAverage reward: 13.76\tEpsilon: 0.001\n",
            "Episode 3200\tAverage reward: 14.02\tEpsilon: 0.001\n",
            "Episode 3300\tAverage reward: 14.24\tEpsilon: 0.001\n",
            "Episode 3400\tAverage reward: 14.45\tEpsilon: 0.001\n",
            "Episode 3500\tAverage reward: 14.65\tEpsilon: 0.001\n",
            "Episode 3600\tAverage reward: 14.85\tEpsilon: 0.001\n"
          ]
        },
        {
          "output_type": "display_data",
          "data": {
            "text/plain": [
              "  0%|          | 0/3600 [00:00<?, ?it/s]"
            ],
            "application/vnd.jupyter.widget-view+json": {
              "version_major": 2,
              "version_minor": 0,
              "model_id": "5fb025a077824f8686167dec3b0a8095"
            }
          },
          "metadata": {}
        },
        {
          "output_type": "stream",
          "name": "stdout",
          "text": [
            "Episode 100\tAverage reward: 6.09\tEpsilon: 0.606\n",
            "Episode 200\tAverage reward: 5.91\tEpsilon: 0.367\n",
            "Episode 300\tAverage reward: 6.22\tEpsilon: 0.222\n",
            "Episode 400\tAverage reward: 6.27\tEpsilon: 0.135\n",
            "Episode 500\tAverage reward: 6.49\tEpsilon: 0.082\n",
            "Episode 600\tAverage reward: 6.95\tEpsilon: 0.049\n",
            "Episode 700\tAverage reward: 7.21\tEpsilon: 0.030\n",
            "Episode 800\tAverage reward: 7.65\tEpsilon: 0.018\n",
            "Episode 900\tAverage reward: 8.17\tEpsilon: 0.011\n",
            "Episode 1000\tAverage reward: 8.43\tEpsilon: 0.007\n",
            "Episode 1100\tAverage reward: 8.81\tEpsilon: 0.004\n",
            "Episode 1200\tAverage reward: 9.15\tEpsilon: 0.002\n",
            "Episode 1300\tAverage reward: 9.51\tEpsilon: 0.001\n",
            "Episode 1400\tAverage reward: 9.86\tEpsilon: 0.001\n",
            "Episode 1500\tAverage reward: 10.15\tEpsilon: 0.001\n",
            "Episode 1600\tAverage reward: 10.52\tEpsilon: 0.001\n",
            "Episode 1683\tAverage reward: 10.94\tEpsilon: 0.001"
          ]
        }
      ]
    },
    {
      "cell_type": "code",
      "source": [
        "df_reward_dqn_fastHighway = dqn_fastHighway.train_with_state(n_iteration=[4, 5], n_training_episodes=3600, max_step=10000)"
      ],
      "metadata": {
        "id": "6IK3mZAHtTxV",
        "colab": {
          "base_uri": "https://localhost:8080/",
          "height": 1000,
          "referenced_widgets": [
            "1bc44edef0a845e1bfd74e52f215e4b4",
            "3173e65d383d4f098d52490e7190723a",
            "59baef1184fa49a6b385baa6c76b9de9",
            "a03db15081c44addae7e8ff3c3712e2c",
            "dbb2aecbc497499697b447a43fdf2144",
            "b5635ecf4b0f470d87bee152641617b4",
            "11bf4d9d94c0427dae628b4c1e7e0273",
            "4312b637314f4ed2995338fe76707026",
            "133f024f311b47dbb20cd70d3438801f",
            "3b5498345c3445f3a6d7bf6b520c50fc",
            "2efd92302bb8462db85deec4ffa3f8c5",
            "fba19b9f3aaf4400aa15bd005010c280",
            "d3c9a3a527df4b55ba01a7124ba4ee7a",
            "60983ca44faf4cfea6aacd4016252d7b",
            "2e25b7e9afd14a9f9569040acf68080e",
            "c680e892648543deaa1817d0f7b05bd9",
            "a5044ab5e4ed4353bddc2a16beb734fb",
            "6838be775ef54adcb2c1a420cf1ba13d",
            "061b0321e95c4effa5d13991d9135bf6",
            "d10051abcc674280a73f8b8c1423930e",
            "28e3ca9618e74867bc8d4311a23efd76",
            "69404d57107040b0bcb7ae64ce8bf21f",
            "7acbd016e0934b49a2c2104640ec2eb3",
            "fa091827820244da91bcfee4e2230221",
            "6bc0e4d84e014798a145383c07008f66",
            "f085ea209e634d6b9f15de3a9274db82",
            "dde17dd7e95541c9a2b5ef62061b8116",
            "15fd0aa053ef4f2f9ac2bf8071769979",
            "459647a78f414f4fa3504283e6db5220",
            "3759a2f5916143699ec7b9287fae8665",
            "cd8e97ab43ea487cbc7d8d6af3b7e733",
            "517899730b934c73bc23c045e9d701da",
            "ee20a3e43083436783db01fb2e22709d"
          ]
        },
        "outputId": "d1758070-1c62-48b6-b8d2-7031ba72e705"
      },
      "execution_count": null,
      "outputs": [
        {
          "output_type": "stream",
          "name": "stdout",
          "text": [
            "Starting to train agent with state ...\n"
          ]
        },
        {
          "output_type": "display_data",
          "data": {
            "text/plain": [
              "  0%|          | 0/2 [00:00<?, ?it/s]"
            ],
            "application/vnd.jupyter.widget-view+json": {
              "version_major": 2,
              "version_minor": 0,
              "model_id": "1bc44edef0a845e1bfd74e52f215e4b4"
            }
          },
          "metadata": {}
        },
        {
          "output_type": "display_data",
          "data": {
            "text/plain": [
              "  0%|          | 0/3600 [00:00<?, ?it/s]"
            ],
            "application/vnd.jupyter.widget-view+json": {
              "version_major": 2,
              "version_minor": 0,
              "model_id": "fba19b9f3aaf4400aa15bd005010c280"
            }
          },
          "metadata": {}
        },
        {
          "output_type": "stream",
          "name": "stdout",
          "text": [
            "Episode 100\tAverage reward: 6.74\tEpsilon: 0.606\n",
            "Episode 200\tAverage reward: 6.73\tEpsilon: 0.367\n",
            "Episode 300\tAverage reward: 6.68\tEpsilon: 0.222\n",
            "Episode 400\tAverage reward: 6.82\tEpsilon: 0.135\n",
            "Episode 500\tAverage reward: 7.01\tEpsilon: 0.082\n",
            "Episode 600\tAverage reward: 7.32\tEpsilon: 0.049\n",
            "Episode 700\tAverage reward: 7.69\tEpsilon: 0.030\n",
            "Episode 800\tAverage reward: 8.04\tEpsilon: 0.018\n",
            "Episode 900\tAverage reward: 8.45\tEpsilon: 0.011\n",
            "Episode 1000\tAverage reward: 8.74\tEpsilon: 0.007\n",
            "Episode 1100\tAverage reward: 9.04\tEpsilon: 0.004\n",
            "Episode 1200\tAverage reward: 9.29\tEpsilon: 0.002\n",
            "Episode 1300\tAverage reward: 9.43\tEpsilon: 0.001\n",
            "Episode 1400\tAverage reward: 9.65\tEpsilon: 0.001\n",
            "Episode 1500\tAverage reward: 9.92\tEpsilon: 0.001\n",
            "Episode 1600\tAverage reward: 10.12\tEpsilon: 0.001\n",
            "Episode 1700\tAverage reward: 10.33\tEpsilon: 0.001\n",
            "Episode 1800\tAverage reward: 10.45\tEpsilon: 0.001\n",
            "Episode 1900\tAverage reward: 10.66\tEpsilon: 0.001\n",
            "Episode 2000\tAverage reward: 10.91\tEpsilon: 0.001\n",
            "Episode 2100\tAverage reward: 11.15\tEpsilon: 0.001\n",
            "Episode 2200\tAverage reward: 11.40\tEpsilon: 0.001\n",
            "Episode 2300\tAverage reward: 11.73\tEpsilon: 0.001\n",
            "Episode 2400\tAverage reward: 12.06\tEpsilon: 0.001\n",
            "Episode 2500\tAverage reward: 12.37\tEpsilon: 0.001\n",
            "Episode 2600\tAverage reward: 12.66\tEpsilon: 0.001\n",
            "Episode 2700\tAverage reward: 12.99\tEpsilon: 0.001\n",
            "Episode 2800\tAverage reward: 13.29\tEpsilon: 0.001\n",
            "Episode 2900\tAverage reward: 13.57\tEpsilon: 0.001\n",
            "Episode 3000\tAverage reward: 13.85\tEpsilon: 0.001\n",
            "Episode 3100\tAverage reward: 14.11\tEpsilon: 0.001\n",
            "Episode 3200\tAverage reward: 14.35\tEpsilon: 0.001\n",
            "Episode 3300\tAverage reward: 14.57\tEpsilon: 0.001\n",
            "Episode 3400\tAverage reward: 14.79\tEpsilon: 0.001\n",
            "Episode 3500\tAverage reward: 14.99\tEpsilon: 0.001\n",
            "Episode 3600\tAverage reward: 15.19\tEpsilon: 0.001\n"
          ]
        },
        {
          "output_type": "display_data",
          "data": {
            "text/plain": [
              "  0%|          | 0/3600 [00:00<?, ?it/s]"
            ],
            "application/vnd.jupyter.widget-view+json": {
              "version_major": 2,
              "version_minor": 0,
              "model_id": "7acbd016e0934b49a2c2104640ec2eb3"
            }
          },
          "metadata": {}
        },
        {
          "output_type": "stream",
          "name": "stdout",
          "text": [
            "Episode 100\tAverage reward: 7.63\tEpsilon: 0.606\n",
            "Episode 200\tAverage reward: 7.11\tEpsilon: 0.367\n",
            "Episode 300\tAverage reward: 6.93\tEpsilon: 0.222\n",
            "Episode 400\tAverage reward: 6.96\tEpsilon: 0.135\n",
            "Episode 500\tAverage reward: 6.92\tEpsilon: 0.082\n",
            "Episode 600\tAverage reward: 6.84\tEpsilon: 0.049\n",
            "Episode 700\tAverage reward: 6.93\tEpsilon: 0.030\n",
            "Episode 800\tAverage reward: 7.01\tEpsilon: 0.018\n",
            "Episode 900\tAverage reward: 7.20\tEpsilon: 0.011\n",
            "Episode 1000\tAverage reward: 7.41\tEpsilon: 0.007\n",
            "Episode 1100\tAverage reward: 7.57\tEpsilon: 0.004\n",
            "Episode 1200\tAverage reward: 7.87\tEpsilon: 0.002\n",
            "Episode 1300\tAverage reward: 8.24\tEpsilon: 0.001\n",
            "Episode 1400\tAverage reward: 8.61\tEpsilon: 0.001\n",
            "Episode 1500\tAverage reward: 9.00\tEpsilon: 0.001\n",
            "Episode 1600\tAverage reward: 9.37\tEpsilon: 0.001\n",
            "Episode 1700\tAverage reward: 9.75\tEpsilon: 0.001\n",
            "Episode 1800\tAverage reward: 10.21\tEpsilon: 0.001\n",
            "Episode 1900\tAverage reward: 10.61\tEpsilon: 0.001\n",
            "Episode 2000\tAverage reward: 11.04\tEpsilon: 0.001\n",
            "Episode 2100\tAverage reward: 11.42\tEpsilon: 0.001\n",
            "Episode 2200\tAverage reward: 11.78\tEpsilon: 0.001\n",
            "Episode 2300\tAverage reward: 12.16\tEpsilon: 0.001\n",
            "Episode 2400\tAverage reward: 12.48\tEpsilon: 0.001\n",
            "Episode 2500\tAverage reward: 12.81\tEpsilon: 0.001\n",
            "Episode 2600\tAverage reward: 13.15\tEpsilon: 0.001\n",
            "Episode 2700\tAverage reward: 13.47\tEpsilon: 0.001\n",
            "Episode 2800\tAverage reward: 13.80\tEpsilon: 0.001\n",
            "Episode 2900\tAverage reward: 14.08\tEpsilon: 0.001\n",
            "Episode 3000\tAverage reward: 14.35\tEpsilon: 0.001\n",
            "Episode 3100\tAverage reward: 14.59\tEpsilon: 0.001\n",
            "Episode 3200\tAverage reward: 14.83\tEpsilon: 0.001\n",
            "Episode 3300\tAverage reward: 15.07\tEpsilon: 0.001\n",
            "Episode 3400\tAverage reward: 15.28\tEpsilon: 0.001\n",
            "Episode 3500\tAverage reward: 15.50\tEpsilon: 0.001\n",
            "Episode 3600\tAverage reward: 15.70\tEpsilon: 0.001\n"
          ]
        }
      ]
    },
    {
      "cell_type": "markdown",
      "source": [
        "### Evaluating"
      ],
      "metadata": {
        "id": "QO6v2xoqbY_y"
      }
    },
    {
      "cell_type": "code",
      "source": [
        "dqn_fastHighway.env.config['policy_frequency'] = 5\n",
        "sum_rewards = dqn_fastHighway.evaluation(video_path+\"fastHighway.mp4\", evaluate_type='state', iter_num=1, evaluate_episode_num=3400, use_saved_model=True)\n",
        "print('\\n\\nSum rewards in one EPISODE:', sum_rewards)"
      ],
      "metadata": {
        "colab": {
          "base_uri": "https://localhost:8080/"
        },
        "id": "uLxTUnk0kLPR",
        "outputId": "e6efb9cb-3e5b-4009-ca30-32e73c82324b"
      },
      "execution_count": null,
      "outputs": [
        {
          "output_type": "stream",
          "name": "stdout",
          "text": [
            "step:150\n",
            "Moviepy - Building video /content/drive/MyDrive/RL/HW/HW5/Videos/fastHighway.mp4.\n",
            "Moviepy - Writing video /content/drive/MyDrive/RL/HW/HW5/Videos/fastHighway.mp4\n",
            "\n"
          ]
        },
        {
          "output_type": "stream",
          "name": "stderr",
          "text": []
        },
        {
          "output_type": "stream",
          "name": "stdout",
          "text": [
            "Moviepy - Done !\n",
            "Moviepy - video ready /content/drive/MyDrive/RL/HW/HW5/Videos/fastHighway.mp4\n",
            "\n",
            "\n",
            "Sum rewards in one EPISODE: 119.95353097377227\n"
          ]
        }
      ]
    },
    {
      "cell_type": "code",
      "source": [
        "show_and_plot().show_video(directory=video_path, file_name='fastHighway.mp4')"
      ],
      "metadata": {
        "colab": {
          "base_uri": "https://localhost:8080/",
          "height": 186
        },
        "id": "k_s_n_i7kPVt",
        "outputId": "e3e26541-f9c5-47ee-de68-2ec1c2027009"
      },
      "execution_count": null,
      "outputs": [
        {
          "output_type": "display_data",
          "data": {
            "text/plain": [
              "<IPython.core.display.HTML object>"
            ],
            "text/html": [
              "<video alt=\"test\" autoplay \n",
              "                    loop controls style=\"height: 165px; width: 650px;\">\n",
              "                    <source src=\"data:video/mp4;base64,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\" type=\"video/mp4\" />\n",
              "                </video>"
            ]
          },
          "metadata": {}
        }
      ]
    },
    {
      "cell_type": "markdown",
      "source": [
        "## Transfer learning from merge-v0 on highway-fast-v0"
      ],
      "metadata": {
        "id": "zYcVu3v-cGog"
      }
    },
    {
      "cell_type": "code",
      "source": [
        "video_path = path_HW5 + 'Videos/'\n",
        "model_path_source = path_HW5 + 'Models/1_Models_merge/'\n",
        "model_path_destination = path_HW5 + 'Models/3_Models_merge_transfer_learning_to_fastHighway/'\n",
        "data_path_3 = path_HW5 + 'Data_Average_Reward/3_Data_merge_transfer_learning_to_fastHighway/'\n",
        "env_name_source = 'merge-v0'\n",
        "env_name_destination = 'highway-fast-v0'\n",
        "env = gym.make(env_name_destination, render_mode='rgb_array')\n",
        "dqn_fastHighway_transferred = DQN(env, env_name_destination, model_path_destination, data_path_3, network_type='linear',\n",
        "                                          env_name_source=env_name_source, model_path_source=model_path_source, transfer_episode=3600)"
      ],
      "metadata": {
        "id": "z7OYHNFOcGog"
      },
      "execution_count": null,
      "outputs": []
    },
    {
      "cell_type": "markdown",
      "source": [
        "### Training"
      ],
      "metadata": {
        "id": "6O-HIYXxcGoh"
      }
    },
    {
      "cell_type": "code",
      "source": [
        "df_reward_dqn_fastHighway_transferred = dqn_fastHighway_transferred.train_with_state(n_iteration=[1, 2, 3, 4, 5],\n",
        "                                                                                                      n_training_episodes=3600, max_step=10000)"
      ],
      "metadata": {
        "id": "3LpnyUbkcGoh",
        "colab": {
          "base_uri": "https://localhost:8080/",
          "height": 1000,
          "referenced_widgets": [
            "58065855234a44c08c87b86ef06c2bbb",
            "5e1ec0198b04476783b545b559e9061a",
            "057ee18413d144f8aa33c9d938f2067c",
            "1f9718f3d733430c817f3a03fa268da6",
            "a4a7210ae79a414fb55a11f908549524",
            "91cc7e406cd7404eac0a189f0ce78ddd",
            "8b054bc5e32a42519c9387af7f765186",
            "0e9590a484c14c77a49d56d8cfe9147d",
            "4fff8e07796642cb8484511691efb7c5",
            "6a9e843a309e4f7c8241f906becec472",
            "abc4658ec8e44ce5aad06bae4c805d7d",
            "c6cd0aad03b246da9f0c05cd4d8fe4a4",
            "7fb3b423511f4ee184d4225794afebc2",
            "c54ea85028fb4249a08c8d7d78ab4132",
            "df2c59031400460386fcce1f34daec8d",
            "52a210f9401c45dc813c84e1bd6c12e9",
            "7e52f9fab74b4d859b84021e14f44395",
            "1aef49be9fc44326a96b50c07fc30ad0",
            "bf7d255cecc24ac0aa68d8cbcdd63207",
            "e1530aac2d8847cea9d7bac432bc720d",
            "92c79403a26a46c7b7f98633281abe6e",
            "a79afa51c197498492f1be1416c9b199",
            "413d3a45ae5849f0b7813052aa264f61",
            "e50678cb91124c5e9eaa413c24b65077",
            "5215a64977024af2a4badd150d05fd9c",
            "93f2925f04254937a409eef36408a65a",
            "a9fd7af11f18496da60a3454d37c2d82",
            "509a6b4f2dda4795a87b36f947095618",
            "f55032d5859d4e939b8070ddbc6b4a0f",
            "5fe45b0e71114a51a3aa3948fafa47b4",
            "43936b2f90074dd7ba230a6a37420095",
            "786bbd8242164a0d9fc3c5dd4a45685b",
            "5994f06a79204c1d9c000e487eefcee7",
            "144c6446c86e4ad19f55dbb1656b8cd4",
            "7ee929e3a0414b94928e1f69eed79f28",
            "f2a1fda8bbcd4deaa39d6d70166e09e3",
            "6d4d9799b78c4ccfbe3d882050d2bd88",
            "2814e18a5052494eb8aec539e69ec2ee",
            "5f451f30b90f4661b297437173b7a52a",
            "6107a4786ca64e4a88f80ed6f778fcec",
            "4b33d36b57da40108a36860b5bb9f420",
            "0d09bb4c724c4870ab876d784deba209",
            "689b5ab6046746f89e4b2df62d4e8a15",
            "1e963023f2b04076acbfb9e3b2ce997f",
            "8f9361f08e52433dbe4e428fa66b0f3c",
            "6cb3f228fd55458f93441f3336c2ebc4",
            "4ccc6386750540048f8fb3e76f3f08f7",
            "2a6cc8b80cd745d789c52424e01ed8f5",
            "d8f968f39c9e413093c1330077c3ac9c",
            "0ae72bbc2551452dba8bc677ab492c19",
            "11ceee1cf55447b59eaa10c84730b1c0",
            "b096c60dc8d342babbed92cf0283aaeb",
            "befc9082336e4a58be69289a2da6fd63",
            "64535cad63f54e2ab05c80fa40bbc6d1",
            "4e727e28c3a644af841369ed1522c142",
            "1d0ec55a805547fa8829f8595776efbf",
            "d6c629b01e5240abb8a13078ace32fae",
            "854cd1c6400945bda943584e6668701b",
            "201dc0d55f9c47e89604474cc6aae7b3",
            "7b266745966648029340a5a0520b8dda",
            "15655a5703b1448e89815059dc2cf585",
            "c02d27c0f49b41c59809c732b53829d2",
            "ac692e39fb5e4fb38b4a4919ed2644dc",
            "05cfc6726ae84110ba2a54131b5737a0",
            "cec9261c5ff840929dce147e8082709a",
            "496759d1814c46d885084fd50fa0e738"
          ]
        },
        "outputId": "d5282b83-fea8-429f-fcb8-cdd3768150e1"
      },
      "execution_count": null,
      "outputs": [
        {
          "output_type": "stream",
          "name": "stdout",
          "text": [
            "Starting to train agent with state ...\n"
          ]
        },
        {
          "output_type": "display_data",
          "data": {
            "text/plain": [
              "  0%|          | 0/5 [00:00<?, ?it/s]"
            ],
            "application/vnd.jupyter.widget-view+json": {
              "version_major": 2,
              "version_minor": 0,
              "model_id": "58065855234a44c08c87b86ef06c2bbb"
            }
          },
          "metadata": {}
        },
        {
          "output_type": "display_data",
          "data": {
            "text/plain": [
              "  0%|          | 0/3600 [00:00<?, ?it/s]"
            ],
            "application/vnd.jupyter.widget-view+json": {
              "version_major": 2,
              "version_minor": 0,
              "model_id": "c6cd0aad03b246da9f0c05cd4d8fe4a4"
            }
          },
          "metadata": {}
        },
        {
          "output_type": "stream",
          "name": "stdout",
          "text": [
            "Episode 100\tAverage reward: 11.15\tEpsilon: 0.606\n",
            "Episode 200\tAverage reward: 13.31\tEpsilon: 0.367\n",
            "Episode 300\tAverage reward: 14.30\tEpsilon: 0.222\n",
            "Episode 400\tAverage reward: 15.48\tEpsilon: 0.135\n",
            "Episode 500\tAverage reward: 16.29\tEpsilon: 0.082\n",
            "Episode 600\tAverage reward: 16.85\tEpsilon: 0.049\n",
            "Episode 700\tAverage reward: 17.27\tEpsilon: 0.030\n",
            "Episode 800\tAverage reward: 17.62\tEpsilon: 0.018\n",
            "Episode 900\tAverage reward: 17.88\tEpsilon: 0.011\n",
            "Episode 1000\tAverage reward: 18.10\tEpsilon: 0.007\n",
            "Episode 1100\tAverage reward: 18.36\tEpsilon: 0.004\n",
            "Episode 1200\tAverage reward: 18.59\tEpsilon: 0.002\n",
            "Episode 1300\tAverage reward: 18.74\tEpsilon: 0.001\n",
            "Episode 1400\tAverage reward: 18.87\tEpsilon: 0.001\n",
            "Episode 1500\tAverage reward: 18.93\tEpsilon: 0.001\n",
            "Episode 1600\tAverage reward: 18.98\tEpsilon: 0.001\n",
            "Episode 1700\tAverage reward: 19.10\tEpsilon: 0.001\n",
            "Episode 1800\tAverage reward: 19.15\tEpsilon: 0.001\n",
            "Episode 1900\tAverage reward: 19.20\tEpsilon: 0.001\n",
            "Episode 2000\tAverage reward: 19.25\tEpsilon: 0.001\n",
            "Episode 2100\tAverage reward: 19.35\tEpsilon: 0.001\n",
            "Episode 2200\tAverage reward: 19.41\tEpsilon: 0.001\n",
            "Episode 2300\tAverage reward: 19.44\tEpsilon: 0.001\n",
            "Episode 2400\tAverage reward: 19.50\tEpsilon: 0.001\n",
            "Episode 2500\tAverage reward: 19.53\tEpsilon: 0.001\n",
            "Episode 2600\tAverage reward: 19.56\tEpsilon: 0.001\n",
            "Episode 2700\tAverage reward: 19.59\tEpsilon: 0.001\n",
            "Episode 2800\tAverage reward: 19.62\tEpsilon: 0.001\n",
            "Episode 2900\tAverage reward: 19.66\tEpsilon: 0.001\n",
            "Episode 3000\tAverage reward: 19.70\tEpsilon: 0.001\n",
            "Episode 3100\tAverage reward: 19.74\tEpsilon: 0.001\n",
            "Episode 3200\tAverage reward: 19.77\tEpsilon: 0.001\n",
            "Episode 3300\tAverage reward: 19.78\tEpsilon: 0.001\n",
            "Episode 3400\tAverage reward: 19.83\tEpsilon: 0.001\n",
            "Episode 3500\tAverage reward: 19.86\tEpsilon: 0.001\n",
            "Episode 3600\tAverage reward: 19.90\tEpsilon: 0.001\n"
          ]
        },
        {
          "output_type": "display_data",
          "data": {
            "text/plain": [
              "  0%|          | 0/3600 [00:00<?, ?it/s]"
            ],
            "application/vnd.jupyter.widget-view+json": {
              "version_major": 2,
              "version_minor": 0,
              "model_id": "413d3a45ae5849f0b7813052aa264f61"
            }
          },
          "metadata": {}
        },
        {
          "output_type": "stream",
          "name": "stdout",
          "text": [
            "Episode 100\tAverage reward: 12.15\tEpsilon: 0.606\n",
            "Episode 200\tAverage reward: 14.52\tEpsilon: 0.367\n",
            "Episode 300\tAverage reward: 15.39\tEpsilon: 0.222\n",
            "Episode 400\tAverage reward: 16.46\tEpsilon: 0.135\n",
            "Episode 500\tAverage reward: 17.22\tEpsilon: 0.082\n",
            "Episode 600\tAverage reward: 17.79\tEpsilon: 0.049\n",
            "Episode 700\tAverage reward: 18.28\tEpsilon: 0.030\n",
            "Episode 800\tAverage reward: 18.63\tEpsilon: 0.018\n",
            "Episode 900\tAverage reward: 18.84\tEpsilon: 0.011\n",
            "Episode 1000\tAverage reward: 19.01\tEpsilon: 0.007\n",
            "Episode 1100\tAverage reward: 19.17\tEpsilon: 0.004\n",
            "Episode 1200\tAverage reward: 19.26\tEpsilon: 0.002\n",
            "Episode 1300\tAverage reward: 19.32\tEpsilon: 0.001\n",
            "Episode 1400\tAverage reward: 19.39\tEpsilon: 0.001\n",
            "Episode 1500\tAverage reward: 19.49\tEpsilon: 0.001\n",
            "Episode 1600\tAverage reward: 19.57\tEpsilon: 0.001\n",
            "Episode 1700\tAverage reward: 19.66\tEpsilon: 0.001\n",
            "Episode 1800\tAverage reward: 19.68\tEpsilon: 0.001\n",
            "Episode 1900\tAverage reward: 19.74\tEpsilon: 0.001\n",
            "Episode 2000\tAverage reward: 19.81\tEpsilon: 0.001\n",
            "Episode 2100\tAverage reward: 19.89\tEpsilon: 0.001\n",
            "Episode 2200\tAverage reward: 19.94\tEpsilon: 0.001\n",
            "Episode 2300\tAverage reward: 19.99\tEpsilon: 0.001\n",
            "Episode 2400\tAverage reward: 20.04\tEpsilon: 0.001\n",
            "Episode 2500\tAverage reward: 20.10\tEpsilon: 0.001\n",
            "Episode 2600\tAverage reward: 20.15\tEpsilon: 0.001\n",
            "Episode 2700\tAverage reward: 20.17\tEpsilon: 0.001\n",
            "Episode 2800\tAverage reward: 20.22\tEpsilon: 0.001\n",
            "Episode 2900\tAverage reward: 20.26\tEpsilon: 0.001\n",
            "Episode 3000\tAverage reward: 20.30\tEpsilon: 0.001\n",
            "Episode 3100\tAverage reward: 20.34\tEpsilon: 0.001\n",
            "Episode 3200\tAverage reward: 20.39\tEpsilon: 0.001\n",
            "Episode 3300\tAverage reward: 20.40\tEpsilon: 0.001\n",
            "Episode 3400\tAverage reward: 20.44\tEpsilon: 0.001\n",
            "Episode 3500\tAverage reward: 20.47\tEpsilon: 0.001\n",
            "Episode 3600\tAverage reward: 20.50\tEpsilon: 0.001\n"
          ]
        },
        {
          "output_type": "display_data",
          "data": {
            "text/plain": [
              "  0%|          | 0/3600 [00:00<?, ?it/s]"
            ],
            "application/vnd.jupyter.widget-view+json": {
              "version_major": 2,
              "version_minor": 0,
              "model_id": "144c6446c86e4ad19f55dbb1656b8cd4"
            }
          },
          "metadata": {}
        },
        {
          "output_type": "stream",
          "name": "stdout",
          "text": [
            "Episode 100\tAverage reward: 10.03\tEpsilon: 0.606\n",
            "Episode 200\tAverage reward: 12.64\tEpsilon: 0.367\n",
            "Episode 300\tAverage reward: 14.82\tEpsilon: 0.222\n",
            "Episode 400\tAverage reward: 16.07\tEpsilon: 0.135\n",
            "Episode 500\tAverage reward: 17.07\tEpsilon: 0.082\n",
            "Episode 600\tAverage reward: 17.67\tEpsilon: 0.049\n",
            "Episode 700\tAverage reward: 18.03\tEpsilon: 0.030\n",
            "Episode 800\tAverage reward: 18.34\tEpsilon: 0.018\n",
            "Episode 900\tAverage reward: 18.57\tEpsilon: 0.011\n",
            "Episode 1000\tAverage reward: 18.83\tEpsilon: 0.007\n",
            "Episode 1100\tAverage reward: 18.99\tEpsilon: 0.004\n",
            "Episode 1200\tAverage reward: 19.04\tEpsilon: 0.002\n",
            "Episode 1300\tAverage reward: 19.11\tEpsilon: 0.001\n",
            "Episode 1400\tAverage reward: 19.14\tEpsilon: 0.001\n",
            "Episode 1500\tAverage reward: 19.05\tEpsilon: 0.001\n",
            "Episode 1600\tAverage reward: 19.09\tEpsilon: 0.001\n",
            "Episode 1700\tAverage reward: 19.17\tEpsilon: 0.001\n",
            "Episode 1800\tAverage reward: 19.21\tEpsilon: 0.001\n",
            "Episode 1900\tAverage reward: 19.32\tEpsilon: 0.001\n",
            "Episode 2000\tAverage reward: 19.31\tEpsilon: 0.001\n",
            "Episode 2100\tAverage reward: 19.34\tEpsilon: 0.001\n",
            "Episode 2200\tAverage reward: 19.39\tEpsilon: 0.001\n",
            "Episode 2300\tAverage reward: 19.48\tEpsilon: 0.001\n",
            "Episode 2400\tAverage reward: 19.49\tEpsilon: 0.001\n",
            "Episode 2500\tAverage reward: 19.53\tEpsilon: 0.001\n",
            "Episode 2600\tAverage reward: 19.59\tEpsilon: 0.001\n",
            "Episode 2700\tAverage reward: 19.64\tEpsilon: 0.001\n",
            "Episode 2800\tAverage reward: 19.68\tEpsilon: 0.001\n",
            "Episode 2900\tAverage reward: 19.73\tEpsilon: 0.001\n",
            "Episode 3000\tAverage reward: 19.79\tEpsilon: 0.001\n",
            "Episode 3100\tAverage reward: 19.82\tEpsilon: 0.001\n",
            "Episode 3200\tAverage reward: 19.88\tEpsilon: 0.001\n",
            "Episode 3300\tAverage reward: 19.90\tEpsilon: 0.001\n",
            "Episode 3400\tAverage reward: 19.95\tEpsilon: 0.001\n",
            "Episode 3500\tAverage reward: 20.00\tEpsilon: 0.001\n",
            "Episode 3600\tAverage reward: 20.04\tEpsilon: 0.001\n"
          ]
        },
        {
          "output_type": "display_data",
          "data": {
            "text/plain": [
              "  0%|          | 0/3600 [00:00<?, ?it/s]"
            ],
            "application/vnd.jupyter.widget-view+json": {
              "version_major": 2,
              "version_minor": 0,
              "model_id": "8f9361f08e52433dbe4e428fa66b0f3c"
            }
          },
          "metadata": {}
        },
        {
          "output_type": "stream",
          "name": "stdout",
          "text": [
            "Episode 100\tAverage reward: 9.94\tEpsilon: 0.606\n",
            "Episode 200\tAverage reward: 12.51\tEpsilon: 0.367\n",
            "Episode 300\tAverage reward: 14.65\tEpsilon: 0.222\n",
            "Episode 400\tAverage reward: 15.73\tEpsilon: 0.135\n",
            "Episode 500\tAverage reward: 16.55\tEpsilon: 0.082\n",
            "Episode 600\tAverage reward: 17.05\tEpsilon: 0.049\n",
            "Episode 700\tAverage reward: 17.54\tEpsilon: 0.030\n",
            "Episode 800\tAverage reward: 17.89\tEpsilon: 0.018\n",
            "Episode 900\tAverage reward: 18.18\tEpsilon: 0.011\n",
            "Episode 1000\tAverage reward: 18.37\tEpsilon: 0.007\n",
            "Episode 1100\tAverage reward: 18.61\tEpsilon: 0.004\n",
            "Episode 1200\tAverage reward: 18.79\tEpsilon: 0.002\n",
            "Episode 1300\tAverage reward: 18.93\tEpsilon: 0.001\n",
            "Episode 1400\tAverage reward: 19.04\tEpsilon: 0.001\n",
            "Episode 1500\tAverage reward: 19.14\tEpsilon: 0.001\n",
            "Episode 1600\tAverage reward: 19.20\tEpsilon: 0.001\n",
            "Episode 1700\tAverage reward: 19.31\tEpsilon: 0.001\n",
            "Episode 1800\tAverage reward: 19.36\tEpsilon: 0.001\n",
            "Episode 1900\tAverage reward: 19.45\tEpsilon: 0.001\n",
            "Episode 2000\tAverage reward: 19.49\tEpsilon: 0.001\n",
            "Episode 2100\tAverage reward: 19.51\tEpsilon: 0.001\n",
            "Episode 2200\tAverage reward: 19.56\tEpsilon: 0.001\n",
            "Episode 2300\tAverage reward: 19.61\tEpsilon: 0.001\n",
            "Episode 2400\tAverage reward: 19.69\tEpsilon: 0.001\n",
            "Episode 2500\tAverage reward: 19.79\tEpsilon: 0.001\n",
            "Episode 2600\tAverage reward: 19.85\tEpsilon: 0.001\n",
            "Episode 2700\tAverage reward: 19.90\tEpsilon: 0.001\n",
            "Episode 2800\tAverage reward: 19.96\tEpsilon: 0.001\n",
            "Episode 2900\tAverage reward: 20.00\tEpsilon: 0.001\n",
            "Episode 3000\tAverage reward: 20.05\tEpsilon: 0.001\n",
            "Episode 3100\tAverage reward: 20.09\tEpsilon: 0.001\n",
            "Episode 3200\tAverage reward: 20.13\tEpsilon: 0.001\n",
            "Episode 3300\tAverage reward: 20.18\tEpsilon: 0.001\n",
            "Episode 3400\tAverage reward: 20.22\tEpsilon: 0.001\n",
            "Episode 3500\tAverage reward: 20.26\tEpsilon: 0.001\n",
            "Episode 3600\tAverage reward: 20.29\tEpsilon: 0.001\n"
          ]
        },
        {
          "output_type": "display_data",
          "data": {
            "text/plain": [
              "  0%|          | 0/3600 [00:00<?, ?it/s]"
            ],
            "application/vnd.jupyter.widget-view+json": {
              "version_major": 2,
              "version_minor": 0,
              "model_id": "1d0ec55a805547fa8829f8595776efbf"
            }
          },
          "metadata": {}
        },
        {
          "output_type": "stream",
          "name": "stdout",
          "text": [
            "Episode 100\tAverage reward: 9.37\tEpsilon: 0.606\n",
            "Episode 200\tAverage reward: 11.11\tEpsilon: 0.367\n",
            "Episode 300\tAverage reward: 12.83\tEpsilon: 0.222\n",
            "Episode 400\tAverage reward: 13.98\tEpsilon: 0.135\n",
            "Episode 500\tAverage reward: 14.91\tEpsilon: 0.082\n",
            "Episode 600\tAverage reward: 15.50\tEpsilon: 0.049\n",
            "Episode 700\tAverage reward: 16.05\tEpsilon: 0.030\n",
            "Episode 800\tAverage reward: 16.48\tEpsilon: 0.018\n",
            "Episode 900\tAverage reward: 16.89\tEpsilon: 0.011\n",
            "Episode 1000\tAverage reward: 17.20\tEpsilon: 0.007\n",
            "Episode 1100\tAverage reward: 17.50\tEpsilon: 0.004\n",
            "Episode 1200\tAverage reward: 17.70\tEpsilon: 0.002\n",
            "Episode 1300\tAverage reward: 17.87\tEpsilon: 0.001\n",
            "Episode 1400\tAverage reward: 18.06\tEpsilon: 0.001\n",
            "Episode 1500\tAverage reward: 18.22\tEpsilon: 0.001\n",
            "Episode 1600\tAverage reward: 18.42\tEpsilon: 0.001\n",
            "Episode 1700\tAverage reward: 18.59\tEpsilon: 0.001\n",
            "Episode 1800\tAverage reward: 18.73\tEpsilon: 0.001\n",
            "Episode 1900\tAverage reward: 18.87\tEpsilon: 0.001\n",
            "Episode 2000\tAverage reward: 18.99\tEpsilon: 0.001\n",
            "Episode 2100\tAverage reward: 19.07\tEpsilon: 0.001\n",
            "Episode 2200\tAverage reward: 19.18\tEpsilon: 0.001\n",
            "Episode 2300\tAverage reward: 19.26\tEpsilon: 0.001\n",
            "Episode 2400\tAverage reward: 19.35\tEpsilon: 0.001\n",
            "Episode 2500\tAverage reward: 19.44\tEpsilon: 0.001\n",
            "Episode 2600\tAverage reward: 19.52\tEpsilon: 0.001\n",
            "Episode 2700\tAverage reward: 19.58\tEpsilon: 0.001\n",
            "Episode 2800\tAverage reward: 19.65\tEpsilon: 0.001\n",
            "Episode 2900\tAverage reward: 19.72\tEpsilon: 0.001\n",
            "Episode 3000\tAverage reward: 19.79\tEpsilon: 0.001\n",
            "Episode 3100\tAverage reward: 19.85\tEpsilon: 0.001\n",
            "Episode 3200\tAverage reward: 19.90\tEpsilon: 0.001\n",
            "Episode 3300\tAverage reward: 19.96\tEpsilon: 0.001\n",
            "Episode 3400\tAverage reward: 20.01\tEpsilon: 0.001\n",
            "Episode 3500\tAverage reward: 20.06\tEpsilon: 0.001\n",
            "Episode 3600\tAverage reward: 20.10\tEpsilon: 0.001\n"
          ]
        }
      ]
    },
    {
      "cell_type": "markdown",
      "source": [
        "### Evaluating"
      ],
      "metadata": {
        "id": "wWYuZxNscGoh"
      }
    },
    {
      "cell_type": "code",
      "source": [
        "dqn_fastHighway_transferred.env.config['policy_frequency'] = 5\n",
        "sum_rewards = dqn_fastHighway_transferred.evaluation(video_path+\"fastHighway_transferred_from_merge.mp4\", evaluate_type='state',\n",
        "                                                                                    iter_num=4, evaluate_episode_num=3600, use_saved_model=True)\n",
        "print('\\n\\nSum rewards in one EPISODE:', sum_rewards)"
      ],
      "metadata": {
        "colab": {
          "base_uri": "https://localhost:8080/"
        },
        "id": "jCTxcz50j74J",
        "outputId": "00317874-6776-4dbb-9add-ac5332b37dfb"
      },
      "execution_count": null,
      "outputs": [
        {
          "output_type": "stream",
          "name": "stdout",
          "text": [
            "step:150\n",
            "Moviepy - Building video /content/drive/MyDrive/RL/HW/HW5/Videos/fastHighway_transferred_from_merge.mp4.\n",
            "Moviepy - Writing video /content/drive/MyDrive/RL/HW/HW5/Videos/fastHighway_transferred_from_merge.mp4\n",
            "\n"
          ]
        },
        {
          "output_type": "stream",
          "name": "stderr",
          "text": []
        },
        {
          "output_type": "stream",
          "name": "stdout",
          "text": [
            "Moviepy - Done !\n",
            "Moviepy - video ready /content/drive/MyDrive/RL/HW/HW5/Videos/fastHighway_transferred_from_merge.mp4\n",
            "\n",
            "\n",
            "Sum rewards in one EPISODE: 121.6142629253391\n"
          ]
        }
      ]
    },
    {
      "cell_type": "code",
      "source": [
        "show_and_plot().show_video(directory=video_path, file_name=\"fastHighway_transferred_from_merge.mp4\")"
      ],
      "metadata": {
        "colab": {
          "base_uri": "https://localhost:8080/",
          "height": 186
        },
        "id": "Av_RN8RUmaMG",
        "outputId": "b1ccf604-0170-42ae-d264-ae199753eb19"
      },
      "execution_count": null,
      "outputs": [
        {
          "output_type": "display_data",
          "data": {
            "text/plain": [
              "<IPython.core.display.HTML object>"
            ],
            "text/html": [
              "<video alt=\"test\" autoplay \n",
              "                    loop controls style=\"height: 165px; width: 650px;\">\n",
              "                    <source src=\"data:video/mp4;base64,AAAAIGZ0eXBpc29tAAACAGlzb21pc28yYXZjMW1wNDEAAAAIZnJlZQAAi7VtZGF0AAACrgYF//+q3EXpvebZSLeWLNgg2SPu73gyNjQgLSBjb3JlIDE1OSByMjk5MSAxNzcxYjU1IC0gSC4yNjQvTVBFRy00IEFWQyBjb2RlYyAtIENvcHlsZWZ0IDIwMDMtMjAxOSAtIGh0dHA6Ly93d3cudmlkZW9sYW4ub3JnL3gyNjQuaHRtbCAtIG9wdGlvbnM6IGNhYmFjPTEgcmVmPTMgZGVibG9jaz0xOjA6MCBhbmFseXNlPTB4MzoweDExMyBtZT1oZXggc3VibWU9NyBwc3k9MSBwc3lfcmQ9MS4wMDowLjAwIG1peGVkX3JlZj0xIG1lX3JhbmdlPTE2IGNocm9tYV9tZT0xIHRyZWxsaXM9MSA4eDhkY3Q9MSBjcW09MCBkZWFkem9uZT0yMSwxMSBmYXN0X3Bza2lwPTEgY2hyb21hX3FwX29mZnNldD0tMiB0aHJlYWRzPTMgbG9va2FoZWFkX3RocmVhZHM9MSBzbGljZWRfdGhyZWFkcz0wIG5yPTAgZGVjaW1hdGU9MSBpbnRlcmxhY2VkPTAgYmx1cmF5X2NvbXBhdD0wIGNvbnN0cmFpbmVkX2ludHJhPTAgYmZyYW1lcz0zIGJfcHlyYW1pZD0yIGJfYWRhcHQ9MSBiX2JpYXM9MCBkaXJlY3Q9MSB3ZWlnaHRiPTEgb3Blbl9nb3A9MCB3ZWlnaHRwPTIga2V5aW50PTI1MCBrZXlpbnRfbWluPTI1IHNjZW5lY3V0PTQwIGludHJhX3JlZnJlc2g9MCByY19sb29rYWhlYWQ9NDAgcmM9Y3JmIG1idHJlZT0xIGNyZj0yMy4wIHFjb21wPTAuNjAgcXBtaW49MCBxcG1heD02OSBxcHN0ZXA9NCBpcF9yYXRpbz0xLjQwIGFxPTE6MS4wMACAAAAGBGWIhAAn//71sXwKVuIigzoMi7hlyTJrrYqDgV25YAAAAwAAAwAACM7NFuHBGtXgMAAADEXrBbByADKOGukyCMdtnXvKV3WeADkAN4obf6WKP1sXKBBnK2CsZj9ch+7S0MTIvqLhwa/U/ems4C4LMMIlTxFaSGWsCr/70ltlLw/dmb6zNy5zeuZ1P0XTsCzsZmjHcynyfBSPnO2+2M8Vjpzc7PDHWkg7MwJKdTs74jH35YbYainllUTjSSkr8NeAr3cm1bHf3NsWR6EP8UeADRWLo6uaieMg95oPpUtywKYl6OsXqjIo6JbFXiOiaPIAv55cIYbDbTjOz48+O9td1sRngiGmLdDBHAsQLJ1KtIqoafDuQxJRioCXwAksHEP4pDupPrizRxH5uS/kamh2qI1yVVqYrO4rye8+UsGzhXEBpjKUuKn5qGqqN5zrbk8pa8z6I/hIfmwpwr4JIO8qfQukRX+uADk2BORx81ymBNHvafqWeKrpS0qEANLcyQhWlBWpvmzoAA0BPBCqkTzTYE25MjR1J8L8c/kBGFPL7pKFvv7A/LVGHSD3Nelkj9ypIQBdCjbqNYRveOhKsc64yudQBRX3bysSQO1l82PdUzSXteShLZTk4LEIrl2XJkLhuqi4JMonqP7ynrFpVgNANg4BHfSyojGeeh/ytn66dq0Nt4NumxPGNtv6NjisSsamm/xTk4HV+9uYJ7Vf8KZRI4Kc61aWfdGVRGiECzfaw8ftW1DLbUIjFSjNDB3n1R6XJ0Gc4pc3yIK17yH1bhKuNOSHSmejCoMoWl/QH38IvvHfWw2aOs5IdKxSwLh6i9kpu+fH6K5Wmk8xpo4BVxpyQ6VB1ariJhN/QH38IyknIAcNoUaNRSwzz+kAtnVfj2tNuPVRqw6KJXvs+/tvPL5rWx2TSlAKNnRx9L8kDk//ixAPcCJPsz6uXKrydWEcCD6gAllf63+VBZh8oFLGST66WbaTvdup72n8ngJNlFNlyv8rRpVer1G/GZE23+kh13LInvddCp6cRolQoYJpmkldkivc8jNWNnl/6VpaHWLDBeTzibNUKYeisamaT9cE3xgokRaghBENhG/bCH+9GA2okj8AFmNG4sxX82Dy5Qt5NhgrciykYs7Fdgp04VPkLUqQoV8vnQR9etArDpQ+FtWuk0OZplG4e+ONKUL/hqH7XIsWsyl+dKD6qd5Dhb/FOfUNjDhmBvEx1Nya3lBrz9ge1y/qyZQJzAKnAdvMedsFPZsL0m6oI+dBgia8sjbyaNUFDfWkoFEpo2j6olIF1uui8NWuSsw97rypwBtnRxds10hdiNJL+QsCvtWe/yZtdGkD8SKYztoN/kQiQ0I20kMYm4G61D+8ENsPpACpMnC5bA+SHK1QGRQaVbeJDJ+26lQGAyC6ocTo8w/8FH3j68wX9TQRnn4zVxtPw+oIFX1+51D7W9PF8CqskGlDn2oNBVmgvKkcLk7NJCS5JhhtfhWHqCbRF9GfhyR1hZYfRUzyjUguSLgyFdhbSGhMpuQ/sAOazLpaeGLp81AWcteQeFT+G3wvtZxzttid5AW1eppKamTD3cE7je9uRWTUFgLFRAXEdaAX+6I6MrTtPAiCHHHZWncv5FFH+g11/iO+Ut2aU52pmvPoYhDD+4hCk2XQ+fn/VSjIr7Cs77JMNYluVifJMmmpUB2P1awKus5Ys/3w5RAcA1WRnYOFT+xStOQCHl9Nxqy6WlUJ3O5+7kxtPRZP2RNHOw1e2tcC6MwoscJF/K6XxcWjZFX307kAKlv+C/poq37+TSNLbddCTwRS7VYP7Yap5prFArurRmanS1eL/9StOH2DMkNj+FK++HuXpgs/ACYYaruqVtTYPNi6e/tP9F9AZDIy3ubu7AUKbaeExkoBGfeyrmq2cl+xZJ5U7HQ2QdAZqKHA0csoMdApQQdKwRTH/0gKoWLakF8xRnbRye71wneeFtOME2Pb2fClzpm3FeWTmIHuVpQ6OulYXLxKUXfeVjVJhvFfRzDXk4Mc70aAAjaU3Ixk0eNNbQrDnD3MAAEHDdkAAAFoQZoibEK//jhABxlMNhnAeh8AmeYwfZQqtnIr/FYYkzP8QnMRh1YJhuCmW9m9bLZvtK0zxOW4tfRSLHbXweP/4qV0woynB7A7f7JuNDVayGRm3fIa7BczpAOjBGR8Lk6FHoD3tPAPbo5Ky8J2+oFK5iXnZkIdlgqSVsEcu08CTEkEU1Vv1G7pmRODMLcIBlPOTUAQgpmRaIUSAYQcqty2hb/OeKBxur/HE/tXnUIyMyzmkQ+MHI+1tbDprMA/L/l4Ti8IkR9qwYK0hcehcPzhF6z+8iCN46ZMyNn8iAy29uf/BQivK7P57X3+fjAgUP9LlxZGj7y5rCst835Gbzgv59IhbJXxKpbIkWv9dYG0BrmyW5sae2sfNlxyoh6US2m3+qgD6koqwlOD2BFFvRFNa5DDdn6HRVlu+SwmiVxQBzUwp9whD/i5twIb9DCAod6eBAURWa6Nl7nurpZYrDcO5vRDmWHSyDPgAAAArQGeQXkJ/wB5dkgvCzseLyOznbaN6j1fv+RLfi5C+kNghS86FdfWoHml39A1JXDAGSR01FmiFIE/nZHjgmKUxA6l48fqyywnSD6otWKsvFoBj2xBgYbu5TxEomYAcatO5grEAabd8a8OjdZLq9i32G9smvDLSGy1q86bYP0FuI2g1jU3ubsii23aIwee2Se7npgCKZha+oy9pf9+KAlVSJ/muDMTiEDm4WjlABuxAAABWUGaRjwhkymEK//+OEAPyhQwIePfNK5UVU6buL+1dIJT4/2iab2n2niEqlSpVs2sJFSQcnI3Ge67ySGzqOZykp6GkpDL8C1UVNs2uS0gpzWST2+km7iY6QVdKA9B3cdORWay3NcKDeqU7jcCD5Take1DaV8V4bFVR0tU1g8F2XLwj8hEnpm35ncSH8p51XqddEx9sbYnSjGV4TBsDQcGcd3M3H5f3MyoNGYxR/t19kvFHWCs0DduPLKvBp3XfOkiWTbidasspJcw2sWXH03smdWauUBpdje00bl9t4PCT6TC2UH8Md2WrEb/bKM1uFuIvbZTg6/94LXJR+dQ6C9HLw+a3rvcr3ZZ8XBGm5ZbZi7aS2CXeoPJxU/FDAnlGF0bWy85XZdMzfSfG12dIkLLqNSVb07AJNyXg+wcyaXBqxW1cPix9yeEn8WM07n/G3FlYr6wurNAi/qqUAAAAMRBnmRqU8K/AGHd1XvXW/Dup036jRJPVAkzHfo9MkZ9jGRvFT3krVpJgHpeoqBrKbSCzH4X3ylTLr1poEc5RGz5/NOnDSNxzJ/82gIieDLwgrAB9keLrz4caVFdLysa2wUOcOytnZpU7t7ES2w2vEoohJ1PxYn14suwoFLAro8Epl9eiojimTPKjY19zhUqO8CACLpHnmoowAdD9o5cZvw0OgOZvyZATzot/rDTUwrRbjCU18lfp7JGFxqc1tDN0oe6ZAIfAAAAoQGeg3RCfwB8Zby0NlmmRP/0dsHoU3ebD3SkTAdcL3QCt7GKUqkx+g3N34i9d+i9niJ74UOOiIALpehayfMkCmaT4t3LFsar/soZpcjg4psaPwdLuRJk2Q3v5XPHUVQbkhU2svWoqWkcRtMWWxyDMbMNaVQaR1cebY7G23ZJ1Qx6w/WRdPt1ii3gy6Y0EUag1MaVkEZQrlimYm3pnyXwgKmBAAAAkgGehWpCfwB8WYzh3lbpWxyFrYjsoWNPSu1MzxssyoBjwWLN19b7zDe92oAA1aACWh3JXxcD4j2p2JI0VvT5Klx0UGFZPnBeIBC7L4Pm+MGEUhwosEiiN3pmBMHFONf+HyU3rXhOeAQFSlhmtunOeeRrSL7txVYJFMniAJmrQeEi/63Bh2+akkgsWqxRhrV5QAzJAAAA8kGaikmoQWiZTAhf//6MsAQgHLNaBB7BqB/REk4H7XWHEdaqWmkFQoTyeV8XZC0mbOD01w1nZ+dr3MVNJMA1Jj+tDcCIiqRMz8WpGIigLlrL60r/2nq896ZdorzP1bJAUzfXQGhGeiKfFSO0Hc9gsdtra/dc2SdbHGamaRrrrpbUeZ/KH3BYTRoUg1cZI9XLuTC2veWA9qfoSTIpia6u4h/n6iB6Ip68+sKXFVDrvMcjEYKxCrnLsHDZTEzza51KiO515W5UjqjCKHchxEvap6R9ysfQuc1J7B3NkluQG+Iiy2aYjn5u7WsRrEIzxiDeEm+dAAAAk0GeqEURLCv/AGSH8ats8Hr9aySkXY6zEpILPOGHjK4bbZfJeKUgmmmQNF7m6u2RMXavHqyyspJ6sFYMAu3PnLgKi4D+nlQEfafpF7t0Hy5R4IeYiQ4MG2JKiZGZipIQ3EeXK9mBStD6RhOfCE5x8sHNKAn/RAThAfIHfEDpqxF0kron2B9KGi6nEHK8HX+SIfgFfAAAAGEBnsd0Qn8AeaXDR7Q9ORs4dxChAAP5+ru9yeAuJDV407+Gotn6KaMSLDm871KRT4tWszkdJMSGd3wgU7LTFHA2d0CpVG7F7S2nKxsUkEfbRxWZjr8C3PSSqikKstWSwLyAAAAATQGeyWpCfwBknlsqYhGwTgm28UujJh6SUS/+kvRN4fuavEuIsmjhjgea49Qulnp4ejSf/9YbInp99iXhbxwlV0dA7iWeIIU3AAbTzAI3AAAAuUGazkmoQWyZTAhX//44QAdnJDK4aTlhYL4D+3Uq1cdol/DFz91tnc8NkSS5pp7ATYpzRc7ULENRF/FE33FeZYGM+gtiYqdeEziVCLeLMdeWggxF2hS6kg3woTcrSeLDFL9BNde5ybc0H2woKNAl2LNZPVTvpOuHvVZU/A+eqmgim5rUOlTVKH/g45lqHD/fPQ/a5Z0C0/el6eyMx2XBBgiDEyax1hiTya8xOwRTZIAAABLtBWE2czl4AAAAZkGe7EUVLCv/AE2DKfLInz8MhpM30yYXbwB2vCiAJOw6QsjOd051xn8WgID3LTzphz5JfrqLGWgOkTyBmRoV8hDH4NyzzkIFV3EPfdj4gv7Gejzy0bRvg4Aepb8PKziKZgNEGQC0gAAAAFkBnwt0Qn8AfvaWrT8rpFbpU0CIORZVuhq/EtN1Mi6BxVmpyV2RqtgAACML9N3gF2E7CM08KjnbpUOzMFNUlz8OlubQWjjwkPZkCdR7lyeoEEnZVqJjKxfZbQAAAHgBnw1qQn8AZJ5bKmIRsE4JtvFTAty9Hn/JgAtFU8QrfqFkcKMgGT+/t0h+KJQmZPmpkTHnJ1M2sj467oBiihlaBZm1OAVKNvcP3dBdAuyb1K5VAJWtj+lHwy/skniJXyPG5RJ4ErvzWFXYSUp72WRNwkTUw0AAScEAAAFJQZsRSahBbJlMCFf//jhAB5MkM+KvEPDaaAK35W8w2E/WKhSnNyy/fhG2qh81uzlVteuq9J0smjptJ4xiQdtwknguobeRsng2iHdqo5RjdiHzat7/4C1qY3hQ1AgXN4ZhTp8nWwysmn9PH9qK+c0A1yhIa6zFCL8habsZNLWFBTtwTrEDaWeHDttiztQznZaBBqigfSkqhxacrGK20ddCnQjY39XauuY4jfXXwPy6JRpr7OOBWxLhopOiJNd8z+n/43D2a20YtBduYhWgmByhwBa8LWVfuXNB77fO63GeaX34reQgFGQgqs7zGUbPfUwEQkYTSIJpjdahNM1P/9VKFNxLwNkotKXE2WnpHU4mbRIzA+2lU12Kl+w3J0gHV44VKfS37tPSDcQD0pTRobaho2A2Pa1DCtrV+f0w63hSGc4R5oPc4ZS3yYEAAAB7QZ8vRRUsK/8AaYi11y/Rlb/KDDXK5zkKBF5brYdAF16jFsh0/WbS9GtVrh3s6q+P/OBCak7zsPzfq5jgwRTRWs5MnK+PwqBErEEMOtP9IqBwGwz1ZVXuNy9oaB8eKLX8eijAcwFaMIzxZQ76QxVUTuvMv4s7TgHYANmAAAAAkwGfUGpCfwB+9dTl+25cDWCkK0GSH0mod2hsbZAYdZ5RCoe7FY3AA/6zu7ZRB/JTb9KOsNMzCWlJ3M18okyvSlmHqvZP9e1burRHKAG3adYPV09/ZOLJT/pzdY1tITU2gVUjXxSb9ueiAPXjwis54P/hu8/Qnv2HFmOV08mArAj1TeV4gsb2GLAMV3tdvKCSn8APmAAAAQVBm1NJqEFsmUwUTCv//jhAB78kM+Ku/TOkpFeLkVtPqeDHMKF8En+xCo6NDg+RUL8Gdc3sblVmjSFcoAgtN2Jj/iM/Tr5EJ70BjEhmB8ZKWWrQHGRYPkayMLVXm7ss4XnB5HX9QvyPq8gdAN2BL8M/lv1Jfw2OZzPN6bUobja1QR0iN2GeAKLmxLRr3C4Kuv+AsJvCd0xyncXyU8D9lY2V5S6UvgFRZoub44X7JXXPGW7BEph3P9hA4M3K9ELPpiIwH54H0kmks8u7CHtrH9f56jwuGOS8MXCjY8iZ/M9DL/61EQ96BnyWjgeZNF4SzWVGNcQF2oy2Q3J9YNUZK6iSsvBA4AcAAACJAZ9yakJ/AIK0xSzB4V5/B0yhNXDbkTZGpkXfnCK/LQx6jSOmlnJFljXXCv4OA53IuMrOvsIAC4vIGoG0btv74l/es8SWyqkV8nYD9olqYJCtiwPX7VQiBaNc889qpgjBigUOrYtYeXVtQmgU+/KL8qiA3iLbssDHAFSfSvRF82ThvGutsJ58A/wAAAEgQZt3SeEKUmUwIT/98QAT16Q/62L2GhXGitnVx0myFX2ukCEeyuKtCCqdFHrLd1+nIJdUwKVUj8CCCGqk2Evw4elQc4SKQLg0fwjAksMY4pfqoxgcfKs1bH1etEmG/M+8Lx+on7t39Z5uvt5qDtEQNhfe8+ewrBl88d442KfD/cUWkzYRGxnlSW6F2njULYqy/+f68PHqJ2sZ68WR8Thw8K2Mnj/zM/PHCDG53tbXbcIlYkp0WPf+AXm5Tfp1yoqcUJQc+kw+JNvAPeeRozxaVge2xK75uE4rLSAkjGeK5l5f5t/rVav3rAys8z6KR10MiaNDZ1bdXXbuj/x2J1XwEElY5Mpb5xCUr4E/rjcDZdqcmMWqjLdBs2W2LLS7XNWAAAAAzEGflUU0TCv/AGmBM8Czd1mgk1h9XGFTneL2AZ2C4o+qfMIYoeEpFmawG+ijjX6aHF0ygfiveWWqQs9TO3U3j5GgA40A6AG1LkRaKNOEDPqyjC860vTMbzuYrQfmryBj43tZCPojxKOJneFJ1BzTTJNKcAxrw9ewsiqzd6e3qel6BCh1/5gXE7IgTbP8YeSOQlxzIef4wVblWBS7NcjRN6RVv1+h7mLOVVGF6jnhnbfI+kwqIdyRJiXqJIzrS+a4duqKL2tjJoNIXAArYQAAAMwBn7R0Qn8Ahvsq/MOnVOoHdCI63T+5GgJF0YA9n+owJ2mYz3ZgBsRAzSq9jbhhOV53IAgxK9H8lPuCSW+BKGK7fDU0O9ah8OZXj6rQYax9Vabr2xd1K++AmYQrVycW5zN1f3b4ZJ/DYnbBIxAfUue2nmZ/lCM1AuVlRfNHosv/cD2QXUc0AqW9Qs9cwUpURptVb1M6Ry/iR6A3IP2MA7SJ2TZ4UrcEHhznAQFaNSPOCRNEWdVkysG+LG/egElHBBOu0KOCt1E9DG+AScAAAADUAZ+2akJ/AIa0xZwdBKMhRwJr9kfRMIbQ4QGv10fYAP0YJ347FsABnYzWFvFIPLWAnUOWScf0QbLypxyYNOQSa6uVD+OPdfCdw7DQtna7qsU3YftSvP1c+roGMT2S3zhFdJaW4LLm4cqCoxWO/vjyzU/s3QM7T66+3PFkhGW9a/leAs9X0GTfZ63nzw9mb3uDYF56MpSaXgI7WSemOoLW6aKQHX3eed8NCF0ZRBK1vHk3ciFY8J2q3t+VofuEIviSDxbcBuLMSNWRm+YgwsWisglAB+UAAAECQZu5SahBaJlMFPCf/fEAE04C1aCknobinWAr4aFH9n5sKj7MVrdkiOYHJNLq6XmwARV8eIK0ouAYZZ4Aku4yGqTlYtlunrv6rgR8xhf/tT2KfKsYNy95CygXUSlQSqJzI3+96LtIOjKiMXzvP9FENNGcgzp1PIRCxruDOxNyE9Pz1m0Z0Zjyd+sWNhMqwU+LJn3Kdbz+0y4FwcRURevGZb2LjNE3Y1a1V7H2iXRAHErqkBkYuGL5HaHspnh7ACdqBo0QNh4YDmtjRjq1g4Z1Opd+8m7L3zdz+J/yaN6ar+c902uT0ruQJ6sP5lSbr/aPQMItrxz9HSrKX1k7A+w1/QeBAAAApwGf2GpCfwCK7YwXlgG9XrPp7R24E2/2vb+1IAvyQ7+XlTrnxvWO63FETTve9m+Xt7c+6ZyJDkHqU3IsaDgBYIIQkZi5/A3vXF+NzzpRaMug3CRt3o9gNzRncgyy725ZHE3ZeEVU7fVLcr5dqSOCaYV1A4HQ681x7z+MG4SFzqieKzBkCUu13dwew5ENrwyKDmwzPj348crZay9G0qD4OkCARbQjIAh4AAAA5EGb2knhClJlMCFf/jhAB78Xg4q3ZYzv/YmhJNMn/dT+ssPeWSP64IUXGanQRVvfotLKrFjaDhF2XNK4xa4ALDAfFA1IsARNXNAfxXyZxNI98XG3hLB6nq1nSsip/rfnSZt7qkfGJxPYWHzkKpBxNmbhG0x03VFW0mC05Rw+S7OWMZ4WN6B+Euq3orO4BDfAZWpOMUmTFkfr7CMWtlhex6qld9ykBToChoqcWUH+t9vEGPCihk+avh/HZ0bQQezhr0LNEQ/LvL/oIH4J/JBeehDi5MB4tL++qByD6E3OAJFQSSExgQAAAjNBm/xJ4Q6JlMFNEwn//fEAKB7EPvIHlgdqvdqz6Iqw0AAAAwAB09I4AAeCmu0QVAma5knYG5d+Oh1zLt9nzTKD68cIkrgaAaji6ewLv33arVBJ1+d/4ZJPAUEiMhU7Cs/y++8QGVIJV9cZPOhj9AnAXIOedk81XwedccYJCkB/Ph2gvsPeFgJkCG0Qu41HbIgZ0ZkytOIUDbjL0NqL0jcvvTnCkZKqn7/smPCgF/7KIz+tIxcqyqIQcz+pbECCZ0D2eOHgv2DuYRwg75OxmvGoEIWLN37iauFUN/TPACh5sKSo8mt+PzIWx+WGolVzHoPrznwjtHFR0oxMvugVd2zpvo3r4pAUOv5MWjZK88IhBQJ2SyqTxFizoLyoKNIiAt0TrCo07vkMYURQuuMWoydpWdVr52ncLHvcFumfG4A6GpwOhwE/gMFcdbblo9+CTz5ZFFCU1WF9IQAAAwAdc1FzUhN2xghnD+PX9xvhkb97cNFSYOhu/Us0lNE2a43rTqYsLDm0Lsv13I38/KL7tmCmtXPir1dSQfrPlkdejhZk74Et7PMrQ2BWCAzlVSYEw314ZeJ0gicA1cmX/AvagkpMcgYhKEgVb673qvtzyV/NWojNj/oV4oMuuzx/kCLDC2IV7ZJh1KIoUxIWwj6dHBFu+m8icJoR7VWORt7qZAOBV4WbH8F+ozuimAl9co4K9Eoa+mptvF+bs3WuxJnIi+a9ILuDDXeyYYdk0+9MsVVQV+EWsAAAAVgBnhtqQn8BHbJzuzM1ryOoYGky5oU4YT9ZFzmIZAdHTS5GNdDlwu5ka10OGDTzSgeWdM21z3u13YMg+sLzGtceRLFARWsSqR9F1aWcNYAbdp1hOlj0/tNbxlpnxZQNL7JlTw/KMRkv5h03ULi+eK6NK5H7ADcpqPb+uZ1NiK/CptnnakYGTnaRP/5ih0oqlvW+BGuBD4N5qOyq0tNCjnaBnbLs3qBgz2UyxRiP3EdNmg+hs7jbOv+p7U5LCIK24+DC5AhOvUIYd5P+ri5u3LxpI+VQSDtc1qxNCM5rLn91tbGU5T15EtVa8rri9M3EbqPNrm1D9icBpCOb1QVkVW//vysZ2n9BFBDdE/8yoUFbQ+CS9pb/geXV5t4+ZO3wCjUGdsQKwtXZ19izDM2l4fIU/hs6SjRCGGJunS9SgeGnswhBm0rH7+knIbhOU0QAAAMAAWy1TLAQUQAAAd1Bmh1J4Q8mUwIV//44QAYeDNmL7QwcikR1WTrawiw8F1OyRiFb6ELp/OH1yBHsa6iwHpEMjhi6l29hzb300jC73SHjShjaTKiiqDUBByM8BZ/D+GaoTRooC8MeEyHOqFJlez9lsHFUjighhGZum08Tv1AZnSGBQwyqB2a0PZpY6EKc54RaWdSKSxbTmOXCNR270dxdlk9Gym/ymi5eIdh9uFs6abHnqjHq1PU9WPHBhzRc/IVQL+gjHPIArpt1D2ADbsOvpBGvNT6DoPy8GBDlrVArJ1TwEYaMw7rFgvJb6QPB/Zdp2m6U3OLPwNKfh2iZD9DBDUAIgTs+m1eY/bOFgDf8iZ1wuqUlsZbv961TrIhjWDl11enCRz7S9mJWG9TE/yaUEZw9silRmLAXp4zC/hA0HMSeaOl0vbi2yxD+TQfB5ztdWAe1BZIBSW81s+Cc9bwooQf9u6UUhfwf6vr+gB1U2zPIP9WJ+h3Au7TnlTeVAGx7vqHk83ZK7GTx8YhaSbKHMqH++3UFRoVeR9qIKkDUAyL0c13oVHzS0cEayXyUVypOMDErzNRNxUfnfpufaTWd+0tCRHyBQqz06rJDKnsDbSdFWcXcbKA+1nYKJJEhxJrjM3T4nQhuFTEAAAKOQZo/SeEPJlMFETwr//44QAYnVXFs+cgAlrX0/7hqgnD/FbIDMBQVb7LaqY9ykekRWOo8Pwu0oUcXw7UxuJqF4DImg4s28vLpfAhuXFMe40q3WyvTE6p6mz1fh0IqPF6gF+tsq2iszCgT6tYpT8Fk5Yc6onA1d2SDIg+gLf/axT45loMDYJ4wjT0qSblwlqMUSm0QZ2wqr7yvljWj/n7QQA+8Advks0wkUjRkdRsGeZzexw6+CZH3FYry4khtWjlkL4egAcdG1bf8jbsNm+L9NqO89Rbp0XWCTJe3XknXa7/hHbbglOKi+AWJKBXvrAfOsjkNxpm2li1KiVQcQqLpAU43Ec+BBcDvhPJ26JuojUQ7VODz/2i5E1T+tt5BERm9qMEZtnnFuKLIu1u/Y+v5OONqUDE1iVH8+/Nb3360HifryBmR6Ep+AsrHXmQrzMTck/Fiy4qTOP2m9h0n88kL03RxCHj3xr9Jtme4CRViAzR2XrsGKOLVwnw83ljiNuEvQH/g2GBAfVrPhQ3hyY6SjTODICtTGWXtfZjRgsiFPZ35qMEvlfQbfK+qkZQojuAz77128tXo4nD7/dtRcRZUqk6eXYZLRpmfIlyDNSCryfKIPbthXYGn+eK1sAXufM5C+BRbKcJ6XyzAcD10vy+GatsXRXK3pQvFNmlHX010j5r7Uf3zLOSmqqgT7Z9Lm9QiyO5tNm5Ej/o18Yl+k3Jy1/Etr4a3BnpUymY3T12bcyhTGqo+l2//4uRNuSReHUlGSPHqNzT7oODdwljGnemGihaaw2OnaNp9hl3D80Y84dE9p7U2fuAL55YXmSCbMsi2PDV5QmVKtywKbdZdLZVwAAADAAmAEAADLJtUywTcAAAA+AGeXmpCfwBsJEU9a0qFcjJ7ZPGO3jq3FhH3jwn1K1b87oJSFiCCj+RqWgwMHLLJBY5Ul99c9pWSPSvmuSAG50IoFWnLkrcVyI+Rkptd4mc+aZQ+HI8nYPPANha3UH7tDhWy0oU8F20dSPN5IZRtDGqWs9brz8s4ZmHx6gz+mEAe7bsDIsxKoAMxq0n6OJ7rRPWCf7KgUbcQjYfA53SJdBbeG2D/IM9R/ESfyr1M6x27VqbRXKNoUzA+LeS0Et3mMwvaQAqOBGXDQRngyg6RBKWYlSSq3PBGi7uAna9W+rwoVIytGPwNYRIAgF0Ipq+p06cNX5IqcAoIAAACkkGaQknhDyZTAhX//jhABiRh1VtlAv26AkFJz+CZNFAHGcmFlhWVGqtKm6NGdBSRlqVK0+ZPu1n8LHBCbv9J/zaGBhifrTv1AJcmasnapfZPy6zrISH5O+QgUpvDgUYzbkneVAaRTbLd3cB9IG1ZmxYaxKMALNOiPBHp1Jro3s5LLmzqfkV/OA4eh9vgnV8yVxaHnM/TFcihRH+pFHJ6fBvCK7NeSkLMWg/yDDI4SKYHpcg8aEZLCBKJHZg4zDnwoOBof+e1gf7TBsGSlg7KMlEKg4wh3KiFJTWyy/uqYpFkE6MRjcQZc9As61Ni+KzBDLOwFg+SdPvrFgo7DclLeTS+f929GVnCVfQxLtzWoyxTyT1LYtcbnhtId9taxWV8zbLFGkHQTCO880MPDNmqCCMywwnhJrVuNgbaIl+t3pZgcLF1H8Dgc6aBA8zwU/qFGM5Ad0r5aS4ETqpqNjYWs+vD3WlfAruw9XqJrOGIH4Oe9f2niBKbQNV1i/o0PRJwnxTekyu4IPEFW0Cw3Pgvv8DinqRzFc1DyOjY9567TZ9Ad3mk2N0t13GvQ1YeRfBzUFWg3jy//uEHO3RBaw2KESxFs0UBC/15XGArjJWa+bvL7xBNSyp9/Ve6eA6jb6WQptQ2cSir1GkirNFoVB0oNKZwlBsbZ/HTPsgKEgfhZgP3Vx0cz2wuLUgRcLbBrtp8Jd9WEIyuEwQMK/mmYkqBhIhzzz5WyFWbpVhrT5PSq6ds52X8cdOX9r+n0AOPsV05y3pJfLmkt00mjehiZ8ZGD1nhfMwfSFda38pSvMQE1cFm7yozDHBIkCczrbrMQoWf7ZNDuSGYVBah1MJZTRI94DkxQ8t61iH2ca5vR5BTdnxas3cAAAEdQZ5gRRE8J/8AbBHdraFU7y4c/x+vjqPiKASgAAADAAADAAADAAADAAcjds6x8OMV7HmL/NUCIJVD0WFu1GVzHfoQN33Sn/o/zFJAgqBhl+0wnZHO62v4fTwnfq9Tx60Sn5FnuoQmj0xGhylcLAZJ8j0hRNMEXSK9O15DlRTfuGJSwN5M+DfklsKl/XasbJY9gCx05AWu+VCzQS3SgLzre7wmUO42RDcJv+9VF+UQotphZm0prvhPCijA4+ie4XdCWqnWJHjfIgw5A8VCyN6+YAsDafqtmoOZzsodAt7JQcUzH6ycNprsV0xF415yw3YEr9GBMIyok8yYGKDsNm3N4TU6VK2c3bSILUZ2wubZxFSox+1ol+lwur5QyAdkAAAA/QGegWpCfwBsC42Q/bCWyWAAAAMAAAMBou2zuZvVqIz0PY8oCYCpark019gwUYKgTj8+OswlfPK5l7NGw/0XQ3nHzRaBwqteCjweYgl7XE4LwJF5dsysNpnOTtFLyUpQg1+0oI6MuzgAlcdq0M4euN2cldL2rjEWrZYZs+8P9bsPYZVxnVa3AwXQ3FBlGpisOojXH1FncPUbqgwT9cUXfMdlVMkBS7LcSzWLXueuPI1Vggcs3Uwnz+3p0QN4vg+lsnLiUVUiL9EANwrQAeK9ep5VV79YqCvkMaXGcyk8TqmPjDAQmCgxQ2HvuWGSE8NjBCP6vKxAZlXGWszWBv0AAAGPQZqFSahBaJlMCFf//jhAATT1gYpgAzpSgpf5spIrB66Qak4BBvBJvYMO8OIJz+c7v3LxSdXSLJcAezFhv3e002eoJHpbk+BlGXZiurQDm3mSVhF8bFBAKjQjNCvV2/de0FdkTJA2qpdG72Hwx1wd9Z3dBXRc/ZgBNeVVpxavpmW45A6RL0p8Ovead7mzlFhucPXusqGy90lM/qK2PBJ/wjDpcYCzQ/Vdwsgq100VIelp7p9gUCVpgK8jxD1fimwepCK8/TwyB6/JquoRa7eoqlqjw0FX5lMy2FXTS0+4YpEzlDaQ4AzAR9YUa28YzlT5dL7ddgU4VHwbxd5GrDzYZ9XyqHflcrXkvS7xNqzqDd1rrPnB8qDZflMEY6KG/lPbRX6puMI966s+2rsH/oXIikwFvZ41vENkAdlpl2K5AoEjG7JdO11lCkeF3j28/CvDK0jcVhtI13pgLVVHNVWF9/BiNEJ68u7DcrlR1MPK8lDB9Jvo1DdfUA8H1WABSOeht5DALiuASrcdm9m8/uwEAAAA4EGeo0URLCv/ABkiHNrADD4UMt7uhyQT9MVVHR2y2OyIAHFn42ttppF1pVBAulQO+m0C2oSQqk4DsSFat8M8bAU2TweA2WTZhCjWmM+guXMHwvgoF27luWTV8ldou3PGRapEoBV0ZZdGkxrqT0PlHGNfYrGj2yTVrxT+6O0o+hKDbXTjtsVTb9JlKdhBDsWQ9HbMgKFTp3RuCAhR0YOn2I/5Jj6IZZ7RxsqYrdm+7OZ0/b2JI4Rdoo3mt3bSXfqgCRuFcYdnn2+DMNQpbRBOINFAKvx5W/Nn24W/URdVzARdAAAAvAGexGpCfwAVm3A9Ur5hPBW8OtaRQAOKFTy2/CEfzr/7QetLJZo4zTTRaAN9VaG48OWByRziOxRO2bCqnoLJng9ROUkjP6xf8Z/YNo9IdMnrjpdW9Iznz6roAA+g95x9ZbgShCgbu4cROOb1220XQU9y2IfqFUjk7ikJDppqbqL627H+BL9BnmyMsAHTWtI+4dZnlIC4B5b0/W2g1vJt3pQiakBnSIcEGBROcHpYsIUJPAy+rSqoAMWXwK2BAAABD0GayEmoQWyZTAhX//44QAE/0F/xGRAWBU+dHY0RWSCSoK6fPXPK/n1tECKCAXKtgy96fzG1hsXLACMjSjRPYd/1Dj0eKKCwUs5ERMxRq+OkUZ9btY2ZbWKGEmAk9w1mFoddsr+qASuFzgZ9HJpPnXEm1mKQUn1k9QKnmOml2SlEN91kCAVTYi2xzVJTza1gCNl9iBMHnxLwTbqijyy9DfXvVYlVnRzJgVswkUnlP59/ssuEKOJb6a8YpiiUWShW7p4ZXjmqEctj2eNnU45DhjH+WchoduyzszCoiwGZl7Ff6LLDQJe8mJ0TiS7NPlU6vuFQHXKEJRAo58zfKNZWeTZz7ISk85thhllbCn2GE5kAAAC1QZ7mRRUsJ/8AGiHX3rafKeaqMT2P9cIa+K8bSDyTi5Z8yyElMTM24BOHKnsF8XMc8ZY4ms5lulryrQUiKlq5H7sA2QGO1vB/yW1RFQh8EADjcZFSPDIZudOK0ikF5xg2qqOtMnie9d40n9Tl8Wk3sywoaeQSUgevNCr2dJyJZ8HUTjvAa6qhszIkxrnZCLT4/zVli591P/0VaTVANjQXmO7LGwWez4hZQ2SZUYPdeP3l7iArYQAAAHcBnwdqQn8AFitwMMCKvOI3+k0Fl4D6HU7r4kK4IfDzQaO1+09akzspi1iVTS6TQRffDgINlPLOKHoWxQw17D0jJgKnwQSOAkL0AKpyvpFrdwZCe49WgKnh9AJkILzoWZZ/Hw1VTcxOphBbpJEHHFXhtw1snBAM+AAAAItBmwpJqEFsmUwUTCv//jhAAT3nDNwC3p+BJcqPz9WMdip5/eB8x3I24eHt1ACARtTzl3w2DWdDrLM5lEUTMuEiG20eD8CMCOb95qkapqhmwNtDPy+2JOCvqYbC3eHMtmjnL1Q9cn8wnJXMw1X6rL3ya3KlQ9OlRfuUEwagxBGpooClVYciEXuKx+OgAAAAdwGfKWpCfwAWJGFHRUBttujbp2yii2aniaJ+NddwnVMFNkL3MQcukV21U3iz7O2o+zxmotz9Xx2gAON4romI2j6Tjll8RK3lwHwOOsbvLD4H0IKyg3OyQwnKKVUgIpAEKd4+4pIUGhq6UjbG74kATKYImNvkeAbFAAAAlUGbLknhClJlMCFf/jhAAUaOs23Eu+hqABl6xSLmn0K1nS6vij5NUoLP/s5vjSQt9md1ZVGIj6r4bWqmxJCTRd8guNneRJv1h9Rx1he25Yy1JAVhMDlrT39MgDALdoeY0QYCnLxd66EoGVr315QZUJ7YjdnefMVnMEitoccIIbdvUfYNNM/AQBcvdOPJQXizB1E090E9AAAAxkGfTEU0TCv/ABkpMrr5rNI1JxVat3rXEHor0M6x6YvUAVvzo6c3PJq4Yh9XdJX+5RoR8dLNXedPxAEBXwA+6yjoPM8KydQB2t6EBO4sQSuhI86uh6A6fp2RGcGdPRbxRvtJPeolxcxkIWicQsyBGwE/+NkECqeV4dpdoib2tWcUDDf4WiA/j9p/8eVCCa2KO4t7qGE9DUf52dhriYGFcvSMXtWFcv7vKVfDz3efCsK9v/ifFklAgea8dyc2R43kW25EwABUwAAAAGMBn2t0Qn8AFr0lUPZFyeEf8uRas/pbBEC+nQga95sgAHj/93wkdf5K20nHc+iHtIzJhKymZN2/QBSa26NzWzEtfjEs7L7bZXsmoJIQZvJk8xEkrM3LJek+EVgjj63zYGgAFtEAAABqAZ9takJ/ABam5D1C6YRGGa+0MQAkIhZ0Wp/joobUOrtwTPSWQhANuB+Dr+dQzuJ6n1WzgyeUmV2lUn8DkmR3DZi9YE9LkNQHHi705zAKrI6oZgPif4uQHcyV381mSZVCNGskNAIaSigMWQAAAMlBm3JJqEFomUwIV//+OEABWtBf8RkQFgVPnR2NEVkgkqCunz1zyv59bRAiggFyrYMven8xtYbFywAjI0o0T2Hf9Q49Z8oORsx9bD5C6sRfPc9hFPRMKLwExG0MqBSH0dcHBMeC79wMsdeclBq7ULJ21x+tDEIsk8NtUrHBJc4kT3mr/fUW4wWXDEgjH5gmX3UuwMUB0e9rxeG5CBpnJFkHmUGeWVDdD797nbfdNR0ppWxBw4zPy06WJ+EstwrAxAllKRkCEQgvaO0AAABwQZ+QRREsK/8AGSsOu7py+PywfenFFB2N2RO9kI3uhrc3IpS0eZtUtDDVdMWWh/269DRm69cXGwECFuhRzj2MKuAESIY1L9GTi7M9cXoH4OV1o4+HM9Kg+ySCEJ3pQvNbceygb859pFqjSFi6MQBZQAAAAHQBn690Qn8AF0NYmNMxJvIZnHy3BIKUke3Wh4AE7a/0YE0V9xcu22w0Yq+MHxhQ81ver5We5gUuvh9V6GR4OZdeGV/ALYE1t0pRuKaDfTnpMlEChbatkZtHRqdRtncwLSTpDilta362ajNOpdolRseCZUAl4AAAAFwBn7FqQn8AF+d7GzAbfMSwtXk6Iv8MdxrIABbPFdExG0fSKlPFr/yzpgcpFid4gEgQehhJjUb32GZH9s51EGRlpAEKd4+867Wd/cAG80qvhjQCYkrOGyRarwAYcQAAAJhBm7ZJqEFsmUwIV//+OEABYY6rVcNFumHbkEAA5rfcsPI7vtcPmbMwQF/ensyu1WgAVUACIjUxgWOhP2vc0JXxU3NVvr8uVx+89jE22p27lL/pc8qs2aWVdHDFC/QOjyCFCnbtLG9la5ADBa3DpBYAiK95p+9CidSP2DbsfcGXEbcidEjRqOCOdqRnuVVyruaQiQBSISP6/QAAAMFBn9RFFSwr/wAZKw67us7/tuhxrumzQ4fO/D9ftYJgVQVrSgAsPnR05ueTVwxD5hmkhIKnzAxvfRQikdPeciwKmwKdcKeNjUW1YbN568rcdPnSW0jadd1sGrWo0YZbv+brFbmLvurIGLMPdmI4OyXs2InP3+ZzXU29KHCJMrP7tX6b8R6/IdkHSZwhX2Xdxq4eoArq4IdALJjudkr+s1QYaOsf9joJIRY0C3nDne/03YO11ebAN0VcN88wR0Q/CAt4AAAAWgGf83RCfwAX3fS6yGa8iCBGiNhtqqiis0Hjzt1Gr0nhuuYTqbrYBCd7tInMQbRUi14vblx/q1Y5ByLO/tqLXP3a9vExO6mmTatfrMEcfP8paKTw5Y/osAA+YQAAAFoBn/VqQn8AGIaAGIaUvgrFY8IiKqybPMA0Z14AyZ4UxKyGQAeT6o2Jv7qmhA7CZ80eyoPmXe3IY5cDLCbO1VBt+s7qypGAcfJ1Q0I8WKuklH9GRnZtL++YCHgAAADSQZv6SahBbJlMCFf//jhAAWrnGP9OAiqqG/mWesuFwsb8aXF4EE4ni/Pe68yN3HZpC2VynEzt5OPfMazyi2MjPpDgZYLobOzlkWisytRE3T7u3/woLBwYoriv3Np2n3uMn6LdT0JSllSbuRrZd3dXvbLzGbpULLL8O/NAjpREFEd4BbewhDu1S0//ANur+C4+9yLItntQE8kYNVB7Nfv6O9bzB2b4mASDsO5LTCoIovfyZa024J8LYZ7DTXif6sr3TaAHb5YRo3/rPxUpWUxNmQ1JAAAAcUGeGEUVLCv/ABkrDru68HjJZPGvpKrC33uknIotDD6TwAA5SIvFVWruf1qaaDwLrgqnJWmu6Yhf7GYYLAYU16oy2Xr9/PpMa+fzAapo5ySF+GTfBGXmMy18U6UM8VmdpM3wIoHeNx3dycVJEi5yn4ILAAAATQGeN3RCfwAYcXJL7uM1sJdwhJXhBQT/JTS3SbLw241y/IUO37syDydfNqxIuczh0Z5BpXpJxqlNFJJ8V4alCm5Rn73PCAp2XPcsgAyIAAAAXQGeOWpCfwAZJ3/JzaeFv1aqnwq8mLshlyRN2RW7+A3hWtN4AoFGBSt0vHwle937B+HFqsItl+Bw+WZ5tc/OjPr9+4qrx+z967GS2mNuapTHf0adDSKQhAAD8lHivwAAALVBmj5JqEFsmUwIT//98QADiWz7zsf7QhjZQ5jvZwdkixqEQGdoUtgn1X+cVgpvHSj8R6oJnvH6zBr0CHrfmkNTYRUyz3V7QF70PGkfpoGAzfLfrKlLDlWbXYwiMYtfFn8JXe64TCiuO/LVyK6mNAAIOAMgsM19OIwqb+YZnyoSG68J1gmkafOnsrj+Nmv+oR1B0xgEXPPK+4IoP5Hu1gHwQppLxHQ3LbZ5FGBKpsrhTRkAY3fkAAAAikGeXEUVLCv/ABkrDru2QrKeh5Z5yPlpU9DhqwkUfQYqetz5m/AZiNJb6wYaRpjjlpBq0OpPsEs69joI/p08/YdAEK9tnHH+BX0tQI89M7btqmbtepKy3FTaFH/g2B3ALvRHQu/LMJNBfGdsQOrZtXwxPj693W2O6BA4kgsRWhLEiJy5Qow6ESAvYQAAAGUBnnt0Qn8AGR376F9dRgKv1MEv0bIgvtcE6tSPKYD6u9xzibdbE/3FxL/peWBl8ut4giVT8VRv5Bx1/qGjybpxxEcri+szVq1LlwDtGRFy0PnMwAjft4OfYCIGWMDDitPocISDAwAAAGMBnn1qQn8AGb8wpO317R0TbuZB69RHx8KQAEFqwAON4romI2j6RIAHUEwe8uogeFt+LD5kqZmwikud0eK5bgAKesO6yQ5hrZV9saTHc83tH5lR2aRp/7sEKyfdpqGCcSCqHpAAAAEVQZp/SahBbJlMCFf//jhAAXOMb9j/YqoQEGrY0dfEXWC+YZKHlmXbwDcUzide89rDJy8/pZHjpBajowHiLuyMTYW9TtnZYntJH7NF7pv8bQRbTqRUf9z4kwUaXiOexXU4UknoUPlp1/fZ27jN+iWBxpsTA8JYdaeJJPBb/+qOH0WXJ1g7y39Hu+DDqd20tHhfgrm3FkJ9DV9Z9pwJLjJGaW4XOZw9lD4Xk+wCBXWTH2xeDzgLUCa2oz60agqq/z/P/ZxdodOIxh1EKB/FoWEyojzVRrUuTqhyKfiRV5dUC/nzchyGeg+/79ly495wmMcLGCA10MGVBQZNIu8YEo19TLFo7URH5tgSW0cDfXtCUf02Yl+8wAAAAShBmoNJ4QpSZTAhX/44QAGJwl7+cWyFgBa2uz5JJ8x1Pczd3Va+fWLcGT99GPoCz0UYg+y0jV3tftO1Lq//EpB3b3PeCVyr6TVMZXAQ1N9dRqsQIrZM0rcXx5QwA3a6g/1WBqnns2MhDQ1W/y4SQWWIBu6JuKoW5S6PNVP9t5B+9dm66TiTveN5Hx2eqQGYJPKx6DWXFuXxubCBefKRfozcrzfVWkDgVdtgoEeJ1xK488oE7kkDbiuEX9u1281J+YbBG8bvsdb0cB3WY/7c3YqvlebXBJAH4Y7gdch2AWf0IevsLXzpvpiMWP8KcZZWhnw4OqvkFzmBfeYD1U7KMpzvUBjxT41K2Q0Eg7iojvjnDGlEoTxOybmfHLyzvtrHvDmTH3xA7BQV4QAAAJJBnqFFNEwr/wAVCvbPCkkD4E8X03dQAUD9BkRy/LJlTz73QfxsGoooKm/Zu9qAAcWaytLQFMH/+ie/usOXEA8NgMvWUCLhsz8M/1iY1KaElvtvw/+ORXpS0HQ9Apz3QbqrfBbb034cf307oHKTmyyAi5EmQmzWBzhGco6JkhlaEDxb/Y2YFYYZzoZylWAUVa8KyAAAAGQBnsB0Qn8AGwl7hnrHGsSYWW2j6ETOYXML5ZaWACDJWdJd3MOC+z4X3Ldbey4l1SITOirjcmlSgAAAAwKffAeJd0eWcLWyTZe562U4T0gd5mOEyWQh7vDFVZNZ/IzdtTAhLExBAAAAZAGewmpCfwAbC9ox6xHqehzk9IHWPapcKqoZU8HBeYqHkZqwtrrkmtd+VH2jPISCRkFODIlSVvtM2xHU/qVuz/vXmEvfiPZZk+zjGuTDj4S/NrQdaBwW/fzU4b4WNXx3tL/GC0gAAADGQZrGSahBaJlMCE///fEAA8+C3h0LilQALAos92QjdjtANj6ZD45PAKdtoSAn7dU6iFJXRFil8BVRfEsjS5INHhZ7p19Pdpv1ViK1Ou5oblR3PIz53vZ6w4fkTXPeKNJ7pjM/BvP9aC44kVeMt74Hb8fQdblR+YScEmi5N+1R18wkHTnI/F5hyneIYf98jOEvEIfhRKGv1n8r0nY76u+gvXcQdOhJvu2qcLvEEqqzthmR7/1JOQxVef4lednGKJgmFC9QRMGBAAAAdUGe5EURLCf/ABungydy5gV48k+MxzsgBW/FdExcjKOliMism+IYCAAAWGZPaVyci6MLuDJE9Gp22f5Ku6zkNrJAfFgANcfEVEeuIu6MSCHqtF7YQqjcpVkJgJwC/uPzX8SiTfCyoTIcgr3TrBUNklmzLXWKCQAAAKIBnwVqQn8AG6d/0iHFEegDolj6cT2aNhjZUzSGzSmobihE5T8tHlctBi0gb1vP+q0f1HgWaArwADizHREpIEATGU6k6vZmkRcjphE5yS0n+EusmhezOhCZiEooaweQ6HdRsNnJ3dmRedqE0gDWuDt78ZFEBb8FyOd9ODQfSG03lQOCWOuk5BxOdVVDoDh2YS0WfshCI6TnSWDad+IDYG5AXcEAAAE6QZsISahBbJlMFEwn//3xAA7QZ+Lhzf00t8vmMP6ZKtFuBsjY0YYE7lkiR6sbjD+t3/58hsRFaLM8IdcY0YqXkI8pRNoh7Pun23v9Ekobl2xalVRuqdkPvpgCQrndQgIKy+eCBVyCiapU0I6STRj7jW+0K5uspUY0oSA6p+ePw5zvPoi0I62DF95DSHLHWPi+Faff2cBbAT1hEubi05R1gbz02yajkZRvmWR7TeaBpKfUK6hvGXSPOInThIi6alE8d1PnI/d6sFhT7kMtKr2Qr2pBhyMQjAgnHveHmWiFzaOVjj1nTbVLBGst2Vdf/yFYMvDYu1G3xCCCRsoD9iJ/2knfOhzwUtz8GT6W005zmmlo7W3xFq5nM8kzlKLDBkLCbJG8hKdC0LDeQuNUs3H06RoiVVRy9oOUWicAAAFiAZ8nakJ/AGwROE0zM1ryOoYGkyPPHVuLCQdN4/y+vj8EUCi3uWWzKfTjwm+c1w7nxCxbEmHEHbfJmUs/zLvGnMoAWvfP6EFKsAMHCkctJaRGXxPpHWh46P1DnyUaBq/M1O6zqLCcq9iOYFVpS2rYFlcys8zGaH6wKUCKLJP41Bjo6VKSi7d/Ce0oDzwIl6dZHmTRK4ggbk4MIh/sy9IZ0HK/btvSG8OK8KTB5DfB6bb0YSxf17kCGNV3zHKt7mLC60bFr4Iui+OT2wHQF1qo6bmj+4H6Bx+s7dSBDSysD5AHFg67OtjdN20cv8CnbMeS9TQgTFp2gPen9W7IY9bSawAvCD2CWS2rWmd2h3S9O69xFy/b9niOjbtwuaV/B/tkXvITc1BNG+4E2ijqMbPZrkupv2W2je+JXm4AP05aZeGvSt0ufBhlyC/9gAYX2mdrWCLk5zbIzbJYoR1qqJ9nFKKAAAABNkGbKUnhClJlMCE//fEAJ9ksAYc39NLfidbD65o/32Z9FQr1Dn+jQYFeHcrfb9dDExjTM+a7DjNPKzzvt/MOoBB508RDMArntkFtH+fHbyBnO2RudtaSK3/ERpTa8tdqGvPvsSg8Tk2JR+z+oT56Pd5Ap0PuXDBSS7pOfQvOrYIowhJbA4BUq/t4RrjlRZHR0yZgLPg+z4NyL3mSW1DzsHm+8OjeZz+0tgeMxuiOSGYJfDwqtGi/tLhSSPPFIIlYZsud8nJ9MQDO1Olizumpvk3fPdPZQ0zb6oWKjP8wVSFWxXxXaqPj9wpByPGjsuam4sUrqFxTSQsp+okPZIxLgJHhZ8ZTtpGfgjAwYAK63Ba/MCRdhkEtFqlY48igZ2hubGraFwhjd3t8vk5GuJ2RVnRxyZKNe4EAAAHeQZtKSeEOiZTAhP/98QEadXFs+fwAt6Gb/m66CaD7eVIXiJLczuWCcZ01EA2e0icuCRcVQ7QEIC8X9auVETPSwlzm7e+thFf6hL6SjSmTXYQb1gs3gqZZX6BKI0V7vLraszV2wcvLc9NNRXmsybanJxQ4lTX3yMOVBK9opvGEWInB8L+hjiatHI6ylBaP8THmDuH62lLiVzCLt/VtWnwaxvBAASGWpG50TB5rvDkCb+Y70afYpmMDpX9C9TkAsldn6IsB3unwifnrvtkH//z4SHxJCUhe5Rhk7UHPKvglr6nvf8pUzRbAtQ2sS5rq5aNoK6vVFuDaQemJ6tutgeMhQZYVYs/I36tjOoTRVF7eobP51Pq0sQ0CgfNjlmARMMml5uCph/j4A3COfA7M2L6M2by44PPEAhU0eU/cB94fbAfwe9R0yiGcbm/x3OB8UGKiblT/wstxzD10ECAbcbXRMCNK32NrnbaV7kOklGgo41j8ZLD/9gn+RoKelP7hJ+iPtZ9Wc8+jsFAWBkojI6p6769A8OqFueprKkcxVnoormDW2A+PwtbD0mfuEtyt5a7VScMMuVzMq4zI6AGxTtWFeKjTQkNNKtNVJ3N5pmTdTCsaEJI0RMgBknpVvw0yCQAAAblBm2tJ4Q8mUwIT//3xAREjOsOb+mlvxOQhDSB5ztB8LVDXe4E+1W+508r+tWA6zQ/Fl/vgSjZJYFrbajVS736Q9ACXBRzDKHLvPU4Do+lRjbv+mDFc5AeAIkfLZhV3a2M2rwcjgIg5cLeXM4DYuavjDNUHQNaE87y02Amymo6gpNNZeMm8gYyfG8tEJDLto42EHjvsbTLbXhkVIMOSrlxQLsbOXv/d7nydfnmjKsJjf1r4xLlTukLUrEryOYBeiMTjR8O8dwp5K1Uog+9eUf26GhOnx3/08/HDZPWq3e5VKV0j61bBM3afG7E6bcCf0T4X7yQEcNBEzS/WjL8ZbPuoR97Lc4rEtRm/4tL0L/ytvjz9cEvqlaMX+usplvxwv9YAhV70iTatRSwtQaRaF9OLw+4xV5SZIzg6do+OJ7C7PIusSxHRYfzSDc+a0FbXQTymK5PiawxdYg5pHgaY80LVjiMPLzz3hb5/MuE+bc7byKPDLOqqqbBkC5ooKT7IkB7Jrsx2N012oXa0UuCSGx74sa595vJal3IUYSFLxZzLjFr/+dyWxEyeS9WqMyeHHAxH6bCXFD3veOAAAAHWQZuNSeEPJlMFETwn//3xAREiZnvRski+kQJyzAXqoxeN/+0i6QvNGYBEUlG2x4KOCHSlKTP2w/WtOY96syyb8zV/7phjAHlC73epCs9ra6uRL3ws8l8XhcmxRaxj48d/9LBK6U9SeDPKCg64vVKe43JNtEhq9osGG0g9oIa191TbR0Pd86av7KniJThpsTssOdFixcoyvF4UXJWd+7+rJmzOubDeM15rbkxVpeGVHPQ5hpdMeJFMrJALkwhO0z+P0dQx9xCr/boL6jBEi1rNpeBjflP1IzSSclmy/Kts/PtnWvHC4G1jzR25SGPKUnRtpN5jRF+oTvxT+6Fb9bNMX0rskgLnfC6sXg9HqixZMBILRanqgGAUCl2m3w8bT6iUjJviGt37Sbe2fPNryESd+DeQScO8/nJt/81srAsDB2F7qATXhfZc8jnRizctiS2c2lWTUARpQr9sQC7xDqNe19ZsxvJiM/pO61y6UbzsjGmLS/qTteElTRDn6asZqZ7YPehVMhP8ryaMkVn5Ex/cMyp5ikW94p/dKVXujFWHLityb12bfHLjj/JDBm0DbDpXf66hhCOk2KNiWHUVmiFNBCnJtkcm7M8JawW4CjcvscUYIJen5hQAAAEmAZ+sakJ/Ax7UsttJYvVKhEVLTglA6kx0WIT391frh68Uj9RZsy/PwlKQAtdQhCDgNDfILc2yYTAG90NGIvlxiqDMYY3oJzlUUdvvvFN2PC6NHkyUmVncycP+ZHZZCJIiPiIRGsG6t+qgay223ut2/3T/MBrFV3mI+FmCicTtUMlbUVg7KD7OzHrg591P0031EZjjredKKytaQ1uSP0j1k3EU4wfOGFQ51NLftFePD5u57iXUsKiMDynWt6pbVeFQ6z9G5eW3fY1KB/hN0Ir3bHwGo+T2VU/DP5yweCMahdUKdWZ44m+lQTW6fAb6sd5q8fjNZuJobgwQnYQghhUroQ4g33GClhsk50sKhER3OtF77J6w5rbDNTDE8nFtrZwMBMIcAD0hAAAB/UGbr0nhDyZTBTwn//3xAREv2roXBay/m3M1M4VlMmH/gZUDY+XOGumsAZWZxjL+4gFOgCY5iBOKCShsrPFXW+Y3t4M6FLaob9+Mv2SBn6vdPFL1gIKBU5EtRmp4e0iNSTfBGrF8e+vCINuJ+pcTjdA/fqpB1rX4kFaC7Cq3S1gJXTu8R72giWzFoDE67W6CEFQtcJSjc+gkjNYnRwdvQhN9oBBe+4qsASdKIIdzQGYrSLhCtO1XlZwXPSQqx6cNLh5pEEF4e3ggl5Eq/FwKQl3M4bkoy6svSwhjVBEMAIZItqd8BTI4vaTDMbv1d3pODnxABjgbybjx3sXAYYXvQe8d9TPotkJ5erm8AP/puxGEf75gstFJb9zWn6Zuv1x6+umvKU1SlSZjT9qLcwEgEen3/jvfCw8qxDo4XrECfmFlY4q7pcvbOoEIcy0P++9DEjYWTWp2jly6WgFB7fIlM5bpqsUqd1Md6+mG48bcBXn9iqRjSkvTWrDZU9FTSgs8F5lonJgcyIfZtOkPYx8sG0KP2HpwV8btZttxc9JkXrrqiH1aIlqSFgeUpehBdZqhSoLK62T6PbjvDRGkJS+0JKWwmMRn5ttxhL47IwfMLne4TY+uOAfDYISNei+/MaUOFnrjlafuxbgI5Tkm13skwYKczhdwQjkHQ4Gm7mvRAAAA/QGfzmpCfwMeidkP2wlslgKy4sAR8gAAAwABVWgO7HgAcHO/SQpE99j7jD+OtVxaiETHrwMWdVfcb2YHKNT/2nUSyi9udVae5LmmTCr5MgGXEmJH6/GhAs9ic99EYLovHtFS7qr13EqswsevEjYL8GZMEzOip7O7kgCryA7PDSZHmizojgzzdnbV/UcHjCG8uAEFqLf1zyg4mmKHKhMD9YXDBDzXOMNhPvbHv3ulOlPaHQ36ZdpKkcw5FLkpanhKpW7+zVPQFNByDk4YcvearvTEiZDOR1EpdvSfyFvybr9XlgJjLoFH0uTyjUVwyV+OAAXcuJTJPUz+tv+AAQ8AAAFpQZvRSeEPJlMFPCf//fEAbOS5ci7VDgDLRlep6jtL9OaDcJ3pdY6q62GuYOe73jC941w3H8Qo9+6tFfiTKmra6y6HyZzk+ATl4OkUCb9wDnh5/yZxmsL+ufiOegECabTEyUBp6nWwmGEs7vx+G+/Z/YVVFiKXAN14ERWpgpFEmb9s33bVG0ximUUFJ3L5AfG9UDTTXGzRnzDkyb+1s56QuOgQlorjg0HkacDUOd+wgKlNMz1+7WkxEFv1+BT1tT2tUrXXzFx1Gfpo92tgvvvT8QtrAokSBzTB8amssvprgu+gulFblDv0r/FdjY569dK8laC3TaGQ2AP98w5490xenCQIT/8nA0jAVVOj4KDRPjvY67TFq/gJRgs+XVpBzZdAMjsflFcHNGeEZfYsmQljuXWIhmciDWdR59RsV+2GJK5O3m5K7PGXnNV/w810wva7U0Vwt1pr8i012NIPaHOS6jXs44baKkB2gAAAAMABn/BqQn8CKNQmMs79fIxG3T4FNj+qHkoIYNdyIljCJAN4aCGISAFqjDjXSPGUQ2i3QLqoQSGrgHGfJ28mZ6yxxiFUpwkrFSi/yJGbVHLuC3Jbw5BYeJgys9lzp3HJHxSABC2VCWA5X07f+HGhrpFnjXZrLQlnEqTy1fgp53yxhuXXWQuuSCjrazUvRUNAOj0IcwNomLeqtL+/PHyckntnCsjJEZI7KjWc/TJODe8Eh81p6DAHbSUZ5ktRlg0CRDwAAAFHQZvzSeEPJlMFPCv//jhAMTy7trodgW/zo5GCGQ3Pyw1NKuraZT/tZW6x19whag+l3XaPjlPHl68g4kwCxXbHWVB/7zADap6Xn9SVCWWzDKofvQEwmwACXuQ5ZoBPsgSaSmIQsDLgKX6IGqZeUvKBeVDQdQBkrzH/2dMF33bSk+P6AQCxqZvHoiLf8NJE79xSwldakZfMesqK7fIFYsl1cPlJCgiTu+1498TYno/rb02L7HLPTQagNZVNTqimgr5LOMQQASAa+6LeXc8IVCvs1ROiaswgAXJC4KfMNbw3JQettZ5pfjAzDtXMD2WrYmBJEhy9NknscwPhc314kQU/kTxZkB1qoT9wlGmoAtSgrXJFVnB3E9zWmU0eYkm+mZtaGjLaheK6R2ftNakjGU6M4YzwPHaldK1LUTJ6seUkBgHwpaPQMEZBAAAAqwGeEmpCfwI5tgeqBlsaCtBT3H8CJ3NjAAJl9Lk8ySnAvWJhCH+8o1VkeBN0Il/jB5bRPavvi6/zKLgt5W25MRuVLmrNq7Ed/F5UmMt8voPT/0apYjAC3jqYRbui5y50YE8bmhPeVSHEf5mOVhu81bQAIrOqOg/p2/IUrE6H7Rtbk3Lmrok30cVE7C9+oOa+fagfIg3mBeANAUCvhDxsRxp/tSIqQiH1KoADegAAAZ1BmhdJ4Q8mUwIV//44QDTLRpuKtJ0owWAOQX+rjmKaBr++Ve+A5vdx4SswJOwDQ3WWdsn6LHOgaCco6bVlEFGPnkpz10/oFgpd741+iINR3Qwv8YCjk4q+g3RmQbxZ3mNjc5H/4/r1grkrv1L4odskMA+RS8UxD4G2HVr5mOI5kTPSS3xwBNJs6uhZMA3a24Px7+2YMCZQ8F3221MmyMQH9zhnzUNk/u7eKiEMu/HpAtQeg75aoqfILChFXIeDqXFqupSpi8Hwcx4ssfBJ8NJSbsDxQdGTXBdQ67oNUZeX23KdjhQASe6zGv64SDgFrMFwS3FtAfQDM9Ae/qZTzynTyUxezETeyqFeqsA66PNF5vdlRF/UU0i2N5OTfrukgBJdh3Z7kOoAnCszi//AZd489ehxV1UW/s974gI2zZ7+EmRRgXG0HGg/oFVXTqJXAwPdyCCc7y3nATHuuXZm2/hzun5gnaNpLN07mz4pNyQ/FkMPzs6j8/7V6wHPNIat32WIDW9UEsVoJy7ZThKD1m5QtRbf5ABd5ncgG5a1OAAAANBBnjVFETwr/wHF5m9f1gA9SD1zGr96t9kltF/ZBp0E4Tm5wxNK7PZSSz+QGd5XpZ3AgA4pgz6JE5bmdAN5nQ75ZRkaZ3dw8uDmTVr4oRarwfeKSMxDf/w5f6Od3Vk+VafSjVG7bhdjYs3v8ilTpc6odzajPSFMKh9q0Xppy7lmNdNcn1b3xLWjSdN/ZVIxez2v2iOsCSwHmAxf8IWJbGkZ/IZGdG5mfWbJqLLtpDt5uH7j/YIoxXEqWHtF8yug3h/LLfpwA+tI+rLoZNOEAAEfAAAAqAGeVHRCfwJJ63KpnsjLKkYskLvvGwJlQ+fh0ZgohtJkY38jAr6zqoqYHcMADbo6IlAVjQPKJsU8p+VhT8xiQAdTMvbJ1uAvedsoiFFF+6LlGenZ0C94b5yTwRo0CZfZ2VEwtbfa3b3EYh8VZbkr7uyrPtS9jf7/TkPyAYCgC6p53Bt/eHLAO16VFc3i5wIzH5rw4IhCIo4QomjzyP10BA/KtMRPCAAEnAAAALYBnlZqQn8CSZs1WQgTY6hCC/1DgTgy9V7A67jeLR9U78kkQMoOjhyxwBSSPpf3qwGADXF6IlAVjQPHBkJ0e3ROYADqb/oznAZVRsDWKHjHRhPIaKQZR/rFH+qNTwQ9F6M9es5TrhPg1Jbv1ZzjxLUD7f/7E97sc7docatkjUkg9/2rPIWPsSy6Q7Num2rf/9QgIHedhYDVkeYva8ZrkevgAIl2LrJgSVaNRhmtWK/8TT1KoAAJmQAAAWZBmltJqEFomUwIV//+OEA48KdHL5wV0o1yBwNS+H4IQh6AOKASedlE3cBvzvqtjvIvpt6XEM7ag5gAU4fJHX6MtAK8LxwtdAHAOVuPwOq6Un7xQRpbHGC9Sz7ZS6/vwd9oGB2Fz+WyroUDVEYb4/C4wyQHVMkgRuqcZwLmD4XTmXEVPnzljwyId6irjBrWCWStCpQvkMYeXpOOq2qlfe1OVxdHlUQBh+uJjhs9PkYIsAmZK2jSxCh+LuFwWj7Ni3ZeKkuzTbVCOuo7xAyPsayMSlv3NLnkG9711Rg/b0B+9Z8WrZNdFNh48j/Tx+C3IN7tpmOWSmy4uabxG3XnXaTi42BmDUex+XN9c32MwqUUd7ekyaVSQZnUuq98pypi7GUptp+88qOAWrmUbuFwmWJRBgk7SoFU2F3iF1f65AXxaz/uYjfZ+GI+fnMaMHOfBC7hAZZtgg+nkSjZc5bdhDDee7Gpb0hBAAAA3UGeeUURLCv/Adz66Bb0OVqSddZ/W5/Efv7CE0tRDPBBQd68blg13hWrb4b4DMtlaNx9coa5QAOO/TKAwT6mQhvlVxL1DTZNf4tHL6AzGJ0fpNezZGlCobMdSNyLCL+RiR/DhYj2i5Et9tTDfg2ZeOWRX0YS/70cF+yp4GmkN+ihOJu8vPYiNAzRK7C2OEZy6LBy00pyf7wlqpJBRG9bwkGprVmicovVx8BUmLt0cXhjzuqyCB4DlHrT7d2UT5E0txU2RhTWWBq2SU01g9VCQPdhAEBw5SgpwKmWAAGpAAAAogGemHRCfwJZvMJsnvYDW+onl3qH4ABL+BGJe/OwXxz+OsisiFxavFIBGWZCNSmuC6wtPS7PdqT4npoxOKDqstSvUJBdB5tpYpfPIh4+kCu28/0FyzmK0Z7rL21bt4qQOAEKKbUae5N0weSpT2gCBcskIjfsxK+hJMr262pdx7+ru7JQfNH7QQuHZQdODgzQFlVQKkcOaBybJ7UEIxcplgABZQAAALYBnppqQn8CabYHqZ7JisAgBqwVMlTHkPQJf+RsatQ0P4HweqMszwEHUDI/h9uoZBGrOokXQdmTs4l0X3j2I9bzpmrInp2/IABaKHREoXnBYHu0GVdoktirS46nXsJG2cnMGf7IrmqTe2aYJ6EtObg5v2DNJ4iLAqdqUP9oa8VylT6GuQimfy0rYX0z4FVOKCAAUTS2gpKGNxJv4TGlDU+UiVHyqbrD2ml2J3a4pTF40fNZYAAEXAAAAShBmp1JqEFsmUwUTCf//fEAkKYTHno7ApIGAdA8/AU1d9vfuPYNJqBT/HqwLcDZiA31rXpRSxeAwc79ZU/L2hOotZEOX0ykLsmqvJje2NT8TQWY4Ln+3m1he67pu8gJfkPnnMUX9Oy3HYLtFS288BT0yZ9MLhxESLw9Ivj4vryBru8ZkK8OJrKXHYu9Uv/4Pe7Zi/kMe+qKAgAyjdVxwUbfjKR9SM3WuR2Y4ZGt5FqK//k0fvYUGaTaxPaECUKwr6xRo6sl2czN2/GG30tUV1AlKJHIRQd2N+PqQmzxaUqcuJibFu/NmX+MUXNGbbFhTA/9wl6y80AeOScOAy9N3aHdTAodee/S7RJ3//lWqLio/UmvZD21FX6aG4eWRNDpEgC7Xc7LdT9HPQAAAKcBnrxqQn8CaNQo6KgNjwWh/7e9f4NqbEOR4POgqQjfX5HX9zYF+kEHIQywHXrE6+N5vZlxk2ZLS9yr85TvvSqSJIAC2Zw++chTLN1phRix1X9cVym37gJIMZYZn0uTiL9OTirgT6AL2OocyU6xsL35uEAlVbvI5gxWOpd+anFLpaMikX5qKDD8bzFmlom8t7jx3dS0YBwJM7STFo0BioAMP+uaWgAC2wAAAUBBmr9J4QpSZTBSwr/+OEA9ZBC2pKZCFofk5PmxWK0LgyDQw+o2AIvAnT02e4AESkRN0714vaGQU/ftgAGAzBqt6UlB2Tjf7YUfwjqpwfnt9kpI0wRNnk3+1EbsJaJxdHHSxBYnkVlqQv5NjSB/6bXfuiWaGOxSdu9Z624i24Ujq/1yQnrkf/hd1F2Fbn2P05LFZ63gAbk5Jk6kHYycn7/e6mf/gbOI86xSkXnD8SjpP9nh2nx0ZwkoxbW1tw9HrO3BvDOLsC95jcmE1p9bV4XROJWmxpWpUF3Dwx8BqV2SR5xFDe5qdLUK0c6D8PE2nUsuqXyX3++So3a/Mi3P/h8PbMTdpYyyX6bsTSagJM9IKHW0OQ879/woJAEHYPd+hiNyaLFfvFgXDC5JZxWgqT/ehZOIc6EfzaEOaWwluTsQ6AAAAI4Bnt5qQn8CeZs1Poti4BwNhlwG+ImO27Vd2SwcYthRVvzkBeX5Maxnkuf3a+L+CKfDOVh1Mpa6OEASMgVFNzwT8ffBSkqOJG6aKU3swbmI2KWtlSWYRDvfcWCqMTtSE1eMPupIfMnl/mHUOy2rYKLkIAA/SOwPCW7RNx46kIMkIe8nQOMRlfeclm9YAAd0AAABCkGawknhDomUwIV//jhAQxMcEm1JZG4apLhuQaLKkI42mCQAT2KI+LuoIMkRFHhNVImyvY03y9ByZdIdMbgYHTp0u2EAVJoROr84KV4QQ1hIdSgpU8wO9P7xRW26u1dK5SW2HcrDv2lABfV6qGPgeapnYjU1715chzq6Yrqbz79cyqbSvLnPATQp//5Xe7TMCpmtUOAf5gH4jebtuicIfzFD4BNDzwYO0OGv9vlHx8/ZcfyJCy7QFJ1r7j+iTJ2pegw9psBB4T+UqJkQtEwjR7++Fx2OV0NtJFhQph8ioSNEk9ogRrO79ay2pJgUqlpZQR/sM1SgXMG6h2YIx5HT/3VB2kM0J6lVfs6JAAAAqUGe4EUVPCv/Afdq7n3z2zfkJbjN+nXPMwE2Fq4nkj6S6esRyqvEdHBFCaqgAsu6VUap8BtIpkyCSDO8e620ngvxxtCsB2gAPMFegVCIuL/vNXzGcyVcHx2/ZtVwJ/0tKRf8evs4o05q0KRglfMoWMKp1oji/0+dILPJf+wDesm13GMRVqOxYF0nGZLloOfCvmgABFHCZ4cehLNcIEp9vl3BplTPnCAAoIAAAADIAZ8BakJ/AorcRTjMPXwAJScmN6Pd9IL/Nr72sT+4ey4i9Cqxu2xw3zAoAFoqnhIKRPk1Dbl0PKOTEHynThFVmqQ+Y/SD4pkv05KTSXJVcvGqPQrPhcF0EAk1V/J4KB4ycki5UnPmvUwX1lzzdpfOCT15YIi/dd+scm6nbdDHmjaLA5TrOw+bNGZo8N3hVxrMfV8/eyvOE/elQNDMOU+jG9L4qsQbDRsOM/UPtzCkyJz8NLyXkVljuqPVq9H5/y9FzejJKAAAyoEAAADzQZsFSahBaJlMCFf//jhASPl3k9Kr8lpcNujfZUhB6MlfZDZ8XHcwa3x7C1/spuLUNo65S4BPmjqsMrys5tUP6gE/lB5cjY+cggG6ZEsZrioqPqf8iIKmjOQQULXcf+NHwLy7J9Emj4Cd0PtA1qraPWM1hWigQzv+BNhmqGEzfU9+xjON9V/6J1qp5jOsvpT4gESjvdPftyARCvz6VVo9wAwVAeq8LAqx1uXlJOLLGBcD8MSk2jJ6mTlaHSA1iXXiKR3LnGjp05k0p/1OgxqWZZKkepP3sIPSX6MNfugQDnNy6fNgJ3HOtKdcsa2dslOrensJAAAAtEGfI0URLCf/Ap9HTCIXHmiKzaRIjxW6vb0NDXRQiwI1fHl8fAbFSDX/2yfq2MYOovpSnBlq7/9gXgAMdn+pi4NTpNKF69Iao9e0HRsWBTO4fifFRaiHIExqXcFC20ZU9gd+gkBhHB/3ScY7m8kUAFaamqs4ASRU4ODbhEuiq7etIBb70Ex7TarRjDkzFw4o2CR8ecYvJVKB/7t//CGq97URqA5g96ctCN0klnT43SFUAACpgQAAAIIBn0RqQn8CotADETAN2XPwh3w+UYrAOr/aNC4QezOHvT+EcxaeDgJGAw3gt4YnSdq7apEAPS6UURfXUmTyboO1+f9blNLUjYCNvuZ6Ym610DcPsydoRW0tvWHuJuYIpAZE+wHyUncrU0ecJkHXRw1sKv3Y+8jWTDSeOkocHFKoAAE7AAAA+kGbSEmoQWyZTAhP//3xALd0pSRpOoCq4savQBvNVBrvohTOFR0w0h2HKi7idisWcQA6P7CKDlmq9EwRQe1xMnYNQzkaNEYVNS/YW7EdQHkKjeCSyhXhVeHWRYhSD+P5/VF/V6y2dG615m/0ced7eBO8PP/9/vdEyO/AY3Dp4ty/wDcPAXKah/+QrPaEGBXDmBgvHb2waKOhkEqhgtsbAfsicACtGnYOktgFXTF6AhioYDQ0N85p9M7grt1MNXeowfg16wxTDLjj8Ti9ABl1tlOCuvZOOuG9wIIyw9tPiAEvCmwHJ3lh+x3wpgsO8xDop8k8wKGd4ZFuNokAAAC1QZ9mRRUsJ/8CtUdMKD/8tmHObU+yDIBT3uHNTznnkhGsv3+TzJ6XPQ0mWjXHKqEcHkgBTvtSCPnxyGQAkCQAwcAl3COHgVbj4euAw22Ka2RTT0gkNmhA2QpFKNdq1rSDhy1V0GPjlq5KBNCwOe6wn/bkSGcH2zcuTHrP+QQZm1ZoPjfZyZkNTEpNJHcNHBycpMnGZkhq7oTDu/xnNMXv3r2N6h4xW8t0b+TqSQBl+vvcIAAd0QAAANMBn4dqQn8CuM95Bl99uDcIfRh/hTpZFwVt3HHHue4sRpEtcjHgAERukY128sXNN+PJO5sZnLflU4BIp1gBYGTBMRdLEROnwAQhURcHm12aeDhv2e9fPI4Z6Us2kdAoF2nveIcErcm7tiuUS2lXKUlgD6SE/lCWgsoa2OUbYA5gRQZR7rdVyrXXiRmoZ4CiLBOHvfGSHIjHPHwSG3WGV5sybwkSbU6CWyCIfEFnVxGvlHs2Ja/0d7YrnD9c8h+FAVAzUMZxegrbGGwinJL2DKEIABBwAAABMEGbikmoQWyZTBRMK//+OEBYjcr8wam+NC5F0SndtQLfu4HBeBSVbwA2qHW6d6zaylZTu/iVzcx9g+sgDV9ljPCsgxYJl39gYhbIN6Q5Aj0g/g+pqra7cMZKIA7Bj/XGugRz6tX//Wz98F+iedEIRU187/3oEKQThS1u7juJV+Qm08youZSCH2tqFCMPejiLPQmq/WFcLoHWpjvUUnnzlhVtWfYSv9p3va4GE6oat+I1Rx6O4YfYM4vHqtOL98mCDF4dzclfd7UuIUpSNQ+nMv6klMeUfQE3lJliMMRRzXDxmxPbcNUD/jbkODXLDoFpuqZYk4OCY0xOiL0Q27E3YsbNROkJYO35ZaGD+3wp/o5eCO8z5Vx1jGBYGJZGUhoZrCSE+hUfp7NiLeVvElRIFuAAAACmAZ+pakJ/AstHO9Fhs0Tloo3UuyV/j44cM76Xt2rOicKIeg2IX34/TJHTXtQ8h6poXlucq8UqIl63UKAFb0EPD3JXLJoSea1bSaR3fObczqOUBUtn+xgBlE4FGT5R0VbPdRk4Ohtpq2woaRe02cAJaYQq8f1rzTEqa96dF8QhYQWNzULjntyS297GaxySSWt3UjeA7/lwz/C9ATB9U8GMJWxuwAALKQAAA3JBm6xJ4QpSZTBSwn/98QEa2IfeQPLA7Ve7Vn0RVhoAAAMAAAMAARj6a+BRn4AC1sb/m66Ct74JsmLJ5BYhCnGsX9atIBSLDrGZaehyrSkupnn/U9kqoZuQqCHDR2DiZMUoiPih75nalbvbtfCgjuw4v77tb+Mgh4rkj/QNRGBYMIdAbcnFOIAPTsZf2dbnMIAdz4yHDTxa7O8ap3PSmoQ22Tn32y6GA8CYPBsHe3zMvoZ5/eNWzYaVl6ZP5pv5DtnSRK6UrIxPheWCwsJgSiTQW1do2+6bBVNNCDhMN8CwB/9JCmDLECB6U0iTGhUYxg5yy4m+Nz1ToXoVyCzEPs05T3qO9BZCyMkpqjmMllVpY6h66fzVJwpzKkQJhCt5VraPe4XilVq5kYt/llSoT+/VNr6uP8ADXpJspk2fPe53X5i2ABbn+cqjymOxOrAkgWjsO231nc8rqDGsNVAO52t3lcGGD72MzT9pWUt0L2yQYKpcQCxBQkwa6cjoWiGkgPHly/Mqu8cq5uJt6zVzoR0IR9wFn8TzVx+dFEezifTHM0KzoZ0/PTtmG96nXycPhHVol6vkdZNM1DtapXS3sODIklFp2v5Bpxv7Ig28jYR+i6cr4bzSPfiXUgEtXyolwCsyd2hBlEC6D5dafM7HSN15JT/1/jB4m8asg6WbidSUn/4Uo56MxyGFz+MLg4nLLDgJ19rL/oqt65ai/wSDLV0f4iOXNh7OBhT7JZDuj2YwlQHR80gkQ1Vv928u9uO9YJFN0LyG/+vycttHTGs3uDxlY4Z2nQUMKvri2gXy80HufBJ82fXfcdNim2nb+77FOBdoYm56zTqnsnmSF4n/OmT57rioIObFr3T4x3WPzIe49IJWOUToY/O9/UhbWrzMYPJlbogRXePDcnCS0D6vprPmaeV4iCsjVnorbFmGWgBKKA6fPVIYyXvPIuZYF0F+PAsdCb+qEFDobtYI3FgDrdRi/bwD3YCNYwLp3xopWuy3lX9a95wyCGX7fwt6Rn+8lax+FuTkH2d00zwKaVjHFt1t3Ibh4wMsotaHFX+fPexQXfr+NOVNfrRNyDmcFIgqbLdoHULULamZDGbG6ctASKzmxc6/tvLyVmm30ZTo2n3Buz8F/wJARKBT0dOmADOIz9hBCOexw6yqjIEVKoBbY7CLlMAAAAFhAZ/LakJ/AxCIYmgGkAJa1nO6hAcD/8H6NKS+lyNt5pSyODKmLgT1QVLxzkOhh2GzCgwYC5CkWUtULebLaEu4huvBwrVfMJACGZ+mlyF8AN2zmOXRp1q18y6W423XpLMdi3EtPUQVAGp2jLMh/+61u7l2l1YPJ8uE6BBxIlFtmxXPFX2WfR8JcGF4lGM557yHyb35WxeRk5LM2oHb1iHQoVH2mgi1A5jKTIfdEah8sqC2lqU9TuJKvsRXaX0Eh7/B/lbtBf0LrDSTfUM9aNv+X2wzsufeFxa9QQAocvIlIZjIsv2pa8RTjqUrmMkQE/ANrzdSW0FoS5SFSkC9pDh2gVlD9hER+RYmGw00/pfm3oRo3yxEHKCHdiaItlD3Kkno3phRMONc4dKcCsYVd+9OCMxbk1jWoxTp3iKW968uTTG9yVrjDUTTgBurmIGL4qt89V31D+0QMM91rVIFjhrk0YEAAAPKQZvOSeEOiZTBRMJ//fEAKB7EQTq/ouhdfhEEnu6+BXAAAAMAAAQhY8SvlrrZpKzVQBxc2448xy2kwgYswvH9S0X+Thxsv+33UZHkDoa8+7xf//PhX0jt2b5RWiO1OSg5rssAi3roHUapU6DrlRD59GQhp9HTfzxWsGG2zdosSY0a/aKtpY7KQFHeGpOx2O4dLNRL8c44Cie/XAKo8vsh4losJoMunmzKtiMXqlBbTT6CIufAM50IOQjtehMhDsJ7EO0s4rT4biSpZ0IjCV1n7Vhjk42e9TPMEe2BHpjZE+chy3XmelR5RIT5Lx6h/DyTRjs3TztyUC2qaaUpvZw6oJgMc7qoOIybLzDI6ipGYi19A7w8bKkFlee+zEwrz5Jth83DiQRDAzaVQCCUrJzDqdFtlvzKXKx3Jwy9Rc4ummmEVZuA+GNfl31q1Es13coLvwZ8j93HECaaTKrXWVxcEa9Ka4O1TZXpfW8L3fugf3Y88ZADR6FfVO0tM65uujV5G0cGkoUzhuxqsMlxOgsRLWq7wgx1F76Q/3Hg4z/tmpDTLT804lEVTmv8Hylvt97kNBCvy6PmjYlOppXJP6ctyj6stBjYtPXdGudZf8N8U+UNFU+PPQrjrRfwZiMUP3qloi/cMubH07wqesGpEB//RVIDXeiv9qINT6b/ABD+3GD3SCeOmJB4OoQhFHYDkkjjz5GtpkCStAMRA+Ftl/I+swxqw/Z4ohv69Uu6AAcMFbJX/eNtDS8naSZS5H92H3zerdXcdrQ77584QFnwzfyaDij6rBjaKVKF769AZbesKTv1jgZyqltX3XtSvdvZqHhm9mih8awq9clm8/7DnJe6s3IuqQr/r8SCMcIoK24ij58zqVCjM3rL4BtTV7l/yCrCvlODl6MBY9Tp3/KW47TehrNP7pWeApkT6KQy4hP82Xx7Kej69oTkQjshMWk9ktY0KwnEokKeSaqnVB+U5mO3biT6tF6ZY09+W5mzsKDgMQ+w4XFx+js6FoSEWcEuolAJTNeRR2wESEIVWwoqanfWWiB/VsOZR+6wP5ZICAf16Rzd2H4uHBT+iJASzq1vl2sMSEua7qt04yA8IS6PKgvVyzbISmrzVmQgY1MK1bgTUmNiDN5bfR1UhACMkNZgylLWJ5Up0K4a/3N3bqC9bcjpDYvifXHMbv8nL8Jnk5/WV0bvaxI/kxIaQl0srGjjzALbgZmr4vfQ93110rgWVgNksOthtXhXNSDiN6Rgo/5loEynX141Qg6BjBqn/w/CWVodtDAMqlVSmHC+wQAAAUsBn+1qQn8BHbKUezM1tcvGg7NV3yoQ5EQziIhb2nG/itZ/07GHulCp/GKVIopc6y61vp8vuDxGi3qlSO3pAWt3aUChEan55PmCSEpkr4RBheYys/snV7qdy5pijeRpo6lHZHUcWkAKPP+y2AF02t1bVgm9Yq+NxNNbf5Xlazq9sP9vO+LLw6b3ESMD/PSnFoNCkuv9nXvqQijn1gKvk7rmVgjb5ptuq0aY2I48C6Q4X5ufih8RsvQS/CwWJ6FaE7OWvSGHnbS+4egc40OP3BnXqim8GUp5qeYrBt/HygfDF3V9uOLvkC7NItp1to3Yyny/Mi1V/rZo8CF9NRhWqS1LL4nOL3N22icwBiDoJZ6XsBppy+W8nio047vTX7hDQpZM++UWdDNaBgXqIEIKpXy3YUVagylUz5WI/0hadBlz7HGc1IODMMxZmgEHAAACBEGb70nhDyZTAhX//jhABh4M2apppvNrSRn3s1elXwA13F9hub92+kQZtJ1oQkfpAuoKENvtI61QCg4c8whS5Mk9Xpikp6CF0wQj9vXVb8Ympj9c64+DlwH1V6udGNggsVf+BNHSVVcHsfJdbV2ATEdymAcBs/fatJ/Eod/mwuXxcatBzRumz2u0mZzUjtf2t8KLAIlbIQPxVgy3csDRILFdRiHu+LPT1ayhpX9lhbJLFSna/yo6Fkl5HfBBw1TOL+UAlnwge3GyHqedRnzSAAADAAwOqKeXwRyBMp9NaagtitqV9kDgciy+vLh8gD+vm7ZpNgQPslBnAKwg3HoG3TXFooSHBsiSO4pslm0AMe1g6EWYCgVUhQiWY0tsuN2hozXbT+3o0sWW1dS6fkyT0rs4vGrXhdtSBMPW3T+cHLXDV15BKXNwK6al+/QeZk5ncyWUdhRRZFQk3zy5MQxTmB/PaGsv8KfdB90XYHs1brU3NtU0nVx40aVpUktAzk2Vjh2e7K7IZ2WKg7dk9CpSyANN/ZKDlph+DcPOqwunGGxAFyCKpkXgDu6JW65+9ZG7BqaKYkBYUCDh7tmz+6fg2xNCre2xAxAzlvD91ITT2CtyuiFL2/aYIr3j/MTyfYrpon7LeWn6wQodr0/BjI5BWyL+Asb8C0znwXWmGD40yXsLY8OsfQAAAodBmhJJ4Q8mUwIT//3xAA7SXa8l7Q4osT2t4hI9Ts3EbrogXVI/O3RqLGKtpeDHIiJfUJl6L4yQ/oizDNyx1GITce8OO+1ZJbGMKD5MgYtgTYHwxh2Pxe+/29rNSiY5+itRFrdF4juP8h/aBX1uIXix062jpu/g+1Pr18Gb09QsxO+UQ9h2RzAErRu78scpFxd6DZSCqBkx47QLQFiMik3QoVzEWl2XEr/M1auLpOi4uBfKUAwE0XxynM/D21Tn2AvkwLq4Kj116W7zfoMZMfjUrEhk26dAnqt/wkP0xHJkW2fsxHMERmkBqUjZV3KNl84FBEpEOI7F0kMBbr5T4lRdDctvG0MaMNwHEmQ0IJ8arP5V+xd7vJK3cqUvKg5BVT85QBxl1NkOHWghZGZmK29aMRGKFT0wKOFRIFzdxGvGz+OFiMJ/CpTj+oY5mEonuI4w9Q95tnHWNqrDOjIE5+INfvPP4u2qaAK49W2wyc/g4UKqTlKIi5RQtwcCEKHH1YQC7xyKd/TEj8BPJ7cKZu9QgB7OdXTe70k6bd7EEO0GMHJxXiSYVT8rQb1IJtzAIXCMxNEALn27ACBw1vItPDjCvEaaC5Lec3bd6M08T7mVIqegeM+/LP/oAmXCguc979u3vG7EdElZLkx8q/7NNvZl7hx6afCwe2Ln7Ijxlq0WN3JNXUc2w8gzJHT1KiEpnWH8iIjk5alotqGsU/zv3tyq66XaHmNVzwUwbm4sI6rUtSqNVO7NRhXaz2pNjwM6NBM7y2Gc+Uu6OwH/zEY6B+RU8tiQTo3unKVDzt/LWdjGL2O4zNUoinAA2AFwkHM1B087NjyhxUE/YXOsOaa5/0E0g5QhWuEDkgAAASBBnjBFETwn/wBsEWA8B2O8eyaJw0MXoX+kmwZQoMIqiWfCtmSrFAmEz4M631g/8LelkaT4wJKP0ero/qp94giDr3Uh/ZGej4n9GgP1CA+OFKLeoqIjJdjKBsjxLrtcagv5bVOdk3DbCRast2TlmOYKW9uBOK2/cZzxKqNOtX+eI4/sEwH6yJ9ETT2Oz/SY2AQqwVOBxGX7cGTl8toGWe/DNUm4nk9M6xozdk3LqzKselPYbCA30+6tM/PSzVXHVVT3tFsv+m9x9M4K313G8nqskloPSOZ9TVV+abzxg+q6JUFoMzo/scuca39EucpwfzEDyxvnx1XAW1roxsgOdJAZqxmoX8P3PSnkGrQuwdu1Aa29+/ywWwLPJ3bF4BStA0oAAADTAZ5RakJ/AGwR3XgO2lvH7NNwi9ACyM/yW1Yj2Lh0oGv4sPU/3mumrs4YywfAckRJOb2xFLaoFD1DYxn6TRF+Qh8h7frDzL9MgMbLNRaDx1g3LQzrFpA+xKcQClEjSw9Dzq+j30GuknQY96rH5AHXwLn8f0awQAjU/er/YbteW4BDdVfxzXcF06kZRJljDuX1h8Ap4GfBh1+bp2euk90rjnSuuJOYRm1ptInThjrSZ3yvXcns67o2Ob6rE7gBHgu7NXKI7REkT/Ja8Jksv5o/3NrJXQAAALZBmlRJqEFomUwU8J/98QAFqekW5Inejj5unGengA2NWdRg143DIKGUmbYIDJmIdZAGrmnZD5OWQnVh0z7NqPr3RigmQBCrID2fu+e+NX1Tv334erTZeVIJRXGFuomCdNfvm5Tn0JW1+3DVR+nURkbbIKiKduI8qk3ivtQ+Zj9lEpc42by29bsL6//U1M7ek1NRiU7HutOkXE68PiIboWKikvTohcFG7V9g7HzBnlOE6s1dsqxIZAAAAGUBnnNqQn8AKPVBtZ8p87t9w8GKlH3aKRNjiX2M+n0nmSYBwLslYDaY3rI4giN+L8uso7sfyTOKS6o4Q93WRD/BUXwYnT77wRyVKp2Q9BbjWQ6kbXHS9MSFwqSuLDk7bBSdrMArYAAAAQpBmnhJ4QpSZTAhX/44QAXOPDob2EKMgBfcWJhsK3LzAYev3t1cOrDlyFWg4+YIHeKQ3smqIR2JfyAMHYOjaSPuPct3H0R1H//nP9KXQVCEpWtxZ0zP/FSFPkuPuEUGUuOEMYZPD9lQadxYefjgoS3/ID6xzoU9IgP1pWpUcUHpjZfSgaGhrUTShxHfGPsgB4VuzzB3Gw38uzJzu95KBmtFga6t7PLrcy/v7LXfboh2RftXzKNGgXTA8p0wqIlAY0xsF+/RkDIhtKlvLbM/wl56yAzViH/HmIxc2hG85HGt7L6EzrOhrMTZx8HAuEWQ/8EBAFjavX0d4CPZrZ1ZBkN+kq0JzAvybKYqywAAAJpBnpZFNEwr/wAfFW91S/K3Pg6/JdQnVo8TOCzbbmR0WFW05CAEUAKqdC7bGaaJTvtBKFTTusTWGhlU9zXQNHe7UCd5lmD8wEcMgik5UQhZpW6eEjTh1V3O2tX4+dvmgZanVIjjwVLnq/Qxl11BRzVjCdSthJjtkfn52fWurawCy91072Ji6LWf6ItppXqcDMacrafPK9/eqOaAAAAAbAGetXRCfwAoYx8aRY5WYHteFRs0sU/m4aMIcxWXQcS7Wt+UQNSrQtD2ikCZyaFwax+Eo6BBWSdPDrz2tGOsGN5ijZYHFHH4hmSQkV1zqVDCaHUtiTSnE1kYP+C5VuT8Mht2mrpnnH0Q0qAx4QAAAHABnrdqQn8AKPUzuMHboYzt04Z4KrWvyqgoa4Y1fh6sxxGf5VY1jKsiiL8UMmL7WzZGCLnNx5YWktFNoZuyIubMdpAhDJ27RghfNcb6NzfgyKjFDe7WZhPFQrBiH+bmMIHkpBR84zuSpTK4l7ggCh5xAAAAlkGavEmoQWiZTAhX//44QAX0+jWPMrWe3VGQ2Mq+uqEBBgY9uJbdv+AuLHYiZdDK7Aye2HdfChiwE49J6WdqDlRkacWozmSNBI8ulCHcz4LqpSaa6j3rTc05Q+SFAvb/dfbhgzvuI6QY77fFIKYPdeFGWUIrhzUjbMMwHAPXuGen2eocjerCHCJuSxD1DPqJGIS5ejh1YwAAAJxBntpFESwr/wAfEeYdOtKHHltDtckkMxl0oEUmKff4r+gA4xI63T4dMH/+bK+PzlmCa4EfjBQhXE4vqstE2sOJ3t5PatfpilXOHy6SJre/rrXNt/g+c4ft6iqZBb6aQuOFoWTivW3dJLm/YCBMMr7uRThJvdxc0N3TbXWdVc6E8TasK+1rhnmm0KyeWb6wRqo9FDVXa+wMLK7nacEAAABwAZ75dEJ/ACjqYI49RJPfaQnWxMtl+KL4RW0fY/69XNSboDlwsv+brF/aHngJlpPYAeVWyUrONYNnjh+upLlqQVNcjsTklCC/salinscMGSRqGF8T+3YrIp4VHajhQ0u2kJM8Q/IWpz8B3rLbwKBZQAAAAGIBnvtqQn8AJ9cWqLTaHxr2/zbM2Zdbwihbl6hJTs1szrWQXgccQ8WwYApCsn5/DpBlUPRxuG1w7ufkbVOo4Bfynsc1NS/627wVQDd5zL/QMaJmZFzSHGCun0ujbu4tgtgeMQAAASpBmuBJqEFsmUwIV//+OEAGHPo8NeW+uH+IyJgxF+dHY0RNeFSiEefRxi+eI9thRIBVP03maDR9YtwZPMwZqMGk3+hwrbbuCQa0ZI2Db7FHUvZ1oEt/IWGekzVxFv+nSae0Sf1Hnf+AiBNrvHJkiGuHA50tZlyi+Gebqo6rKQJMamRE/YFqa9sGJTJW6TMYmUbssD2i8MU6fQ9zhs4jLaTmS+zCMCnh9006Er+ghPX23KlXnXI/Hy8wV6dNQhv/3tBd8y/EAQXHi82buftn3rrkXaRmftSmpb9SYF5ugCwAEXVBK68aY+kPXZcktJ2J/aKPrMHSrUaxHIiUx5hlQUzcOiEkL+zL2NOh9jdTn0+3aEdYzjbOrhhU/uK0V3NDH03KVZYQghaN+y/jAAAAi0GfHkUVLCv/AB5q+AHOBsH6PZbymK8UzGjG0DpqxLom8eqaPB64Z7UEfJAd7FUAAc9UPN9clADdcf4+reQDgl66clSngWjCZN9z/NWk3UXE0Tso5chY6Hu7X+HEXsAOltQhVQ570M7JkSZCsU1UQs+BuGrCQOnody7Mi8GBiRHBqARX8UuALAXACogAAABlAZ89dEJ/ACfI5EwSOf2qjuFGGFuNQ3g7ClCXas/fbC+jEKIFFIJWoV9ZhNePbJv37YMVabMD8wkOz0j1Ya4Jo6RPnEfYbWAI1EmWTcP8000taGPafYZYxQ70i1g/ZBCZYwSkDUgAAABrAZ8/akJ/ACfXFqi04IX+EJltmsemPt+uOh0W/AjKlM1C10nJFh8p/YUxK19+/43FJo6kcZKZnI3AwLH6nq5uogTJfkhHx3PPTZlx4yEL+ZmisAcEUTgNnu4HMnSi9PztjKx5szWVeBF0TYEAAAC3QZskSahBbJlMCFf//jhAAVljB11jYvTe688Z8lam4qnw08BXdf4wNk2loWYEvZqoiwPflHPP5QwlKEa+XoAX5BCXltmsNZam2PTpdHt8/8KMeQC3cVd437a3blJKDOfehi0IZUQ3h+ior9m0zj9MR1VM3tZzEOf8lYqvaDCJaoGOM4AKpIj2V5NOu3meAF9c7MjYBwO//Pc/5xASwFqpCH4zn8d13f5WR26EF9+80bRI72LBfOfgAAAAj0GfQkUVLCv/AB5q+AHOBtIh0JocUq/neZNMUyok/YW1a3ZdHhm68o7aG1ZK/Pg43hpRQkquQCqMjAC3juSogQ/dQjBqHUF/FNsAujfPqQWlf8Uee0bjEVq6vu2CyuAm1gj4xjmaKhF5d+CnIyzx69zUib7AHtzFTvNkgEqrj4MhalNFiDHbYGBsyBqLzpCxAAAAfwGfYXRCfwAnyORMEkGZEmx1v0ezkQAN15b9I+v8VuMN6e0fQQ1HvCaIxMWvqUhyZgXt7pNHuT7KmoJ+QC2HCFxBi9hKspmlfS1ep2jbcH+zi/T06RXpgo3FZkGWotfLQF5wvRTGWHouZvGa9WsoHju+V83szkNeoeb42SHs90AAAABXAZ9jakJ/ACfXFqi05JDXRLLeVKNBYg1JeGUfxg9FOn4AAAMANHuMBmed5+7tAKPTI4s5iwAAJSmxlA4p5om2g+dh09SuqWnS4OqCuvhVznkbcCoAE4M5AAAAtEGbaEmoQWyZTAhX//44QAFiUVXNnpEoA8IlnvODTufPfnG/mv3GjI+uI9duV7JoBGQ7jgqr0qcsw9dg/3YdtXnpLY/06RzuOkUUm/XKUwnnRlzVJriCtxvSns2U4sIltxpCzJUsaPfFPeB7MP9JcpJYV7fWfeywirkDOMLcIARQ+0CwusL+iD1SGMSWvVY9pU6+xmPzvQcgsoPVbYZCP1LC4tYwy+bPniXvoZY/CSH/FDMbTwAAAHBBn4ZFFSwr/wAeavgBzgbkxBzoSwpU+3F6tTl+uJQIs4WrN2gMdG9kCi0dtU4AL3SpBld34kdlMPcQhrzb3t3AwB062Zio2ps1k8XkRn9RAv2vAJoimv/Z4mpuoQ+TmW1ebAFAfT3FUKjhC4DEzngRAAAAZQGfpXRCfwAnyORMEknNEcuXGL41NRlyrWxogYDyndBXzXu0ALZ4romI2j6RT/Fxv5loWuXC6OwF8QHQ4zEwfsyWWOa4OCpNI9+amHfq21sq+2NJj2Ozjs8IuTW9udObJxHu9BsxAAAAhgGfp2pCfwAn1xaotOkbHzwLVkwFNrOKt6iHSfv2FadAJUE+g3WtiwHHFay7DvaqdOCoG4MDB3lIl9Oobs0mgA4sx0RKSBAEzXoMhaNGhrKy3p6Mt0BmPD3EekXNd22yBtDx/RqNivWsogdNd8Iec3dQTIjGnMMVCuzc7EGxS983t1Q3IG7AAAAApEGbrEmoQWyZTAhX//44QAFqjgu+gqa4EykEADZqG6Zq9BUuyWbX+1FpnwHZnrFeeVpmkhG0HF6xCZzQ4Pm7OVJtUAfMN+2LLIsCo4YOHx8W3J/OaaRtU8Hl0Oum8E2DGoexkuVp72hQh0nBoP2w+0SREaXDZl8/b4lnxLFa1DbKpVQS84GYKkudN45k2G6yYOarpNK1g10mxBvOTdU5tKnMrUuYAAAAZUGfykUVLCv/AB5q+AHOBvjEEPzeN6sDRjS7kPHptLumedrt5oh3kAN7RbQMbMmSuqYCO+AqghcFPC32EGNIuGzXEsu4tYo5I7vfO/BgmJKmCcuN0dM4YZ9OAN04L9nDLrWaGzAtAAAAcQGf6XRCfwAnyORMElINyTJp4WPUc9rKdFRSQjE+In+CD+BPfM87L7Jyw/0HFvkK5u9ADc0kwTFROYPfaOglxpb1IDtq7qmli//RoEU/Gd+DD385YcFQNH7CQ4gCJ8V4uYhr4/TXGrW+Su7rV3QSqaTAAAAAVQGf62pCfwAn1xaotO50eqHnM7BEQaGpYqzQIryuY1GsCT+FUWGAsjff7+6acwsM4NcSH8PQImj2SY2SA+6cYIuY77kdUs+N3aELZpnsQU4m1aEwB3QAAADEQZvwSahBbJlMCFf//jhAAXPnEOgD6DCDJAgDMdW5UpTteTj2jCOcH+4FahwK8lOVzoI9oAADFdb9zEk4oTLW81p2A7/SeddxABsI4AB9aWredHY3QgosHXAxgcKAnhAIbdiRZkAAOJrI5oXW3fagaTG/Z0FZiPbcRmaiPKK25DLPNW2qNyfOAX/2PcaNnTD0mWSPCTkC3WC0zOkP/Ls7hJFVwLWQTApNnh3u6BQVdz653LjbvrU7zylW7g3OH2py149xgQAAAHFBng5FFSwr/wAeavgBzgcQjkl4U1C8uCmrv0QjK8KFOP9h/RmZqZlE+eYIaXRxZ+3Cdkb3A0nwsX4CpT/BiMoLg5IgAOYCd7cN94Pu0p7TLAMk1XbnJOspQytaNim5xI0IPJPb6PHdULJ01VCsgFiugQAAAFMBni10Qn8AJ8jkTBJdQPcv1RiZPRRWwqTFtHaUAAADAAGrJMD0G2tgub1YEW8EX8otIzJQAzxArHUOfb4pz27rQIKyJg3NNP3RumG4iE4VTgj7UwAAAFsBni9qQn8AJ9cWqLT0fXk8jQ/KVIsQnMbaSArPojdqxwa2ea5d39DC1WIS/LiTGC9BpmzT2LVqXR7Ugf5PH89DtiXtNBGm1Ual1GTz480TojenjeFKDDknlCN+AAAAq0GaMkmoQWyZTBRMK//+OEABc43K9u9OhqAbM+P8kx/VZtx+AdGRhzlKGbyAtwuGuDJtDMIzKZP4Bhyvh4cF+d4+ovY/FbzrpTHlmLLYuTP/1Ug2rhzX6CNQbPXKSAfAhf1/JIpcQZizbXIWbmYq0YhJH1uFZWYwEagTYfA7zsKbDLCo0uCo+hIXgkQ036e7tkHiF6uaSHM3om0oIGtXG21ACpk2WL/eoMmAgAAAALMBnlFqQn8AJ95zLIwbmus58D+uVFh2zJHzqI6AG5pJgmKicwekUhoE/uHVjWKGvhizjblBSfjYb6cFH16+qhG4PZtiSYQQivrV4mqhy9MZ8jITCgYulUWF1VtDwm0+nIQwEtz61xvI+LCPkmSwGmYm2fl+OjEE8bCRXqqt6C/ZtVMaqFKpeR/sKcc8A1L7YNnEKbStyh+qZ9NWPyhcRpf7Kdh8iIW0MO29MbzFpRRlRtNccQAAAJ5BmlVJ4QpSZTAhP/3xAAOdcXNAfmoNxDEp6N4FI0ZQTeQ/bDG6hwbHFhbvPUlgiyZ+bjWQctL+JrWvsj9f/7jeqolC/sUeeEmcMiwjWJ3sNCU5pZvGzn0FMtGpU3b/YznXiJ3lt9OTEA/uj5C4tJPFBAQ30ddtFmRPQq20dyPUDMI3/6RQb7WT2vwicHzvGXo/kUvSqJsS5qC0Oj1biAAAAKdBnnNFNEwn/wAn2xv3nt83ukxi2tbZEv4Dyx41lznuuroLQJ4r7bFSABGBK6JiqTTGFG4KVJ3Qw6AzU0wUIV128zsmePWMxiYB8S4LQU+8IYAFwGhdQK6LpnMgalWe9VzqsMauQcYfoHvelMQILkPEp2KNLYFUYsE3ad25KFzeZ+ikoV8DZqFRllzCcY2lK3vqtYlTDZxlvDkSxFg0UuF7cIqrHQCEHAAAAHcBnpRqQn8AJ9cH0jBua5+9eABOOPCLkHvPfILi9eaHigSrA/6lxdylVu5LxpKpyXGfdABMiHA/dRscsE+0M8DmKwmF96+kT9TNKrA3sKy5Ovfj4PdRXeP1NKyXBgt2PDLPgjBcrjcNaDwnt+kzrNjDve1GlD1ycQAAAHNBmpZJqEFomUwIT//98QADtIObG93Xr+Ixj5BPPtVcsSvuqRcLtmp2QV11+ild7636EKAQcV044p2uY5MGrJ/Sl6uBjBxRhf1/rXLDgJcdLhSI2stzICr02wPdiXqf5pSB1RT2vMpVEd4xrPTIi/dfoeOYAAAJx21vb3YAAABsbXZoZAAAAAAAAAAAAAAAAAAAA+gAABOqAAEAAAEAAAAAAAAAAAAAAAABAAAAAAAAAAAAAAAAAAAAAQAAAAAAAAAAAAAAAAAAQAAAAAAAAAAAAAAAAAAAAAAAAAAAAAAAAAAAAAAAAAIAAAjxdHJhawAAAFx0a2hkAAAAAwAAAAAAAAAAAAAAAQAAAAAAABOqAAAAAAAAAAAAAAAAAAAAAAABAAAAAAAAAAAAAAAAAAAAAQAAAAAAAAAAAAAAAAAAQAAAAAJYAAAAlgAAAAAAJGVkdHMAAAAcZWxzdAAAAAAAAAABAAATqgAABAAAAQAAAAAIaW1kaWEAAAAgbWRoZAAAAAAAAAAAAAAAAAAAPAAAAS4AVcQAAAAAAC1oZGxyAAAAAAAAAAB2aWRlAAAAAAAAAAAAAAAAVmlkZW9IYW5kbGVyAAAACBRtaW5mAAAAFHZtaGQAAAABAAAAAAAAAAAAAAAkZGluZgAAABxkcmVmAAAAAAAAAAEAAAAMdXJsIAAAAAEAAAfUc3RibAAAAJhzdHNkAAAAAAAAAAEAAACIYXZjMQAAAAAAAAABAAAAAAAAAAAAAAAAAAAAAAJYAJYASAAAAEgAAAAAAAAAAQAAAAAAAAAAAAAAAAAAAAAAAAAAAAAAAAAAAAAAAAAAABj//wAAADJhdmNDAWQADf/hABlnZAANrNlAmFeWaEAAAAMAQAAADwPFCmWAAQAGaOvjyyLAAAAAGHN0dHMAAAAAAAAAAQAAAJcAAAIAAAAAFHN0c3MAAAAAAAAAAQAAAAEAAARoY3R0cwAAAAAAAACLAAAAAQAABAAAAAABAAAGAAAAAAEAAAIAAAAAAQAACgAAAAABAAAEAAAAAAEAAAAAAAAAAQAAAgAAAAABAAAKAAAAAAEAAAQAAAAAAQAAAAAAAAABAAACAAAAAAEAAAoAAAAAAQAABAAAAAABAAAAAAAAAAEAAAIAAAAAAQAACAAAAAACAAACAAAAAAEAAAYAAAAAAQAAAgAAAAABAAAKAAAAAAEAAAQAAAAAAQAAAAAAAAABAAACAAAAAAEAAAYAAAAAAQAAAgAAAAABAAAEAAAAAAEAAAYAAAAAAQAAAgAAAAABAAAEAAAAAAEAAAYAAAAAAQAAAgAAAAABAAAIAAAAAAIAAAIAAAAAAQAACAAAAAACAAACAAAAAAEAAAgAAAAAAgAAAgAAAAABAAAGAAAAAAEAAAIAAAAAAQAACgAAAAABAAAEAAAAAAEAAAAAAAAAAQAAAgAAAAABAAAKAAAAAAEAAAQAAAAAAQAAAAAAAAABAAACAAAAAAEAAAoAAAAAAQAABAAAAAABAAAAAAAAAAEAAAIAAAAAAQAACgAAAAABAAAEAAAAAAEAAAAAAAAAAQAAAgAAAAABAAAKAAAAAAEAAAQAAAAAAQAAAAAAAAABAAACAAAAAAEAAAQAAAAAAQAACgAAAAABAAAEAAAAAAEAAAAAAAAAAQAAAgAAAAABAAAIAAAAAAIAAAIAAAAAAQAABgAAAAABAAACAAAAAAMAAAQAAAAAAQAABgAAAAABAAACAAAAAAEAAAYAAAAAAQAAAgAAAAABAAAGAAAAAAEAAAIAAAAAAQAABgAAAAABAAACAAAAAAEAAAoAAAAAAQAABAAAAAABAAAAAAAAAAEAAAIAAAAAAQAACgAAAAABAAAEAAAAAAEAAAAAAAAAAQAAAgAAAAABAAAGAAAAAAEAAAIAAAAAAQAABgAAAAABAAACAAAAAAEAAAgAAAAAAgAAAgAAAAABAAAIAAAAAAIAAAIAAAAAAQAACAAAAAACAAACAAAAAAEAAAYAAAAAAQAAAgAAAAABAAAGAAAAAAEAAAIAAAAAAQAABgAAAAABAAACAAAAAAEAAAQAAAAAAQAACAAAAAACAAACAAAAAAEAAAYAAAAAAQAAAgAAAAABAAAKAAAAAAEAAAQAAAAAAQAAAAAAAAABAAACAAAAAAEAAAoAAAAAAQAABAAAAAABAAAAAAAAAAEAAAIAAAAAAQAACgAAAAABAAAEAAAAAAEAAAAAAAAAAQAAAgAAAAABAAAKAAAAAAEAAAQAAAAAAQAAAAAAAAABAAACAAAAAAEAAAoAAAAAAQAABAAAAAABAAAAAAAAAAEAAAIAAAAAAQAACgAAAAABAAAEAAAAAAEAAAAAAAAAAQAAAgAAAAABAAAKAAAAAAEAAAQAAAAAAQAAAAAAAAABAAACAAAAAAEAAAYAAAAAAQAAAgAAAAABAAAIAAAAAAIAAAIAAAAAAQAABAAAAAAcc3RzYwAAAAAAAAABAAAAAQAAAJcAAAABAAACcHN0c3oAAAAAAAAAAAAAAJcAAAi6AAABbAAAALEAAAFdAAAAyAAAAKUAAACWAAAA9gAAAJcAAABlAAAAUQAAAL0AAABqAAAAXQAAAHwAAAFNAAAAfwAAAJcAAAEJAAAAjQAAASQAAADQAAAA0AAAANgAAAEGAAAAqwAAAOgAAAI3AAABXAAAAeEAAAKSAAAA/AAAApYAAAEhAAABAQAAAZMAAADkAAAAwAAAARMAAAC5AAAAewAAAI8AAAB7AAAAmQAAAMoAAABnAAAAbgAAAM0AAAB0AAAAeAAAAGAAAACcAAAAxQAAAF4AAABeAAAA1gAAAHUAAABRAAAAYQAAALkAAACOAAAAaQAAAGcAAAEZAAABLAAAAJYAAABoAAAAaAAAAMoAAAB5AAAApgAAAT4AAAFmAAABOgAAAeIAAAG9AAAB2gAAASoAAAIBAAABAQAAAW0AAADEAAABSwAAAK8AAAGhAAAA1AAAAKwAAAC6AAABagAAAOEAAACmAAAAugAAASwAAACrAAABRAAAAJIAAAEOAAAArQAAAMwAAAD3AAAAuAAAAIYAAAD+AAAAuQAAANcAAAE0AAAAqgAAA3YAAAFlAAADzgAAAU8AAAIIAAACiwAAASQAAADXAAAAugAAAGkAAAEOAAAAngAAAHAAAAB0AAAAmgAAAKAAAAB0AAAAZgAAAS4AAACPAAAAaQAAAG8AAAC7AAAAkwAAAIMAAABbAAAAuAAAAHQAAABpAAAAigAAAKgAAABpAAAAdQAAAFkAAADIAAAAdQAAAFcAAABfAAAArwAAALcAAACiAAAAqwAAAHsAAAB3AAAAFHN0Y28AAAAAAAAAAQAAADAAAABidWR0YQAAAFptZXRhAAAAAAAAACFoZGxyAAAAAAAAAABtZGlyYXBwbAAAAAAAAAAAAAAAAC1pbHN0AAAAJal0b28AAAAdZGF0YQAAAAEAAAAATGF2ZjU4LjI5LjEwMA==\" type=\"video/mp4\" />\n",
              "                </video>"
            ]
          },
          "metadata": {}
        }
      ]
    },
    {
      "cell_type": "markdown",
      "source": [
        "## **Plotting**"
      ],
      "metadata": {
        "id": "VM8nZSopbY_y"
      }
    },
    {
      "cell_type": "code",
      "source": [
        "df_reward_dqn_fastHighway = pd.read_excel(data_path_2 + 'Episodes_reward_run_5.xlsx')\n",
        "episodes_rewards_fastHighway = df_reward_dqn_fastHighway.T.to_numpy()\n",
        "df_reward_dqn_fastHighway_transferred = pd.read_excel(data_path_3 + 'Episodes_reward_run_5.xlsx')\n",
        "episodes_rewards_fastHighway_transferred = df_reward_dqn_fastHighway_transferred.T.to_numpy()\n",
        "\n",
        "fig, ax = plt.subplots(figsize = (12, 7.5))\n",
        "ax = show_and_plot().plot_training_result(episodes_rewards_fastHighway, ax, title='DQN',\n",
        "                                              label='fastHighway task with state', window=50, stride=10, alpha=0.3)\n",
        "ax = show_and_plot().plot_training_result(episodes_rewards_fastHighway_transferred, ax, title='DQN',\n",
        "                                              label='fastHighway transferred from Merge task with state', window=50, stride=10, alpha=0.3)\n",
        "plt.legend()\n",
        "plt.show()\n",
        "fig.savefig(path_HW5+'Images/2-fastHighway_with_and_without_transfer_learning_training_on-state.png', dpi=300)"
      ],
      "metadata": {
        "id": "ukmBBVzXbY_z",
        "colab": {
          "base_uri": "https://localhost:8080/",
          "height": 508
        },
        "outputId": "ed43d944-93cc-44dc-f9a7-d73eda07f559"
      },
      "execution_count": null,
      "outputs": [
        {
          "output_type": "display_data",
          "data": {
            "text/plain": [
              "<Figure size 864x540 with 1 Axes>"
            ],
            "image/png": "[encoded data removed]"
          },
          "metadata": {}
        }
      ]
    },
    {
      "cell_type": "markdown",
      "source": [
        "# **Part 4**"
      ],
      "metadata": {
        "id": "fxTkDmYGZmD5"
      }
    },
    {
      "cell_type": "markdown",
      "source": [
        "## merge-v0 with CNN and observation"
      ],
      "metadata": {
        "id": "DfHFPQnPdc-o"
      }
    },
    {
      "cell_type": "code",
      "source": [
        "################################################################################\n",
        "# This part is for solving the 'error: No available video device' and 'error: x11 not avaliable'\n",
        "os.environ[\"SDL_VIDEODRIVER\"] = \"dummy\"\n",
        "env1 = gym.make(env_name, render_mode='rgb_array')\n",
        "env1.reset()\n",
        "env1.render();\n",
        "os.environ['SDL_VIDEODRIVER'] = \"x11\"\n",
        "env2 = gym.make(env_name, render_mode='rgb_array')\n",
        "env2.reset()\n",
        "env2.render();\n",
        "################################################################################\n",
        "video_path = path_HW5 + 'Videos/'\n",
        "model_path = path_HW5 + 'Models/4_Models_CNN_merge/'\n",
        "data_path_4 = path_HW5 + 'Data_Average_Reward/4_Data_CNN_merge/'\n",
        "env_name = 'merge-v0'\n",
        "env = gym.make(env_name, render_mode='rgb_array')\n",
        "dqn_merge_cnn = DQN(env, env_name, model_path, data_path_4, network_type='CNN')"
      ],
      "metadata": {
        "id": "vIyamkmXdc-o"
      },
      "execution_count": null,
      "outputs": []
    },
    {
      "cell_type": "markdown",
      "source": [
        "### Training"
      ],
      "metadata": {
        "id": "vS0j_fgrdc-o"
      }
    },
    {
      "cell_type": "code",
      "source": [
        "df_reward_dqn_merge_cnn = dqn_merge_cnn.train_with_observation(n_iteration=[1, 2, 3, 4, 5], n_training_episodes=3600, max_step=10000)"
      ],
      "metadata": {
        "id": "HrZSqZnOdc-p",
        "colab": {
          "base_uri": "https://localhost:8080/",
          "height": 1000,
          "referenced_widgets": [
            "d02273aee73e43d5b80be0a44f6bf97e",
            "110b466c0871490f88bd7dc927824dcf",
            "bf711ad266814b2ab8f180b79c80d623",
            "5d313941e2d04805807d40c8eb0bded8",
            "552210335d3a4c30be0b9d52775b666b",
            "fc11798d135d486c953018294eec0f61",
            "553ca762a3344408b078ff85c3dbc906",
            "f947fa882bf442489e67af517ee5a783",
            "1df5f23da9bb48059ab83b8fd0480ff9",
            "8856e8eaffd44823b26fe27e7203e1b9",
            "4a669fe8162e48b280405f70505ee4c1",
            "f6e0b87258f349ab9c12ac3d8913393f",
            "b18cc98aaff846e08e50bec65e8a6280",
            "9bffeffa4a22403e84e9546fdde3b210",
            "325b3c9106624448a6a5d6bcd507f806",
            "df174b15a08749aa86c4a497211b6efa",
            "11fcbdf22cea42bba45a33c38581d8fb",
            "6ff337b061cf4662809c4d951fb9ba28",
            "b35325780a234c22b80ea2634c2a89d1",
            "c67b7e53938c487c852fa3fb5721104f",
            "041df9a0596a45e5921cc0dc4555a31f",
            "8928329a804d4431b7ef13b5c4fd4a7b",
            "fae6558d0c9e4e2ab6dfa3c4ef11a57a",
            "96b0db8ed1d74a51ab4beb6d48873c6a",
            "50ba1c154ea349ac818569deed862e8f",
            "70e8ad952b324b29a129640e0ffcee54",
            "e6cf061120074a14ae85350444516d1c",
            "6927e3dac7fe42fca07ae5e4d927fe03",
            "69f7fcaed2f94f6da8fcb324f52a3980",
            "e949a8880e74407981bad62b2bee3637",
            "551c2f7d11da4ecdaa3d917f67de1481",
            "61ee285dfac04bd79ff49a6ee868cd5b",
            "b9b7197fdbc84ea9b8e0903c81013877",
            "e1c150279487477f9875ee313ef9ee97",
            "7c16ae9c265641c388a2c53784083cab",
            "2c8c2c6993954891bbd5fe98f9020de8",
            "67388e48686847d58a42a1eaaa70a6e6",
            "caa2ce43ac07447ab32355d1c927c947",
            "ec09a5b10c6c42c987f9649ce5f8cb79",
            "2d15565be2ae4ba88591a523e4d72897",
            "edca53f43b2944799bdcb7fc17608937",
            "62d795897b204474b04d24772e62ce2e",
            "d178543174194798af368287d898f956",
            "63a077f2cd394ecd816ee66267d42082",
            "1354af9670d54fa8be457489e8fb6468",
            "90ee97751d4e4de79450a14252ae53cc",
            "1b53b20a419d4b50b966a5c81b696d4b",
            "255f17062ec74d85b5e87b0c6833829c",
            "04639f825e9942ffbb16491fd53eea63",
            "32950f1e9ec0414b82c5c914f25d55d1",
            "06c1f7993ac545adb29c774f66839f41",
            "04e6061a2bec4694a75f76891188d60d",
            "274fee79b07c4991a437fd696439e108",
            "35538e83243a405daa0a22c8b8b1d6c9",
            "7f6e3f578678444ea442255f32cb3aad",
            "3e2a046b4e3a4155a0015622376d0619",
            "dce1e591eb1f414db58ecd180cf1296a",
            "4f9688452b4941798b4fb094d5066d5b",
            "1b11134efa7344538a82f262bd43a9aa",
            "a2ebb28c666b49f0abee3144f6cbae84",
            "2572fb1d386743c99c58cc9ae23ec0c6",
            "971f596195e54b94a2a6d98fb5620187",
            "983579b41f204139a0d65edcb9d663f3",
            "8d06e1560943404ea1a1fbf17f71165e",
            "b5b4550898be4d7d994574c89efe446f",
            "f8f702e1202b47069ffdfe011c65a169"
          ]
        },
        "outputId": "3c6a72d5-f2a6-4061-ac6b-a9e4c5aeca59"
      },
      "execution_count": null,
      "outputs": [
        {
          "output_type": "stream",
          "name": "stdout",
          "text": [
            "Starting to train agent with observation ...\n"
          ]
        },
        {
          "output_type": "display_data",
          "data": {
            "text/plain": [
              "  0%|          | 0/5 [00:00<?, ?it/s]"
            ],
            "application/vnd.jupyter.widget-view+json": {
              "version_major": 2,
              "version_minor": 0,
              "model_id": "d02273aee73e43d5b80be0a44f6bf97e"
            }
          },
          "metadata": {}
        },
        {
          "output_type": "display_data",
          "data": {
            "text/plain": [
              "  0%|          | 0/3600 [00:00<?, ?it/s]"
            ],
            "application/vnd.jupyter.widget-view+json": {
              "version_major": 2,
              "version_minor": 0,
              "model_id": "f6e0b87258f349ab9c12ac3d8913393f"
            }
          },
          "metadata": {}
        },
        {
          "output_type": "stream",
          "name": "stdout",
          "text": [
            "Episode 100\tAverage reward: 10.51\tEpsilon: 0.606\n",
            "Episode 200\tAverage reward: 10.56\tEpsilon: 0.367\n",
            "Episode 300\tAverage reward: 10.61\tEpsilon: 0.222\n",
            "Episode 400\tAverage reward: 10.67\tEpsilon: 0.135\n",
            "Episode 500\tAverage reward: 10.72\tEpsilon: 0.082\n",
            "Episode 600\tAverage reward: 10.78\tEpsilon: 0.049\n",
            "Episode 700\tAverage reward: 10.84\tEpsilon: 0.030\n",
            "Episode 800\tAverage reward: 10.89\tEpsilon: 0.018\n",
            "Episode 900\tAverage reward: 10.94\tEpsilon: 0.011\n",
            "Episode 1000\tAverage reward: 10.98\tEpsilon: 0.007\n",
            "Episode 1100\tAverage reward: 11.02\tEpsilon: 0.004\n",
            "Episode 1200\tAverage reward: 11.05\tEpsilon: 0.002\n",
            "Episode 1300\tAverage reward: 11.08\tEpsilon: 0.001\n",
            "Episode 1400\tAverage reward: 11.11\tEpsilon: 0.001\n",
            "Episode 1500\tAverage reward: 11.13\tEpsilon: 0.001\n",
            "Episode 1600\tAverage reward: 11.17\tEpsilon: 0.001\n",
            "Episode 1700\tAverage reward: 11.22\tEpsilon: 0.001\n",
            "Episode 1800\tAverage reward: 11.27\tEpsilon: 0.001\n",
            "Episode 1900\tAverage reward: 11.31\tEpsilon: 0.001\n",
            "Episode 2000\tAverage reward: 11.36\tEpsilon: 0.001\n",
            "Episode 2100\tAverage reward: 11.40\tEpsilon: 0.001\n",
            "Episode 2200\tAverage reward: 11.43\tEpsilon: 0.001\n",
            "Episode 2300\tAverage reward: 11.48\tEpsilon: 0.001\n",
            "Episode 2400\tAverage reward: 11.51\tEpsilon: 0.001\n",
            "Episode 2500\tAverage reward: 11.55\tEpsilon: 0.001\n",
            "Episode 2600\tAverage reward: 11.58\tEpsilon: 0.001\n",
            "Episode 2700\tAverage reward: 11.63\tEpsilon: 0.001\n",
            "Episode 2800\tAverage reward: 11.67\tEpsilon: 0.001\n",
            "Episode 2900\tAverage reward: 11.72\tEpsilon: 0.001\n",
            "Episode 3000\tAverage reward: 11.77\tEpsilon: 0.001\n",
            "Episode 3100\tAverage reward: 11.82\tEpsilon: 0.001\n",
            "Episode 3200\tAverage reward: 11.86\tEpsilon: 0.001\n",
            "Episode 3300\tAverage reward: 11.90\tEpsilon: 0.001\n",
            "Episode 3400\tAverage reward: 11.95\tEpsilon: 0.001\n",
            "Episode 3500\tAverage reward: 11.99\tEpsilon: 0.001\n",
            "Episode 3600\tAverage reward: 12.03\tEpsilon: 0.001\n"
          ]
        },
        {
          "output_type": "display_data",
          "data": {
            "text/plain": [
              "  0%|          | 0/3600 [00:00<?, ?it/s]"
            ],
            "application/vnd.jupyter.widget-view+json": {
              "version_major": 2,
              "version_minor": 0,
              "model_id": "fae6558d0c9e4e2ab6dfa3c4ef11a57a"
            }
          },
          "metadata": {}
        },
        {
          "output_type": "stream",
          "name": "stdout",
          "text": [
            "Episode 100\tAverage reward: 10.99\tEpsilon: 0.606\n",
            "Episode 200\tAverage reward: 10.85\tEpsilon: 0.367\n",
            "Episode 300\tAverage reward: 10.84\tEpsilon: 0.222\n",
            "Episode 400\tAverage reward: 10.85\tEpsilon: 0.135\n",
            "Episode 500\tAverage reward: 10.87\tEpsilon: 0.082\n",
            "Episode 600\tAverage reward: 10.90\tEpsilon: 0.049\n",
            "Episode 700\tAverage reward: 10.93\tEpsilon: 0.030\n",
            "Episode 800\tAverage reward: 10.97\tEpsilon: 0.018\n",
            "Episode 900\tAverage reward: 11.01\tEpsilon: 0.011\n",
            "Episode 1000\tAverage reward: 11.04\tEpsilon: 0.007\n",
            "Episode 1100\tAverage reward: 11.08\tEpsilon: 0.004\n",
            "Episode 1200\tAverage reward: 11.11\tEpsilon: 0.002\n",
            "Episode 1300\tAverage reward: 11.14\tEpsilon: 0.001\n",
            "Episode 1400\tAverage reward: 11.17\tEpsilon: 0.001\n",
            "Episode 1500\tAverage reward: 11.20\tEpsilon: 0.001\n",
            "Episode 1600\tAverage reward: 11.23\tEpsilon: 0.001\n",
            "Episode 1700\tAverage reward: 11.26\tEpsilon: 0.001\n",
            "Episode 1800\tAverage reward: 11.29\tEpsilon: 0.001\n",
            "Episode 1900\tAverage reward: 11.33\tEpsilon: 0.001\n",
            "Episode 2000\tAverage reward: 11.37\tEpsilon: 0.001\n",
            "Episode 2100\tAverage reward: 11.40\tEpsilon: 0.001\n",
            "Episode 2200\tAverage reward: 11.43\tEpsilon: 0.001\n",
            "Episode 2300\tAverage reward: 11.46\tEpsilon: 0.001\n",
            "Episode 2400\tAverage reward: 11.50\tEpsilon: 0.001\n",
            "Episode 2500\tAverage reward: 11.52\tEpsilon: 0.001\n",
            "Episode 2600\tAverage reward: 11.56\tEpsilon: 0.001\n",
            "Episode 2700\tAverage reward: 11.60\tEpsilon: 0.001\n",
            "Episode 2800\tAverage reward: 11.64\tEpsilon: 0.001\n",
            "Episode 2900\tAverage reward: 11.68\tEpsilon: 0.001\n",
            "Episode 3000\tAverage reward: 11.73\tEpsilon: 0.001\n",
            "Episode 3100\tAverage reward: 11.79\tEpsilon: 0.001\n",
            "Episode 3200\tAverage reward: 11.85\tEpsilon: 0.001\n",
            "Episode 3300\tAverage reward: 11.91\tEpsilon: 0.001\n",
            "Episode 3400\tAverage reward: 11.97\tEpsilon: 0.001\n",
            "Episode 3500\tAverage reward: 12.02\tEpsilon: 0.001\n",
            "Episode 3600\tAverage reward: 12.08\tEpsilon: 0.001\n"
          ]
        },
        {
          "output_type": "display_data",
          "data": {
            "text/plain": [
              "  0%|          | 0/3600 [00:00<?, ?it/s]"
            ],
            "application/vnd.jupyter.widget-view+json": {
              "version_major": 2,
              "version_minor": 0,
              "model_id": "e1c150279487477f9875ee313ef9ee97"
            }
          },
          "metadata": {}
        },
        {
          "output_type": "stream",
          "name": "stdout",
          "text": [
            "Episode 100\tAverage reward: 10.76\tEpsilon: 0.606\n",
            "Episode 200\tAverage reward: 10.74\tEpsilon: 0.367\n",
            "Episode 300\tAverage reward: 10.73\tEpsilon: 0.222\n",
            "Episode 400\tAverage reward: 10.81\tEpsilon: 0.135\n",
            "Episode 500\tAverage reward: 10.87\tEpsilon: 0.082\n",
            "Episode 600\tAverage reward: 10.90\tEpsilon: 0.049\n",
            "Episode 700\tAverage reward: 10.93\tEpsilon: 0.030\n",
            "Episode 800\tAverage reward: 10.95\tEpsilon: 0.018\n",
            "Episode 900\tAverage reward: 10.97\tEpsilon: 0.011\n",
            "Episode 1000\tAverage reward: 11.00\tEpsilon: 0.007\n",
            "Episode 1100\tAverage reward: 11.03\tEpsilon: 0.004\n",
            "Episode 1200\tAverage reward: 11.06\tEpsilon: 0.002\n",
            "Episode 1300\tAverage reward: 11.11\tEpsilon: 0.001\n",
            "Episode 1400\tAverage reward: 11.17\tEpsilon: 0.001\n",
            "Episode 1500\tAverage reward: 11.21\tEpsilon: 0.001\n",
            "Episode 1600\tAverage reward: 11.25\tEpsilon: 0.001\n",
            "Episode 1700\tAverage reward: 11.28\tEpsilon: 0.001\n",
            "Episode 1800\tAverage reward: 11.31\tEpsilon: 0.001\n",
            "Episode 1900\tAverage reward: 11.34\tEpsilon: 0.001\n",
            "Episode 2000\tAverage reward: 11.36\tEpsilon: 0.001\n",
            "Episode 2100\tAverage reward: 11.40\tEpsilon: 0.001\n",
            "Episode 2200\tAverage reward: 11.44\tEpsilon: 0.001\n",
            "Episode 2300\tAverage reward: 11.48\tEpsilon: 0.001\n",
            "Episode 2400\tAverage reward: 11.52\tEpsilon: 0.001\n",
            "Episode 2500\tAverage reward: 11.55\tEpsilon: 0.001\n",
            "Episode 2600\tAverage reward: 11.59\tEpsilon: 0.001\n",
            "Episode 2700\tAverage reward: 11.64\tEpsilon: 0.001\n",
            "Episode 2800\tAverage reward: 11.71\tEpsilon: 0.001\n",
            "Episode 2900\tAverage reward: 11.77\tEpsilon: 0.001\n",
            "Episode 3000\tAverage reward: 11.83\tEpsilon: 0.001\n",
            "Episode 3100\tAverage reward: 11.89\tEpsilon: 0.001\n",
            "Episode 3200\tAverage reward: 11.95\tEpsilon: 0.001\n",
            "Episode 3300\tAverage reward: 12.01\tEpsilon: 0.001\n",
            "Episode 3400\tAverage reward: 12.07\tEpsilon: 0.001\n",
            "Episode 3500\tAverage reward: 12.12\tEpsilon: 0.001\n",
            "Episode 3600\tAverage reward: 12.17\tEpsilon: 0.001\n"
          ]
        },
        {
          "output_type": "display_data",
          "data": {
            "text/plain": [
              "  0%|          | 0/3600 [00:00<?, ?it/s]"
            ],
            "application/vnd.jupyter.widget-view+json": {
              "version_major": 2,
              "version_minor": 0,
              "model_id": "1354af9670d54fa8be457489e8fb6468"
            }
          },
          "metadata": {}
        },
        {
          "output_type": "stream",
          "name": "stdout",
          "text": [
            "Episode 100\tAverage reward: 10.60\tEpsilon: 0.606\n",
            "Episode 200\tAverage reward: 10.67\tEpsilon: 0.367\n",
            "Episode 300\tAverage reward: 10.70\tEpsilon: 0.222\n",
            "Episode 400\tAverage reward: 10.78\tEpsilon: 0.135\n",
            "Episode 500\tAverage reward: 10.84\tEpsilon: 0.082\n",
            "Episode 600\tAverage reward: 10.88\tEpsilon: 0.049\n",
            "Episode 700\tAverage reward: 10.93\tEpsilon: 0.030\n",
            "Episode 800\tAverage reward: 10.99\tEpsilon: 0.018\n",
            "Episode 900\tAverage reward: 11.03\tEpsilon: 0.011\n",
            "Episode 1000\tAverage reward: 11.07\tEpsilon: 0.007\n",
            "Episode 1100\tAverage reward: 11.11\tEpsilon: 0.004\n",
            "Episode 1200\tAverage reward: 11.15\tEpsilon: 0.002\n",
            "Episode 1300\tAverage reward: 11.19\tEpsilon: 0.001\n",
            "Episode 1400\tAverage reward: 11.24\tEpsilon: 0.001\n",
            "Episode 1500\tAverage reward: 11.28\tEpsilon: 0.001\n",
            "Episode 1600\tAverage reward: 11.32\tEpsilon: 0.001\n",
            "Episode 1700\tAverage reward: 11.34\tEpsilon: 0.001\n",
            "Episode 1800\tAverage reward: 11.38\tEpsilon: 0.001\n",
            "Episode 1900\tAverage reward: 11.40\tEpsilon: 0.001\n",
            "Episode 2000\tAverage reward: 11.43\tEpsilon: 0.001\n",
            "Episode 2100\tAverage reward: 11.45\tEpsilon: 0.001\n",
            "Episode 2200\tAverage reward: 11.46\tEpsilon: 0.001\n",
            "Episode 2300\tAverage reward: 11.48\tEpsilon: 0.001\n",
            "Episode 2400\tAverage reward: 11.50\tEpsilon: 0.001\n",
            "Episode 2500\tAverage reward: 11.51\tEpsilon: 0.001\n",
            "Episode 2600\tAverage reward: 11.54\tEpsilon: 0.001\n",
            "Episode 2700\tAverage reward: 11.56\tEpsilon: 0.001\n",
            "Episode 2800\tAverage reward: 11.60\tEpsilon: 0.001\n",
            "Episode 2900\tAverage reward: 11.62\tEpsilon: 0.001\n",
            "Episode 3000\tAverage reward: 11.66\tEpsilon: 0.001\n",
            "Episode 3100\tAverage reward: 11.70\tEpsilon: 0.001\n",
            "Episode 3200\tAverage reward: 11.73\tEpsilon: 0.001\n",
            "Episode 3300\tAverage reward: 11.77\tEpsilon: 0.001\n",
            "Episode 3400\tAverage reward: 11.82\tEpsilon: 0.001\n",
            "Episode 3500\tAverage reward: 11.88\tEpsilon: 0.001\n",
            "Episode 3600\tAverage reward: 11.93\tEpsilon: 0.001\n"
          ]
        },
        {
          "output_type": "display_data",
          "data": {
            "text/plain": [
              "  0%|          | 0/3600 [00:00<?, ?it/s]"
            ],
            "application/vnd.jupyter.widget-view+json": {
              "version_major": 2,
              "version_minor": 0,
              "model_id": "3e2a046b4e3a4155a0015622376d0619"
            }
          },
          "metadata": {}
        },
        {
          "output_type": "stream",
          "name": "stdout",
          "text": [
            "Episode 100\tAverage reward: 10.43\tEpsilon: 0.606\n",
            "Episode 200\tAverage reward: 10.59\tEpsilon: 0.367\n",
            "Episode 300\tAverage reward: 10.66\tEpsilon: 0.222\n",
            "Episode 400\tAverage reward: 10.73\tEpsilon: 0.135\n",
            "Episode 500\tAverage reward: 10.81\tEpsilon: 0.082\n",
            "Episode 600\tAverage reward: 10.86\tEpsilon: 0.049\n",
            "Episode 700\tAverage reward: 10.92\tEpsilon: 0.030\n",
            "Episode 800\tAverage reward: 10.99\tEpsilon: 0.018\n",
            "Episode 900\tAverage reward: 11.04\tEpsilon: 0.011\n",
            "Episode 1000\tAverage reward: 11.09\tEpsilon: 0.007\n",
            "Episode 1100\tAverage reward: 11.12\tEpsilon: 0.004\n",
            "Episode 1200\tAverage reward: 11.15\tEpsilon: 0.002\n",
            "Episode 1300\tAverage reward: 11.19\tEpsilon: 0.001\n",
            "Episode 1400\tAverage reward: 11.23\tEpsilon: 0.001\n",
            "Episode 1500\tAverage reward: 11.28\tEpsilon: 0.001\n",
            "Episode 1600\tAverage reward: 11.32\tEpsilon: 0.001\n",
            "Episode 1700\tAverage reward: 11.35\tEpsilon: 0.001\n",
            "Episode 1800\tAverage reward: 11.38\tEpsilon: 0.001\n",
            "Episode 1900\tAverage reward: 11.41\tEpsilon: 0.001\n",
            "Episode 2000\tAverage reward: 11.44\tEpsilon: 0.001\n",
            "Episode 2100\tAverage reward: 11.46\tEpsilon: 0.001\n",
            "Episode 2200\tAverage reward: 11.49\tEpsilon: 0.001\n",
            "Episode 2300\tAverage reward: 11.51\tEpsilon: 0.001\n",
            "Episode 2400\tAverage reward: 11.54\tEpsilon: 0.001\n",
            "Episode 2500\tAverage reward: 11.56\tEpsilon: 0.001\n",
            "Episode 2600\tAverage reward: 11.60\tEpsilon: 0.001\n",
            "Episode 2700\tAverage reward: 11.64\tEpsilon: 0.001\n",
            "Episode 2800\tAverage reward: 11.67\tEpsilon: 0.001\n",
            "Episode 2900\tAverage reward: 11.72\tEpsilon: 0.001\n",
            "Episode 3000\tAverage reward: 11.77\tEpsilon: 0.001\n",
            "Episode 3100\tAverage reward: 11.82\tEpsilon: 0.001\n",
            "Episode 3200\tAverage reward: 11.86\tEpsilon: 0.001\n",
            "Episode 3300\tAverage reward: 11.90\tEpsilon: 0.001\n",
            "Episode 3400\tAverage reward: 11.95\tEpsilon: 0.001\n",
            "Episode 3500\tAverage reward: 12.00\tEpsilon: 0.001\n",
            "Episode 3600\tAverage reward: 12.05\tEpsilon: 0.001\n"
          ]
        }
      ]
    },
    {
      "cell_type": "markdown",
      "source": [
        "### Evaluating"
      ],
      "metadata": {
        "id": "A2WyoVzedc-p"
      }
    },
    {
      "cell_type": "code",
      "source": [
        "dqn_merge_cnn.env.config['policy_frequency'] = 10\n",
        "sum_rewards = dqn_merge_cnn.evaluation(video_path+\"merge_observation_CNN.mp4\", evaluate_type='observation',\n",
        "                                                                                  iter_num=2, evaluate_episode_num=2000, use_saved_model=True)\n",
        "print('\\n\\nSum rewards in one EPISODE:', sum_rewards)"
      ],
      "metadata": {
        "colab": {
          "base_uri": "https://localhost:8080/"
        },
        "id": "HMJveqYgr84E",
        "outputId": "a1b89395-91aa-4445-930b-2d65b67039e0"
      },
      "execution_count": null,
      "outputs": [
        {
          "output_type": "stream",
          "name": "stdout",
          "text": [
            "step:187\n",
            "Moviepy - Building video /content/drive/MyDrive/RL/HW/HW5/Videos/merge_observation_CNN.mp4.\n",
            "Moviepy - Writing video /content/drive/MyDrive/RL/HW/HW5/Videos/merge_observation_CNN.mp4\n",
            "\n"
          ]
        },
        {
          "output_type": "stream",
          "name": "stderr",
          "text": []
        },
        {
          "output_type": "stream",
          "name": "stdout",
          "text": [
            "Moviepy - Done !\n",
            "Moviepy - video ready /content/drive/MyDrive/RL/HW/HW5/Videos/merge_observation_CNN.mp4\n",
            "\n",
            "\n",
            "Sum rewards in one EPISODE: 172.22935948833003\n"
          ]
        }
      ]
    },
    {
      "cell_type": "code",
      "source": [
        "show_and_plot().show_video(directory=video_path, file_name=\"merge_observation_CNN.mp4\")"
      ],
      "metadata": {
        "id": "-9M8S_N5dc-p",
        "colab": {
          "base_uri": "https://localhost:8080/",
          "height": 186
        },
        "outputId": "60eba79c-07a6-462e-d5c4-2372005638b4"
      },
      "execution_count": null,
      "outputs": [
        {
          "output_type": "display_data",
          "data": {
            "text/plain": [
              "<IPython.core.display.HTML object>"
            ],
            "text/html": [
              "<video alt=\"test\" autoplay \n",
              "                    loop controls style=\"height: 165px; width: 650px;\">\n",
              "                    <source src=\"data:video/mp4;base64,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\" type=\"video/mp4\" />\n",
              "                </video>"
            ]
          },
          "metadata": {}
        }
      ]
    },
    {
      "cell_type": "markdown",
      "source": [
        "## **Plotting**"
      ],
      "metadata": {
        "id": "JA6dZtrxdc-p"
      }
    },
    {
      "cell_type": "code",
      "source": [
        "df_reward_dqn_merge = pd.read_excel(data_path_1 + 'Episodes_reward_run_5.xlsx')\n",
        "episodes_rewards_merge = df_reward_dqn_merge.T.to_numpy()\n",
        "df_reward_dqn_merge_cnn = pd.read_excel(data_path_4 + 'Episodes_reward_run_5.xlsx')\n",
        "episodes_rewards_merge_cnn = df_reward_dqn_merge_cnn.T.to_numpy()\n",
        "\n",
        "fig, ax = plt.subplots(figsize = (12, 7.5))\n",
        "ax = show_and_plot().plot_training_result(episodes_rewards_merge, ax, title='DQN', label='Merge task with state',\n",
        "                                                                                                          window=50, stride=10, alpha=0.3)\n",
        "ax = show_and_plot().plot_training_result(episodes_rewards_merge_cnn, ax, title='DQN', label='Merge task with CNN network and observation',\n",
        "                                                                                                          window=50, stride=10, alpha=0.3)\n",
        "plt.legend()\n",
        "plt.show()\n",
        "fig.savefig(path_HW5+'Images/3-merge_cnn_observation_merge_linear_state.png', dpi=300)"
      ],
      "metadata": {
        "id": "r_ujsbY-dc-p",
        "colab": {
          "base_uri": "https://localhost:8080/",
          "height": 508
        },
        "outputId": "297d49e9-c89d-44fc-9bef-f4a8b4000da5"
      },
      "execution_count": null,
      "outputs": [
        {
          "output_type": "display_data",
          "data": {
            "text/plain": [
              "<Figure size 864x540 with 1 Axes>"
            ],
            "image/png": "[encoded data removed]"
          },
          "metadata": {}
        }
      ]
    },
    {
      "cell_type": "markdown",
      "source": [
        "## **Checking statistical significance**"
      ],
      "metadata": {
        "id": "t2HkaQT0Dvrj"
      }
    },
    {
      "cell_type": "code",
      "source": [
        "t_test = ttest_ind(np.mean(episodes_rewards_merge, axis=0), np.mean(episodes_rewards_merge_cnn, axis=0))\n",
        "print(\"P-value between two Average rewards is:\", t_test.pvalue)"
      ],
      "metadata": {
        "id": "CmVznXhroXIR",
        "colab": {
          "base_uri": "https://localhost:8080/"
        },
        "outputId": "62dfa5ac-1bcd-417d-a0fc-355db143962b"
      },
      "execution_count": null,
      "outputs": [
        {
          "output_type": "stream",
          "name": "stdout",
          "text": [
            "P-value between two Average rewards is: 2.9517602053983205e-49\n"
          ]
        }
      ]
    },
    {
      "cell_type": "code",
      "source": [],
      "metadata": {
        "id": "rlD4KrWvCtYi"
      },
      "execution_count": null,
      "outputs": []
    }
  ]
}
